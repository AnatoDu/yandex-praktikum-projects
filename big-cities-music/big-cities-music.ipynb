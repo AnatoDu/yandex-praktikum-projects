{
 "cells": [
  {
   "cell_type": "markdown",
   "metadata": {
    "id": "E0vqbgi9ay0H"
   },
   "source": [
    "# Яндекс.Музыка"
   ]
  },
  {
   "cell_type": "markdown",
   "metadata": {
    "id": "VUC88oWjTJw2"
   },
   "source": [
    "Сравнение Москвы и Петербурга окружено мифами. Например:\n",
    " * Москва — мегаполис, подчинённый жёсткому ритму рабочей недели;\n",
    " * Петербург — культурная столица, со своими вкусами.\n",
    "\n",
    "На данных Яндекс.Музыки сравним поведение пользователей двух столиц.\n",
    "\n",
    "**Цель исследования** — проверить четыре гипотезы:\n",
    "1. Активность пользователей зависит от дня недели. Причём в Москве и Петербурге это проявляется по-разному.\n",
    "2. В понедельник утром в Москве преобладают одни жанры, а в Петербурге — другие. Так же и вечером пятницы преобладают разные жанры — в зависимости от города. \n",
    "3. Москва и Петербург предпочитают разные жанры музыки. В Москве чаще слушают поп-музыку, в Петербурге — русский рэп.\n",
    "4. У Москвы и Петербурга есть и общее: в рабочее время классическая музыка прослушивается больше, чем утром или вечером.\n",
    "\n",
    "**Ход исследования**\n",
    "\n",
    "Данные о поведении пользователей получим из файла `yandex_music_project.csv`. О качестве данных ничего не известно. Поэтому перед проверкой гипотез понадобится обзор данных. \n",
    "\n",
    "Проверим данные на ошибки и оценим их влияние на исследование. Затем, на этапе предобработки поищем возможность исправить самые критичные ошибки данных.\n",
    " \n",
    "Таким образом, исследование пройдёт по следующему плану:\n",
    "\n",
    "1. [Обзор данных.](#overview)\n",
    "2. [Предобработка данных.](#preprocessing)\n",
    "    1. [Стиль заголовков.](#titles)\n",
    "    2. [Пропуски значений.](#null)\n",
    "    3. [Дубликаты.](#duplicates) \n",
    "3. [Проверка гипотез.](#hipoteses)\n",
    "    1. [Сравнение поведения пользователей.](#day)\n",
    "    2. [Музыка в начале и в конце недели.](#week)\n",
    "    3. [Жанровые предпочтения.](#genre)\n",
    "    4. [Рабочая музыка.](#classical)\n",
    "4. [Итоги исследования.](#review)\n",
    "\n"
   ]
  },
  {
   "cell_type": "markdown",
   "metadata": {
    "id": "Ml1hmfXC_Zcs"
   },
   "source": [
    "## Обзор данных\n",
    "\n",
    "<a id='overview'></a>\n",
    "Составим первое представление о данных Яндекс.Музыки.\n",
    "\n",
    "\n"
   ]
  },
  {
   "cell_type": "markdown",
   "metadata": {
    "id": "57eAOGIz_Zcs"
   },
   "source": [
    "Основной инструмент аналитика — `pandas`. Импортируем эту библиотеку, а также библиотеки, которые понадобятся для визуализации данных."
   ]
  },
  {
   "cell_type": "code",
   "execution_count": 1,
   "metadata": {
    "id": "AXN7PHPN_Zcs"
   },
   "outputs": [],
   "source": [
    "import pandas as pd\n",
    "import seaborn as sns\n",
    "import matplotlib.pyplot as plt"
   ]
  },
  {
   "cell_type": "markdown",
   "metadata": {
    "id": "SG23P8tt_Zcs"
   },
   "source": [
    "Прочитаем файл `yandex_music_project.csv` из папки `/datasets` и сохраним его в переменной `df`:"
   ]
  },
  {
   "cell_type": "code",
   "execution_count": 2,
   "metadata": {
    "id": "fFVu7vqh_Zct"
   },
   "outputs": [],
   "source": [
    "df = pd.read_csv('/datasets/yandex_music_project.csv')"
   ]
  },
  {
   "cell_type": "markdown",
   "metadata": {
    "id": "rDoOMd3uTqnZ"
   },
   "source": [
    "Познакомимся с данными."
   ]
  },
  {
   "cell_type": "code",
   "execution_count": 3,
   "metadata": {
    "id": "oWTVX3gW_Zct"
   },
   "outputs": [
    {
     "data": {
      "text/html": [
       "<div>\n",
       "<style scoped>\n",
       "    .dataframe tbody tr th:only-of-type {\n",
       "        vertical-align: middle;\n",
       "    }\n",
       "\n",
       "    .dataframe tbody tr th {\n",
       "        vertical-align: top;\n",
       "    }\n",
       "\n",
       "    .dataframe thead th {\n",
       "        text-align: right;\n",
       "    }\n",
       "</style>\n",
       "<table border=\"1\" class=\"dataframe\">\n",
       "  <thead>\n",
       "    <tr style=\"text-align: right;\">\n",
       "      <th></th>\n",
       "      <th>userID</th>\n",
       "      <th>Track</th>\n",
       "      <th>artist</th>\n",
       "      <th>genre</th>\n",
       "      <th>City</th>\n",
       "      <th>time</th>\n",
       "      <th>Day</th>\n",
       "    </tr>\n",
       "  </thead>\n",
       "  <tbody>\n",
       "    <tr>\n",
       "      <td>0</td>\n",
       "      <td>FFB692EC</td>\n",
       "      <td>Kamigata To Boots</td>\n",
       "      <td>The Mass Missile</td>\n",
       "      <td>rock</td>\n",
       "      <td>Saint-Petersburg</td>\n",
       "      <td>20:28:33</td>\n",
       "      <td>Wednesday</td>\n",
       "    </tr>\n",
       "    <tr>\n",
       "      <td>1</td>\n",
       "      <td>55204538</td>\n",
       "      <td>Delayed Because of Accident</td>\n",
       "      <td>Andreas Rönnberg</td>\n",
       "      <td>rock</td>\n",
       "      <td>Moscow</td>\n",
       "      <td>14:07:09</td>\n",
       "      <td>Friday</td>\n",
       "    </tr>\n",
       "    <tr>\n",
       "      <td>2</td>\n",
       "      <td>20EC38</td>\n",
       "      <td>Funiculì funiculà</td>\n",
       "      <td>Mario Lanza</td>\n",
       "      <td>pop</td>\n",
       "      <td>Saint-Petersburg</td>\n",
       "      <td>20:58:07</td>\n",
       "      <td>Wednesday</td>\n",
       "    </tr>\n",
       "    <tr>\n",
       "      <td>3</td>\n",
       "      <td>A3DD03C9</td>\n",
       "      <td>Dragons in the Sunset</td>\n",
       "      <td>Fire + Ice</td>\n",
       "      <td>folk</td>\n",
       "      <td>Saint-Petersburg</td>\n",
       "      <td>08:37:09</td>\n",
       "      <td>Monday</td>\n",
       "    </tr>\n",
       "    <tr>\n",
       "      <td>4</td>\n",
       "      <td>E2DC1FAE</td>\n",
       "      <td>Soul People</td>\n",
       "      <td>Space Echo</td>\n",
       "      <td>dance</td>\n",
       "      <td>Moscow</td>\n",
       "      <td>08:34:34</td>\n",
       "      <td>Monday</td>\n",
       "    </tr>\n",
       "    <tr>\n",
       "      <td>5</td>\n",
       "      <td>842029A1</td>\n",
       "      <td>Преданная</td>\n",
       "      <td>IMPERVTOR</td>\n",
       "      <td>rusrap</td>\n",
       "      <td>Saint-Petersburg</td>\n",
       "      <td>13:09:41</td>\n",
       "      <td>Friday</td>\n",
       "    </tr>\n",
       "    <tr>\n",
       "      <td>6</td>\n",
       "      <td>4CB90AA5</td>\n",
       "      <td>True</td>\n",
       "      <td>Roman Messer</td>\n",
       "      <td>dance</td>\n",
       "      <td>Moscow</td>\n",
       "      <td>13:00:07</td>\n",
       "      <td>Wednesday</td>\n",
       "    </tr>\n",
       "    <tr>\n",
       "      <td>7</td>\n",
       "      <td>F03E1C1F</td>\n",
       "      <td>Feeling This Way</td>\n",
       "      <td>Polina Griffith</td>\n",
       "      <td>dance</td>\n",
       "      <td>Moscow</td>\n",
       "      <td>20:47:49</td>\n",
       "      <td>Wednesday</td>\n",
       "    </tr>\n",
       "    <tr>\n",
       "      <td>8</td>\n",
       "      <td>8FA1D3BE</td>\n",
       "      <td>И вновь продолжается бой</td>\n",
       "      <td>NaN</td>\n",
       "      <td>ruspop</td>\n",
       "      <td>Moscow</td>\n",
       "      <td>09:17:40</td>\n",
       "      <td>Friday</td>\n",
       "    </tr>\n",
       "    <tr>\n",
       "      <td>9</td>\n",
       "      <td>E772D5C0</td>\n",
       "      <td>Pessimist</td>\n",
       "      <td>NaN</td>\n",
       "      <td>dance</td>\n",
       "      <td>Saint-Petersburg</td>\n",
       "      <td>21:20:49</td>\n",
       "      <td>Wednesday</td>\n",
       "    </tr>\n",
       "  </tbody>\n",
       "</table>\n",
       "</div>"
      ],
      "text/plain": [
       "     userID                        Track            artist   genre  \\\n",
       "0  FFB692EC            Kamigata To Boots  The Mass Missile    rock   \n",
       "1  55204538  Delayed Because of Accident  Andreas Rönnberg    rock   \n",
       "2    20EC38            Funiculì funiculà       Mario Lanza     pop   \n",
       "3  A3DD03C9        Dragons in the Sunset        Fire + Ice    folk   \n",
       "4  E2DC1FAE                  Soul People        Space Echo   dance   \n",
       "5  842029A1                    Преданная         IMPERVTOR  rusrap   \n",
       "6  4CB90AA5                         True      Roman Messer   dance   \n",
       "7  F03E1C1F             Feeling This Way   Polina Griffith   dance   \n",
       "8  8FA1D3BE     И вновь продолжается бой               NaN  ruspop   \n",
       "9  E772D5C0                    Pessimist               NaN   dance   \n",
       "\n",
       "             City        time        Day  \n",
       "0  Saint-Petersburg  20:28:33  Wednesday  \n",
       "1            Moscow  14:07:09     Friday  \n",
       "2  Saint-Petersburg  20:58:07  Wednesday  \n",
       "3  Saint-Petersburg  08:37:09     Monday  \n",
       "4            Moscow  08:34:34     Monday  \n",
       "5  Saint-Petersburg  13:09:41     Friday  \n",
       "6            Moscow  13:00:07  Wednesday  \n",
       "7            Moscow  20:47:49  Wednesday  \n",
       "8            Moscow  09:17:40     Friday  \n",
       "9  Saint-Petersburg  21:20:49  Wednesday  "
      ]
     },
     "metadata": {},
     "output_type": "display_data"
    },
    {
     "data": {
      "text/html": [
       "<div>\n",
       "<style scoped>\n",
       "    .dataframe tbody tr th:only-of-type {\n",
       "        vertical-align: middle;\n",
       "    }\n",
       "\n",
       "    .dataframe tbody tr th {\n",
       "        vertical-align: top;\n",
       "    }\n",
       "\n",
       "    .dataframe thead th {\n",
       "        text-align: right;\n",
       "    }\n",
       "</style>\n",
       "<table border=\"1\" class=\"dataframe\">\n",
       "  <thead>\n",
       "    <tr style=\"text-align: right;\">\n",
       "      <th></th>\n",
       "      <th>userID</th>\n",
       "      <th>Track</th>\n",
       "      <th>artist</th>\n",
       "      <th>genre</th>\n",
       "      <th>City</th>\n",
       "      <th>time</th>\n",
       "      <th>Day</th>\n",
       "    </tr>\n",
       "  </thead>\n",
       "  <tbody>\n",
       "    <tr>\n",
       "      <td>65069</td>\n",
       "      <td>BE1AAD74</td>\n",
       "      <td>Waterwalk</td>\n",
       "      <td>Eduardo Gonzales</td>\n",
       "      <td>electronic</td>\n",
       "      <td>Moscow</td>\n",
       "      <td>20:38:59</td>\n",
       "      <td>Monday</td>\n",
       "    </tr>\n",
       "    <tr>\n",
       "      <td>65070</td>\n",
       "      <td>49F35D53</td>\n",
       "      <td>Ass Up</td>\n",
       "      <td>Rameez</td>\n",
       "      <td>dance</td>\n",
       "      <td>Moscow</td>\n",
       "      <td>14:08:58</td>\n",
       "      <td>Friday</td>\n",
       "    </tr>\n",
       "    <tr>\n",
       "      <td>65071</td>\n",
       "      <td>92378E24</td>\n",
       "      <td>Swing it Like You Mean it</td>\n",
       "      <td>OJOJOJ</td>\n",
       "      <td>techno</td>\n",
       "      <td>Moscow</td>\n",
       "      <td>21:12:56</td>\n",
       "      <td>Friday</td>\n",
       "    </tr>\n",
       "    <tr>\n",
       "      <td>65072</td>\n",
       "      <td>C532021D</td>\n",
       "      <td>We Can Not Be Silenced</td>\n",
       "      <td>Pänzer</td>\n",
       "      <td>extrememetal</td>\n",
       "      <td>Moscow</td>\n",
       "      <td>08:38:24</td>\n",
       "      <td>Friday</td>\n",
       "    </tr>\n",
       "    <tr>\n",
       "      <td>65073</td>\n",
       "      <td>83A474E7</td>\n",
       "      <td>I Worship Only What You Bleed</td>\n",
       "      <td>The Black Dahlia Murder</td>\n",
       "      <td>extrememetal</td>\n",
       "      <td>Moscow</td>\n",
       "      <td>21:07:12</td>\n",
       "      <td>Monday</td>\n",
       "    </tr>\n",
       "    <tr>\n",
       "      <td>65074</td>\n",
       "      <td>729CBB09</td>\n",
       "      <td>My Name</td>\n",
       "      <td>McLean</td>\n",
       "      <td>rnb</td>\n",
       "      <td>Moscow</td>\n",
       "      <td>13:32:28</td>\n",
       "      <td>Wednesday</td>\n",
       "    </tr>\n",
       "    <tr>\n",
       "      <td>65075</td>\n",
       "      <td>D08D4A55</td>\n",
       "      <td>Maybe One Day (feat. Black Spade)</td>\n",
       "      <td>Blu &amp; Exile</td>\n",
       "      <td>hip</td>\n",
       "      <td>Saint-Petersburg</td>\n",
       "      <td>10:00:00</td>\n",
       "      <td>Monday</td>\n",
       "    </tr>\n",
       "    <tr>\n",
       "      <td>65076</td>\n",
       "      <td>C5E3A0D5</td>\n",
       "      <td>Jalopiina</td>\n",
       "      <td>NaN</td>\n",
       "      <td>industrial</td>\n",
       "      <td>Moscow</td>\n",
       "      <td>20:09:26</td>\n",
       "      <td>Friday</td>\n",
       "    </tr>\n",
       "    <tr>\n",
       "      <td>65077</td>\n",
       "      <td>321D0506</td>\n",
       "      <td>Freight Train</td>\n",
       "      <td>Chas McDevitt</td>\n",
       "      <td>rock</td>\n",
       "      <td>Moscow</td>\n",
       "      <td>21:43:59</td>\n",
       "      <td>Friday</td>\n",
       "    </tr>\n",
       "    <tr>\n",
       "      <td>65078</td>\n",
       "      <td>3A64EF84</td>\n",
       "      <td>Tell Me Sweet Little Lies</td>\n",
       "      <td>Monica Lopez</td>\n",
       "      <td>country</td>\n",
       "      <td>Moscow</td>\n",
       "      <td>21:59:46</td>\n",
       "      <td>Friday</td>\n",
       "    </tr>\n",
       "  </tbody>\n",
       "</table>\n",
       "</div>"
      ],
      "text/plain": [
       "         userID                              Track                   artist  \\\n",
       "65069  BE1AAD74                          Waterwalk         Eduardo Gonzales   \n",
       "65070  49F35D53                             Ass Up                   Rameez   \n",
       "65071  92378E24          Swing it Like You Mean it                   OJOJOJ   \n",
       "65072  C532021D             We Can Not Be Silenced                   Pänzer   \n",
       "65073  83A474E7      I Worship Only What You Bleed  The Black Dahlia Murder   \n",
       "65074  729CBB09                            My Name                   McLean   \n",
       "65075  D08D4A55  Maybe One Day (feat. Black Spade)              Blu & Exile   \n",
       "65076  C5E3A0D5                          Jalopiina                      NaN   \n",
       "65077  321D0506                      Freight Train            Chas McDevitt   \n",
       "65078  3A64EF84          Tell Me Sweet Little Lies             Monica Lopez   \n",
       "\n",
       "              genre            City        time        Day  \n",
       "65069    electronic            Moscow  20:38:59     Monday  \n",
       "65070         dance            Moscow  14:08:58     Friday  \n",
       "65071        techno            Moscow  21:12:56     Friday  \n",
       "65072  extrememetal            Moscow  08:38:24     Friday  \n",
       "65073  extrememetal            Moscow  21:07:12     Monday  \n",
       "65074           rnb            Moscow  13:32:28  Wednesday  \n",
       "65075           hip  Saint-Petersburg  10:00:00     Monday  \n",
       "65076    industrial            Moscow  20:09:26     Friday  \n",
       "65077          rock            Moscow  21:43:59     Friday  \n",
       "65078       country            Moscow  21:59:46     Friday  "
      ]
     },
     "metadata": {},
     "output_type": "display_data"
    },
    {
     "data": {
      "text/html": [
       "<div>\n",
       "<style scoped>\n",
       "    .dataframe tbody tr th:only-of-type {\n",
       "        vertical-align: middle;\n",
       "    }\n",
       "\n",
       "    .dataframe tbody tr th {\n",
       "        vertical-align: top;\n",
       "    }\n",
       "\n",
       "    .dataframe thead th {\n",
       "        text-align: right;\n",
       "    }\n",
       "</style>\n",
       "<table border=\"1\" class=\"dataframe\">\n",
       "  <thead>\n",
       "    <tr style=\"text-align: right;\">\n",
       "      <th></th>\n",
       "      <th>userID</th>\n",
       "      <th>Track</th>\n",
       "      <th>artist</th>\n",
       "      <th>genre</th>\n",
       "      <th>City</th>\n",
       "      <th>time</th>\n",
       "      <th>Day</th>\n",
       "    </tr>\n",
       "  </thead>\n",
       "  <tbody>\n",
       "    <tr>\n",
       "      <td>35217</td>\n",
       "      <td>362C1128</td>\n",
       "      <td>Lost Here</td>\n",
       "      <td>Synkro</td>\n",
       "      <td>dance</td>\n",
       "      <td>Saint-Petersburg</td>\n",
       "      <td>13:01:54</td>\n",
       "      <td>Monday</td>\n",
       "    </tr>\n",
       "    <tr>\n",
       "      <td>31321</td>\n",
       "      <td>4F982E72</td>\n",
       "      <td>The Story</td>\n",
       "      <td>Andrew Rai</td>\n",
       "      <td>house</td>\n",
       "      <td>Saint-Petersburg</td>\n",
       "      <td>20:25:20</td>\n",
       "      <td>Wednesday</td>\n",
       "    </tr>\n",
       "    <tr>\n",
       "      <td>36918</td>\n",
       "      <td>6BA1F3CE</td>\n",
       "      <td>Wafai Delam</td>\n",
       "      <td>Sadriddin</td>\n",
       "      <td>pop</td>\n",
       "      <td>Moscow</td>\n",
       "      <td>13:58:46</td>\n",
       "      <td>Monday</td>\n",
       "    </tr>\n",
       "    <tr>\n",
       "      <td>27577</td>\n",
       "      <td>C96B3074</td>\n",
       "      <td>Is This a Trap?</td>\n",
       "      <td>NaN</td>\n",
       "      <td>miscellaneous</td>\n",
       "      <td>Moscow</td>\n",
       "      <td>20:19:23</td>\n",
       "      <td>Wednesday</td>\n",
       "    </tr>\n",
       "    <tr>\n",
       "      <td>47043</td>\n",
       "      <td>59142378</td>\n",
       "      <td>Yo</td>\n",
       "      <td>NaN</td>\n",
       "      <td>electronic</td>\n",
       "      <td>Moscow</td>\n",
       "      <td>09:08:02</td>\n",
       "      <td>Wednesday</td>\n",
       "    </tr>\n",
       "    <tr>\n",
       "      <td>53368</td>\n",
       "      <td>2859FEFA</td>\n",
       "      <td>Day In - Day Out</td>\n",
       "      <td>Nelson Riddle</td>\n",
       "      <td>jazz</td>\n",
       "      <td>Moscow</td>\n",
       "      <td>14:21:09</td>\n",
       "      <td>Wednesday</td>\n",
       "    </tr>\n",
       "    <tr>\n",
       "      <td>22770</td>\n",
       "      <td>E9CC3B82</td>\n",
       "      <td>Halala</td>\n",
       "      <td>Gevorg Martirosyan</td>\n",
       "      <td>folk</td>\n",
       "      <td>Moscow</td>\n",
       "      <td>14:20:41</td>\n",
       "      <td>Monday</td>\n",
       "    </tr>\n",
       "    <tr>\n",
       "      <td>18668</td>\n",
       "      <td>E15DB55</td>\n",
       "      <td>Combination Station</td>\n",
       "      <td>DSurr</td>\n",
       "      <td>drum</td>\n",
       "      <td>Saint-Petersburg</td>\n",
       "      <td>20:08:07</td>\n",
       "      <td>Wednesday</td>\n",
       "    </tr>\n",
       "    <tr>\n",
       "      <td>29151</td>\n",
       "      <td>55A0ABED</td>\n",
       "      <td>Минимал</td>\n",
       "      <td>NaN</td>\n",
       "      <td>dance</td>\n",
       "      <td>Moscow</td>\n",
       "      <td>20:36:09</td>\n",
       "      <td>Wednesday</td>\n",
       "    </tr>\n",
       "    <tr>\n",
       "      <td>9802</td>\n",
       "      <td>AC0FEB8A</td>\n",
       "      <td>RailRoad Camp</td>\n",
       "      <td>Alex Costa</td>\n",
       "      <td>techno</td>\n",
       "      <td>Saint-Petersburg</td>\n",
       "      <td>14:44:58</td>\n",
       "      <td>Friday</td>\n",
       "    </tr>\n",
       "  </tbody>\n",
       "</table>\n",
       "</div>"
      ],
      "text/plain": [
       "         userID                Track              artist          genre  \\\n",
       "35217  362C1128            Lost Here              Synkro          dance   \n",
       "31321  4F982E72            The Story          Andrew Rai          house   \n",
       "36918  6BA1F3CE          Wafai Delam           Sadriddin            pop   \n",
       "27577  C96B3074      Is This a Trap?                 NaN  miscellaneous   \n",
       "47043  59142378                   Yo                 NaN     electronic   \n",
       "53368  2859FEFA     Day In - Day Out       Nelson Riddle           jazz   \n",
       "22770  E9CC3B82               Halala  Gevorg Martirosyan           folk   \n",
       "18668   E15DB55  Combination Station               DSurr           drum   \n",
       "29151  55A0ABED              Минимал                 NaN          dance   \n",
       "9802   AC0FEB8A        RailRoad Camp          Alex Costa         techno   \n",
       "\n",
       "                 City        time        Day  \n",
       "35217  Saint-Petersburg  13:01:54     Monday  \n",
       "31321  Saint-Petersburg  20:25:20  Wednesday  \n",
       "36918            Moscow  13:58:46     Monday  \n",
       "27577            Moscow  20:19:23  Wednesday  \n",
       "47043            Moscow  09:08:02  Wednesday  \n",
       "53368            Moscow  14:21:09  Wednesday  \n",
       "22770            Moscow  14:20:41     Monday  \n",
       "18668  Saint-Petersburg  20:08:07  Wednesday  \n",
       "29151            Moscow  20:36:09  Wednesday  \n",
       "9802   Saint-Petersburg  14:44:58     Friday  "
      ]
     },
     "metadata": {},
     "output_type": "display_data"
    }
   ],
   "source": [
    "display(df.head(10))\n",
    "display(df.tail(10))\n",
    "display(df.sample(n=10, random_state=9))"
   ]
  },
  {
   "cell_type": "markdown",
   "metadata": {
    "id": "EO73Kwic_Zct"
   },
   "source": [
    "Получим общую информацию о таблице:"
   ]
  },
  {
   "cell_type": "code",
   "execution_count": 4,
   "metadata": {
    "id": "DSf2kIb-_Zct"
   },
   "outputs": [
    {
     "name": "stdout",
     "output_type": "stream",
     "text": [
      "<class 'pandas.core.frame.DataFrame'>\n",
      "RangeIndex: 65079 entries, 0 to 65078\n",
      "Data columns (total 7 columns):\n",
      "  userID    65079 non-null object\n",
      "Track       63848 non-null object\n",
      "artist      57876 non-null object\n",
      "genre       63881 non-null object\n",
      "  City      65079 non-null object\n",
      "time        65079 non-null object\n",
      "Day         65079 non-null object\n",
      "dtypes: object(7)\n",
      "memory usage: 3.5+ MB\n"
     ]
    }
   ],
   "source": [
    "df.info()"
   ]
  },
  {
   "cell_type": "markdown",
   "metadata": {
    "id": "TaQ2Iwbr_Zct"
   },
   "source": [
    "Итак, в таблице семь столбцов. Тип данных во всех столбцах — `object`.\n",
    "\n",
    "Согласно документации к данным:\n",
    "* `userID` — идентификатор пользователя;\n",
    "* `Track` — название трека;  \n",
    "* `artist` — имя исполнителя;\n",
    "* `genre` — название жанра;\n",
    "* `City` — город пользователя;\n",
    "* `time` — время начала прослушивания;\n",
    "* `Day` — день недели.\n",
    "\n",
    "В названиях колонок видны три нарушения стиля:\n",
    "1. Строчные буквы сочетаются с прописными.\n",
    "2. Встречаются пробелы.\n",
    "3. Названия не полностью описывают, что хранится в столбце.\n",
    "\n",
    "\n",
    "\n",
    "Количество значений в столбцах различается. Значит, в данных есть пропущенные значения.\n"
   ]
  },
  {
   "cell_type": "markdown",
   "metadata": {
    "id": "MCB6-dXG_Zct"
   },
   "source": [
    "**Выводы**\n",
    "\n",
    "В каждой строке таблицы — данные о прослушанном треке. Часть колонок описывает саму композицию: название, исполнителя и жанр. Остальные данные рассказывают о пользователе: из какого он города, когда он слушал музыку. \n",
    "\n",
    "Предварительно можно утверждать, что данных достаточно для проверки гипотез. Но встречаются пропуски в данных, а в названиях колонок — расхождения с хорошим стилем.\n",
    "\n",
    "Чтобы двигаться дальше, нужно устранить проблемы в данных."
   ]
  },
  {
   "cell_type": "markdown",
   "metadata": {
    "id": "SjYF6Ub9_Zct"
   },
   "source": [
    "## Предобработка данных\n",
    "\n",
    "<a id='preprocessing'></a>\n",
    "Исправим стиль в заголовках столбцов, исключим пропуски. Затем проверим данные на дубликаты."
   ]
  },
  {
   "cell_type": "markdown",
   "metadata": {
    "id": "dIaKXr29_Zct"
   },
   "source": [
    "### Стиль заголовков\n",
    "\n",
    "<a id='titles'></a>\n",
    "Выведем на экран названия столбцов:"
   ]
  },
  {
   "cell_type": "code",
   "execution_count": 5,
   "metadata": {
    "id": "oKOTdF_Q_Zct"
   },
   "outputs": [
    {
     "name": "stdout",
     "output_type": "stream",
     "text": [
      "Index(['  userID', 'Track', 'artist', 'genre', '  City  ', 'time', 'Day'], dtype='object')\n"
     ]
    }
   ],
   "source": [
    "print(df.columns)"
   ]
  },
  {
   "cell_type": "markdown",
   "metadata": {
    "id": "zj5534cv_Zct"
   },
   "source": [
    "Приведём названия в соответствие с хорошим стилем:\n",
    "* несколько слов в названии запишем в «змеином_регистре»,\n",
    "* все символы сделаем строчными,\n",
    "* устраним пробелы.\n",
    "\n",
    "Для этого переименуем колонки так:\n",
    "* `'  userID'` → `'user_id'`;\n",
    "* `'Track'` → `'track'`;\n",
    "* `'  City  '` → `'city'`;\n",
    "* `'Day'` → `'day'`."
   ]
  },
  {
   "cell_type": "code",
   "execution_count": 6,
   "metadata": {
    "id": "ISlFqs5y_Zct"
   },
   "outputs": [],
   "source": [
    "df = df.rename(columns={'  userID': 'user_id',\n",
    "                       'Track': 'track',\n",
    "                       '  City  ': 'city',\n",
    "                       'Day': 'day'})"
   ]
  },
  {
   "cell_type": "markdown",
   "metadata": {
    "id": "1dqbh00J_Zct"
   },
   "source": [
    "Проверим результат. Для этого ещё раз выведем на экран названия столбцов:"
   ]
  },
  {
   "cell_type": "code",
   "execution_count": 7,
   "metadata": {
    "id": "d4NOAmTW_Zct"
   },
   "outputs": [
    {
     "name": "stdout",
     "output_type": "stream",
     "text": [
      "Index(['user_id', 'track', 'artist', 'genre', 'city', 'time', 'day'], dtype='object')\n"
     ]
    }
   ],
   "source": [
    "print(df.columns)"
   ]
  },
  {
   "cell_type": "markdown",
   "metadata": {
    "id": "5ISfbcfY_Zct"
   },
   "source": [
    "### Пропуски значений\n",
    "\n",
    "<a id='null'></a>\n",
    "Сначала посчитаем, сколько в таблице пропущенных значений. Для этого достаточно двух методов `pandas`:"
   ]
  },
  {
   "cell_type": "code",
   "execution_count": 8,
   "metadata": {
    "id": "RskX29qr_Zct"
   },
   "outputs": [
    {
     "name": "stdout",
     "output_type": "stream",
     "text": [
      "user_id       0\n",
      "track      1231\n",
      "artist     7203\n",
      "genre      1198\n",
      "city          0\n",
      "time          0\n",
      "day           0\n",
      "dtype: int64\n"
     ]
    }
   ],
   "source": [
    "print(df.isna().sum())"
   ]
  },
  {
   "cell_type": "markdown",
   "metadata": {
    "id": "qubhgnlO_Zct"
   },
   "source": [
    "Не все пропущенные значения влияют на исследование. Так в `track` и `artist` пропуски не важны для нашей работы. Достаточно заменить их явными обозначениями.\n",
    "\n",
    "Но пропуски в `genre` могут помешать сравнению музыкальных вкусов в Москве и Санкт-Петербурге. На практике было бы правильно установить причину пропусков и восстановить данные. Такой возможности нет в учебном проекте. Придётся:\n",
    "* заполнить и эти пропуски явными обозначениями,\n",
    "* оценить, насколько они повредят расчётам. "
   ]
  },
  {
   "cell_type": "markdown",
   "metadata": {
    "id": "fSv2laPA_Zct"
   },
   "source": [
    "Заменим пропущенные значения в столбцах `track`, `artist` и `genre` на строку `'unknown'`. Для этого создадим список `columns_to_replace`, переберём его элементы циклом `for` и для каждого столбца выполним замену пропущенных значений:"
   ]
  },
  {
   "cell_type": "code",
   "execution_count": 9,
   "metadata": {
    "id": "KplB5qWs_Zct"
   },
   "outputs": [],
   "source": [
    "column_to_replace = ['track', 'artist', 'genre']\n",
    "\n",
    "for column in column_to_replace:\n",
    "    df[column] = df[column].fillna('unknown')"
   ]
  },
  {
   "cell_type": "markdown",
   "metadata": {
    "id": "Ilsm-MZo_Zct"
   },
   "source": [
    "Убедимся, что в таблице не осталось пропусков. Для этого ещё раз посчитаем пропущенные значения."
   ]
  },
  {
   "cell_type": "code",
   "execution_count": 10,
   "metadata": {
    "id": "Tq4nYRX4_Zct"
   },
   "outputs": [
    {
     "name": "stdout",
     "output_type": "stream",
     "text": [
      "user_id    0\n",
      "track      0\n",
      "artist     0\n",
      "genre      0\n",
      "city       0\n",
      "time       0\n",
      "day        0\n",
      "dtype: int64\n"
     ]
    }
   ],
   "source": [
    "print(df.isna().sum())"
   ]
  },
  {
   "cell_type": "markdown",
   "metadata": {
    "id": "BWKRtBJ3_Zct"
   },
   "source": [
    "### Дубликаты\n",
    "\n",
    "<a id='duplicates'></a>\n",
    "Посчитаем явные дубликаты в таблице и оценим, какую часть таблицы придётся удалить."
   ]
  },
  {
   "cell_type": "code",
   "execution_count": 11,
   "metadata": {
    "id": "36eES_S0_Zct"
   },
   "outputs": [
    {
     "data": {
      "text/plain": [
       "'Строк-дубликатов: 3826 - 5.88%'"
      ]
     },
     "execution_count": 11,
     "metadata": {},
     "output_type": "execute_result"
    }
   ],
   "source": [
    "duplicates_count = df.duplicated().sum()\n",
    "f'Строк-дубликатов: {duplicates_count} - {duplicates_count / len(df):.2%}'"
   ]
  },
  {
   "cell_type": "markdown",
   "metadata": {
    "id": "Ot25h6XR_Zct"
   },
   "source": [
    "Вызовем специальный метод `pandas`, чтобы удалить явные дубликаты:"
   ]
  },
  {
   "cell_type": "code",
   "execution_count": 12,
   "metadata": {
    "id": "exFHq6tt_Zct"
   },
   "outputs": [],
   "source": [
    "# удаление явных дубликатов с удалением старых индексов и формированием новых\n",
    "df = df.drop_duplicates().reset_index(drop=True)"
   ]
  },
  {
   "cell_type": "markdown",
   "metadata": {
    "id": "Im2YwBEG_Zct"
   },
   "source": [
    "Ещё раз посчитаем явные дубликаты в таблице — убедимся, что полностью от них избавились:"
   ]
  },
  {
   "cell_type": "code",
   "execution_count": 13,
   "metadata": {
    "id": "-8PuNWQ0_Zct"
   },
   "outputs": [
    {
     "data": {
      "text/plain": [
       "0"
      ]
     },
     "execution_count": 13,
     "metadata": {},
     "output_type": "execute_result"
    }
   ],
   "source": [
    "df.duplicated().sum()"
   ]
  },
  {
   "cell_type": "markdown",
   "metadata": {
    "id": "QlFBsxAr_Zct"
   },
   "source": [
    "Теперь избавимся от неявных дубликатов в колонке `genre`. Например, название одного и того же жанра может быть записано немного по-разному. Такие ошибки тоже повлияют на результат исследования."
   ]
  },
  {
   "cell_type": "markdown",
   "metadata": {
    "id": "eSjWwsOh_Zct"
   },
   "source": [
    "Выведем на экран список уникальных названий жанров, отсортированный в алфавитном порядке. Для этого:\n",
    "* извлечём нужный столбец датафрейма, \n",
    "* применим к нему метод сортировки,\n",
    "* для отсортированного столбца вызовем метод, который вернёт уникальные значения из столбца."
   ]
  },
  {
   "cell_type": "code",
   "execution_count": 14,
   "metadata": {
    "id": "JIUcqzZN_Zct"
   },
   "outputs": [
    {
     "name": "stdout",
     "output_type": "stream",
     "text": [
      "['acid', 'acoustic', 'action', 'adult', 'africa', 'afrikaans', 'alternative', 'alternativepunk', 'ambient', 'americana', 'animated', 'anime', 'arabesk', 'arabic', 'arena', 'argentinetango', 'art', 'audiobook', 'author', 'avantgarde', 'axé', 'baile', 'balkan', 'beats', 'bigroom', 'black', 'bluegrass', 'blues', 'bollywood', 'bossa', 'brazilian', 'breakbeat', 'breaks', 'broadway', 'cantautori', 'cantopop', 'canzone', 'caribbean', 'caucasian', 'celtic', 'chamber', 'chanson', 'children', 'chill', 'chinese', 'choral', 'christian', 'christmas', 'classical', 'classicmetal', 'club', 'colombian', 'comedy', 'conjazz', 'contemporary', 'country', 'cuban', 'dance', 'dancehall', 'dancepop', 'dark', 'death', 'deep', 'deutschrock', 'deutschspr', 'dirty', 'disco', 'dnb', 'documentary', 'downbeat', 'downtempo', 'drum', 'dub', 'dubstep', 'eastern', 'easy', 'electronic', 'electropop', 'emo', 'entehno', 'epicmetal', 'estrada', 'ethnic', 'eurofolk', 'european', 'experimental', 'extrememetal', 'fado', 'fairytail', 'film', 'fitness', 'flamenco', 'folk', 'folklore', 'folkmetal', 'folkrock', 'folktronica', 'forró', 'frankreich', 'französisch', 'french', 'funk', 'future', 'gangsta', 'garage', 'german', 'ghazal', 'gitarre', 'glitch', 'gospel', 'gothic', 'grime', 'grunge', 'gypsy', 'handsup', \"hard'n'heavy\", 'hardcore', 'hardstyle', 'hardtechno', 'hip', 'hip-hop', 'hiphop', 'historisch', 'holiday', 'hop', 'horror', 'house', 'hymn', 'idm', 'independent', 'indian', 'indie', 'indipop', 'industrial', 'inspirational', 'instrumental', 'international', 'irish', 'jam', 'japanese', 'jazz', 'jewish', 'jpop', 'jungle', 'k-pop', 'karadeniz', 'karaoke', 'kayokyoku', 'korean', 'laiko', 'latin', 'latino', 'leftfield', 'local', 'lounge', 'loungeelectronic', 'lovers', 'malaysian', 'mandopop', 'marschmusik', 'meditative', 'mediterranean', 'melodic', 'metal', 'metalcore', 'mexican', 'middle', 'minimal', 'miscellaneous', 'modern', 'mood', 'mpb', 'muslim', 'native', 'neoklassik', 'neue', 'new', 'newage', 'newwave', 'nu', 'nujazz', 'numetal', 'oceania', 'old', 'opera', 'orchestral', 'other', 'piano', 'podcasts', 'pop', 'popdance', 'popelectronic', 'popeurodance', 'poprussian', 'post', 'posthardcore', 'postrock', 'power', 'progmetal', 'progressive', 'psychedelic', 'punjabi', 'punk', 'quebecois', 'ragga', 'ram', 'rancheras', 'rap', 'rave', 'reggae', 'reggaeton', 'regional', 'relax', 'religious', 'retro', 'rhythm', 'rnb', 'rnr', 'rock', 'rockabilly', 'rockalternative', 'rockindie', 'rockother', 'romance', 'roots', 'ruspop', 'rusrap', 'rusrock', 'russian', 'salsa', 'samba', 'scenic', 'schlager', 'self', 'sertanejo', 'shanson', 'shoegazing', 'showtunes', 'singer', 'ska', 'skarock', 'slow', 'smooth', 'soft', 'soul', 'soulful', 'sound', 'soundtrack', 'southern', 'specialty', 'speech', 'spiritual', 'sport', 'stonerrock', 'surf', 'swing', 'synthpop', 'synthrock', 'sängerportrait', 'tango', 'tanzorchester', 'taraftar', 'tatar', 'tech', 'techno', 'teen', 'thrash', 'top', 'traditional', 'tradjazz', 'trance', 'tribal', 'trip', 'triphop', 'tropical', 'türk', 'türkçe', 'ukrrock', 'unknown', 'urban', 'uzbek', 'variété', 'vi', 'videogame', 'vocal', 'western', 'world', 'worldbeat', 'ïîï', 'электроника']\n"
     ]
    }
   ],
   "source": [
    "print(sorted(df['genre'].unique()))"
   ]
  },
  {
   "cell_type": "markdown",
   "metadata": {
    "id": "qej-Qmuo_Zct"
   },
   "source": [
    "Просмотрим список и найдём неявные дубликаты названия `hiphop`. Это могут быть названия с ошибками или альтернативные названия того же жанра.\n",
    "\n",
    "Можно увидеть следующие неявные дубликаты:\n",
    "* *hip*,\n",
    "* *hop*,\n",
    "* *hip-hop*.\n",
    "\n",
    "Чтобы очистить от них таблицу, напишем функцию `replace_wrong_genres()` с двумя параметрами: \n",
    "* `wrong_genres` — список дубликатов,\n",
    "* `correct_genre` — строка с правильным значением.\n",
    "\n",
    "Функция должна исправить колонку `genre` в таблице `df`: заменить каждое значение из списка `wrong_genres` на значение из `correct_genre`."
   ]
  },
  {
   "cell_type": "code",
   "execution_count": 15,
   "metadata": {
    "id": "ErNDkmns_Zct"
   },
   "outputs": [],
   "source": [
    "def replace_wrong_genres(wrong_genres, correct_genre):\n",
    "    for wrong_genre in wrong_genres:\n",
    "        df['genre'] = df['genre'].replace(wrong_genre, correct_genre)"
   ]
  },
  {
   "cell_type": "markdown",
   "metadata": {
    "id": "aDoBJxbA_Zct"
   },
   "source": [
    "Вызовем `replace_wrong_genres()` и передадим ей такие аргументы, чтобы она устранила неявные дубликаты: вместо `hip`, `hop` и `hip-hop` в таблице должно быть значение `hiphop`:"
   ]
  },
  {
   "cell_type": "code",
   "execution_count": 16,
   "metadata": {
    "id": "YN5i2hpmSo09"
   },
   "outputs": [],
   "source": [
    "uncorrect = ['hip', 'hop', 'hip-hop']\n",
    "\n",
    "replace_wrong_genres(uncorrect, 'hiphop')"
   ]
  },
  {
   "cell_type": "markdown",
   "metadata": {
    "id": "zQKF16_RG15m"
   },
   "source": [
    "Проверим, что заменили неправильные названия:\n",
    "\n",
    "*   hip\n",
    "*   hop\n",
    "*   hip-hop\n",
    "\n",
    "Выведем отсортированный список уникальных значений столбца `genre`:"
   ]
  },
  {
   "cell_type": "code",
   "execution_count": 17,
   "metadata": {
    "id": "wvixALnFG15m"
   },
   "outputs": [
    {
     "name": "stdout",
     "output_type": "stream",
     "text": [
      "['acid', 'acoustic', 'action', 'adult', 'africa', 'afrikaans', 'alternative', 'alternativepunk', 'ambient', 'americana', 'animated', 'anime', 'arabesk', 'arabic', 'arena', 'argentinetango', 'art', 'audiobook', 'author', 'avantgarde', 'axé', 'baile', 'balkan', 'beats', 'bigroom', 'black', 'bluegrass', 'blues', 'bollywood', 'bossa', 'brazilian', 'breakbeat', 'breaks', 'broadway', 'cantautori', 'cantopop', 'canzone', 'caribbean', 'caucasian', 'celtic', 'chamber', 'chanson', 'children', 'chill', 'chinese', 'choral', 'christian', 'christmas', 'classical', 'classicmetal', 'club', 'colombian', 'comedy', 'conjazz', 'contemporary', 'country', 'cuban', 'dance', 'dancehall', 'dancepop', 'dark', 'death', 'deep', 'deutschrock', 'deutschspr', 'dirty', 'disco', 'dnb', 'documentary', 'downbeat', 'downtempo', 'drum', 'dub', 'dubstep', 'eastern', 'easy', 'electronic', 'electropop', 'emo', 'entehno', 'epicmetal', 'estrada', 'ethnic', 'eurofolk', 'european', 'experimental', 'extrememetal', 'fado', 'fairytail', 'film', 'fitness', 'flamenco', 'folk', 'folklore', 'folkmetal', 'folkrock', 'folktronica', 'forró', 'frankreich', 'französisch', 'french', 'funk', 'future', 'gangsta', 'garage', 'german', 'ghazal', 'gitarre', 'glitch', 'gospel', 'gothic', 'grime', 'grunge', 'gypsy', 'handsup', \"hard'n'heavy\", 'hardcore', 'hardstyle', 'hardtechno', 'hiphop', 'historisch', 'holiday', 'horror', 'house', 'hymn', 'idm', 'independent', 'indian', 'indie', 'indipop', 'industrial', 'inspirational', 'instrumental', 'international', 'irish', 'jam', 'japanese', 'jazz', 'jewish', 'jpop', 'jungle', 'k-pop', 'karadeniz', 'karaoke', 'kayokyoku', 'korean', 'laiko', 'latin', 'latino', 'leftfield', 'local', 'lounge', 'loungeelectronic', 'lovers', 'malaysian', 'mandopop', 'marschmusik', 'meditative', 'mediterranean', 'melodic', 'metal', 'metalcore', 'mexican', 'middle', 'minimal', 'miscellaneous', 'modern', 'mood', 'mpb', 'muslim', 'native', 'neoklassik', 'neue', 'new', 'newage', 'newwave', 'nu', 'nujazz', 'numetal', 'oceania', 'old', 'opera', 'orchestral', 'other', 'piano', 'podcasts', 'pop', 'popdance', 'popelectronic', 'popeurodance', 'poprussian', 'post', 'posthardcore', 'postrock', 'power', 'progmetal', 'progressive', 'psychedelic', 'punjabi', 'punk', 'quebecois', 'ragga', 'ram', 'rancheras', 'rap', 'rave', 'reggae', 'reggaeton', 'regional', 'relax', 'religious', 'retro', 'rhythm', 'rnb', 'rnr', 'rock', 'rockabilly', 'rockalternative', 'rockindie', 'rockother', 'romance', 'roots', 'ruspop', 'rusrap', 'rusrock', 'russian', 'salsa', 'samba', 'scenic', 'schlager', 'self', 'sertanejo', 'shanson', 'shoegazing', 'showtunes', 'singer', 'ska', 'skarock', 'slow', 'smooth', 'soft', 'soul', 'soulful', 'sound', 'soundtrack', 'southern', 'specialty', 'speech', 'spiritual', 'sport', 'stonerrock', 'surf', 'swing', 'synthpop', 'synthrock', 'sängerportrait', 'tango', 'tanzorchester', 'taraftar', 'tatar', 'tech', 'techno', 'teen', 'thrash', 'top', 'traditional', 'tradjazz', 'trance', 'tribal', 'trip', 'triphop', 'tropical', 'türk', 'türkçe', 'ukrrock', 'unknown', 'urban', 'uzbek', 'variété', 'vi', 'videogame', 'vocal', 'western', 'world', 'worldbeat', 'ïîï', 'электроника']\n"
     ]
    }
   ],
   "source": [
    "print(sorted(df['genre'].unique()))"
   ]
  },
  {
   "cell_type": "markdown",
   "metadata": {
    "id": "jz6a9-7HQUDd"
   },
   "source": [
    "**Выводы**\n",
    "\n",
    "Предобработка обнаружила три проблемы в данных:\n",
    "\n",
    "- нарушения в стиле заголовков,\n",
    "- пропущенные значения,\n",
    "- дубликаты — явные и неявные.\n",
    "\n",
    "Были исправлены заголовки, чтобы упростить работу с таблицей. \n",
    "\n",
    "Без дубликатов исследование станет более точным.\n",
    "\n",
    "Пропущенные значения заменены на `'unknown'`. Ещё предстоит увидеть, не повредят ли исследованию пропуски в колонке `genre`.\n",
    "\n",
    "Теперь можно перейти к проверке гипотез. "
   ]
  },
  {
   "cell_type": "markdown",
   "metadata": {
    "id": "WttZHXH0SqKk"
   },
   "source": [
    "## Проверка гипотез\n",
    "\n",
    "<a id='hipoteses'></a>"
   ]
  },
  {
   "cell_type": "markdown",
   "metadata": {
    "id": "Im936VVi_Zcu"
   },
   "source": [
    "### Сравнение поведения пользователей двух столиц\n",
    "\n",
    "<a id='days'></a>"
   ]
  },
  {
   "cell_type": "markdown",
   "metadata": {
    "id": "nwt_MuaL_Zcu"
   },
   "source": [
    "Первая гипотеза утверждает, что пользователи по-разному слушают музыку в Москве и Санкт-Петербурге. Проверим это предположение по данным о трёх днях недели — понедельнике, среде и пятнице. Для этого:\n",
    "\n",
    "* Разделим пользователей Москвы и Санкт-Петербурга\n",
    "* Сравним, сколько треков послушала каждая группа пользователей в понедельник, среду и пятницу.\n"
   ]
  },
  {
   "cell_type": "markdown",
   "metadata": {
    "id": "8Dw_YMmT_Zcu"
   },
   "source": [
    "Сначала выполним каждый из расчётов по отдельности. \n",
    "\n",
    "Оценим активность пользователей в каждом городе. Сгруппируем данные по городу и посчитаем прослушивания в каждой группе.\n",
    "\n"
   ]
  },
  {
   "cell_type": "code",
   "execution_count": 18,
   "metadata": {
    "id": "0_Qs96oh_Zcu"
   },
   "outputs": [
    {
     "data": {
      "text/plain": [
       "city\n",
       "Moscow              42741\n",
       "Saint-Petersburg    18512\n",
       "Name: user_id, dtype: int64"
      ]
     },
     "execution_count": 18,
     "metadata": {},
     "output_type": "execute_result"
    }
   ],
   "source": [
    "df.groupby('city')['user_id'].count()"
   ]
  },
  {
   "cell_type": "markdown",
   "metadata": {
    "id": "dzli3w8o_Zcu"
   },
   "source": [
    "В Москве прослушиваний больше, чем в Петербурге. Из этого не следует, что московские пользователи чаще слушают музыку. Просто самих пользователей в Москве больше.\n",
    "\n",
    "Теперь сгруппируем данные по дню недели и посчитаем прослушивания в понедельник, среду и пятницу. Учтём, что в данных есть информация только о прослушиваниях только за эти дни.\n"
   ]
  },
  {
   "cell_type": "code",
   "execution_count": 19,
   "metadata": {
    "id": "uZMKjiJz_Zcu"
   },
   "outputs": [
    {
     "data": {
      "text/plain": [
       "day\n",
       "Friday       21840\n",
       "Monday       21354\n",
       "Wednesday    18059\n",
       "Name: user_id, dtype: int64"
      ]
     },
     "execution_count": 19,
     "metadata": {},
     "output_type": "execute_result"
    }
   ],
   "source": [
    "df.groupby('day')['user_id'].count()"
   ]
  },
  {
   "cell_type": "markdown",
   "metadata": {
    "id": "cC2tNrlL_Zcu"
   },
   "source": [
    "В среднем пользователи из двух городов менее активны по средам. Но картина может измениться, если рассмотреть каждый город в отдельности."
   ]
  },
  {
   "cell_type": "markdown",
   "metadata": {
    "id": "POzs8bGa_Zcu"
   },
   "source": [
    "Стало понятно, как работает группировка по городу и по дням недели. Теперь напишем функцию, которая объединит два эти расчёта.\n",
    "\n",
    "Создадим функцию `number_tracks()`, которая посчитает прослушивания для заданного дня и города. Ей понадобятся два параметра:\n",
    "* день недели,\n",
    "* название города.\n",
    "\n",
    "В функции сохраним в переменную строки исходной таблицы, у которых значение:\n",
    "  * в колонке `day` равно параметру `day`,\n",
    "  * в колонке `city` равно параметру `city`.\n",
    "\n",
    "Для этого применим последовательную фильтрацию с логической индексацией.\n",
    "\n",
    "Затем посчитаем значения в столбце `user_id` получившейся таблицы. Результат сохраним в новую переменную. Вернём эту переменную из функции."
   ]
  },
  {
   "cell_type": "code",
   "execution_count": 20,
   "metadata": {
    "id": "Nz3GdQB1_Zcu"
   },
   "outputs": [],
   "source": [
    "def number_tracks(day, city):\n",
    "    track_list = df[(df['day'] == day) & (df['city'] == city)] \n",
    "    track_list_count = track_list['user_id'].count()\n",
    "    return track_list_count"
   ]
  },
  {
   "cell_type": "markdown",
   "metadata": {
    "id": "ytf7xFrFJQ2r"
   },
   "source": [
    "Вызовем `number_tracks()` шесть раз, меняя значение параметров — так, чтобы получить данные для каждого города в каждый из трёх дней."
   ]
  },
  {
   "cell_type": "code",
   "execution_count": 21,
   "metadata": {
    "id": "rJcRATNQ_Zcu"
   },
   "outputs": [
    {
     "data": {
      "text/plain": [
       "15740"
      ]
     },
     "execution_count": 21,
     "metadata": {},
     "output_type": "execute_result"
    }
   ],
   "source": [
    "number_tracks('Monday', 'Moscow')"
   ]
  },
  {
   "cell_type": "code",
   "execution_count": 22,
   "metadata": {
    "id": "hq_ncZ5T_Zcu"
   },
   "outputs": [
    {
     "data": {
      "text/plain": [
       "5614"
      ]
     },
     "execution_count": 22,
     "metadata": {},
     "output_type": "execute_result"
    }
   ],
   "source": [
    "number_tracks('Monday', 'Saint-Petersburg')"
   ]
  },
  {
   "cell_type": "code",
   "execution_count": 23,
   "metadata": {
    "id": "_NTy2VPU_Zcu"
   },
   "outputs": [
    {
     "data": {
      "text/plain": [
       "11056"
      ]
     },
     "execution_count": 23,
     "metadata": {},
     "output_type": "execute_result"
    }
   ],
   "source": [
    "number_tracks('Wednesday', 'Moscow')"
   ]
  },
  {
   "cell_type": "code",
   "execution_count": 24,
   "metadata": {
    "id": "j2y3TAwo_Zcu"
   },
   "outputs": [
    {
     "data": {
      "text/plain": [
       "7003"
      ]
     },
     "execution_count": 24,
     "metadata": {},
     "output_type": "execute_result"
    }
   ],
   "source": [
    "number_tracks('Wednesday', 'Saint-Petersburg')"
   ]
  },
  {
   "cell_type": "code",
   "execution_count": 25,
   "metadata": {
    "id": "vYDw5u_K_Zcu"
   },
   "outputs": [
    {
     "data": {
      "text/plain": [
       "15945"
      ]
     },
     "execution_count": 25,
     "metadata": {},
     "output_type": "execute_result"
    }
   ],
   "source": [
    "number_tracks('Friday', 'Moscow')"
   ]
  },
  {
   "cell_type": "code",
   "execution_count": 26,
   "metadata": {
    "id": "8_yzFtW3_Zcu"
   },
   "outputs": [
    {
     "data": {
      "text/plain": [
       "5895"
      ]
     },
     "execution_count": 26,
     "metadata": {},
     "output_type": "execute_result"
    }
   ],
   "source": [
    "number_tracks('Friday', 'Saint-Petersburg')"
   ]
  },
  {
   "cell_type": "markdown",
   "metadata": {
    "id": "7QXffbO-_Zcu"
   },
   "source": [
    "Создадим c помощью конструктора `pd.DataFrame` таблицу, где\n",
    "* названия колонок — `['city', 'monday', 'wednesday', 'friday']`;\n",
    "* данные — результаты, полученные с помощью `number_tracks`."
   ]
  },
  {
   "cell_type": "code",
   "execution_count": 27,
   "metadata": {
    "id": "APAcLpOr_Zcu"
   },
   "outputs": [
    {
     "data": {
      "text/html": [
       "<div>\n",
       "<style scoped>\n",
       "    .dataframe tbody tr th:only-of-type {\n",
       "        vertical-align: middle;\n",
       "    }\n",
       "\n",
       "    .dataframe tbody tr th {\n",
       "        vertical-align: top;\n",
       "    }\n",
       "\n",
       "    .dataframe thead th {\n",
       "        text-align: right;\n",
       "    }\n",
       "</style>\n",
       "<table border=\"1\" class=\"dataframe\">\n",
       "  <thead>\n",
       "    <tr style=\"text-align: right;\">\n",
       "      <th></th>\n",
       "      <th>city</th>\n",
       "      <th>monday</th>\n",
       "      <th>wednesday</th>\n",
       "      <th>friday</th>\n",
       "    </tr>\n",
       "  </thead>\n",
       "  <tbody>\n",
       "    <tr>\n",
       "      <td>0</td>\n",
       "      <td>Moscow</td>\n",
       "      <td>15740</td>\n",
       "      <td>11056</td>\n",
       "      <td>15945</td>\n",
       "    </tr>\n",
       "    <tr>\n",
       "      <td>1</td>\n",
       "      <td>Saint-Petersburg</td>\n",
       "      <td>5614</td>\n",
       "      <td>7003</td>\n",
       "      <td>5895</td>\n",
       "    </tr>\n",
       "  </tbody>\n",
       "</table>\n",
       "</div>"
      ],
      "text/plain": [
       "               city  monday  wednesday  friday\n",
       "0            Moscow   15740      11056   15945\n",
       "1  Saint-Petersburg    5614       7003    5895"
      ]
     },
     "execution_count": 27,
     "metadata": {},
     "output_type": "execute_result"
    }
   ],
   "source": [
    "data = [\n",
    "    ['Moscow', 15740, 11056, 15945],\n",
    "    ['Saint-Petersburg', 5614, 7003, 5895]\n",
    "]\n",
    "columns = ['city', 'monday', 'wednesday', 'friday']\n",
    "\n",
    "music_city_day = pd.DataFrame(data=data,columns=columns)\n",
    "music_city_day"
   ]
  },
  {
   "cell_type": "markdown",
   "metadata": {
    "id": "-EgPIHYu_Zcu"
   },
   "source": [
    "**Выводы**\n",
    "\n",
    "Данные показывают разницу поведения пользователей:\n",
    "\n",
    "- В Москве пик прослушиваний приходится на понедельник и пятницу, а в среду заметен спад.\n",
    "- В Петербурге, наоборот, больше слушают музыку по средам. Активность в понедельник и пятницу здесь почти в равной мере уступает среде.\n",
    "\n",
    "Значит, данные говорят в пользу первой гипотезы."
   ]
  },
  {
   "cell_type": "markdown",
   "metadata": {
    "id": "atZAxtq4_Zcu"
   },
   "source": [
    "### Музыка в начале и в конце недели\n",
    "\n",
    "<a id='week'></a>"
   ]
  },
  {
   "cell_type": "markdown",
   "metadata": {
    "id": "eXrQqXFH_Zcu"
   },
   "source": [
    "Согласно второй гипотезе, утром в понедельник в Москве преобладают одни жанры, а в Петербурге — другие. Так же и вечером пятницы преобладают разные жанры — в зависимости от города."
   ]
  },
  {
   "cell_type": "markdown",
   "metadata": {
    "id": "S8UcW6Hw_Zcu"
   },
   "source": [
    "Сохраним таблицы с данными в две переменные:\n",
    "* по Москве — в `moscow_general`;\n",
    "* по Санкт-Петербургу — в `spb_general`."
   ]
  },
  {
   "cell_type": "code",
   "execution_count": 28,
   "metadata": {
    "id": "ORaVRKto_Zcu"
   },
   "outputs": [],
   "source": [
    "moscow_general = df[df['city'] == 'Moscow']\n",
    "spb_general = df[df['city'] == 'Saint-Petersburg']"
   ]
  },
  {
   "cell_type": "markdown",
   "metadata": {
    "id": "MEJV-CX2_Zcu"
   },
   "source": [
    "Создадим функцию `genre_weekday()` с четырьмя параметрами:\n",
    "* таблица (датафрейм) с данными,\n",
    "* день недели,\n",
    "* начальная временная метка в формате 'hh:mm', \n",
    "* последняя временная метка в формате 'hh:mm'.\n",
    "\n",
    "Функция должна вернуть информацию о топ-10 жанров тех треков, которые прослушивали в указанный день, в промежутке между двумя отметками времени."
   ]
  },
  {
   "cell_type": "code",
   "execution_count": 29,
   "metadata": {
    "id": "laJT9BYl_Zcu"
   },
   "outputs": [],
   "source": [
    "def genre_weekday(table, day, time1, time2):\n",
    "    genre_df = table[(table['day'] == day) & (table['time'] > time1) & (table['time'] < time2)]\n",
    "    genre_df_count = genre_df.groupby('genre')['user_id'].count()\n",
    "    genre_df_sorted = genre_df_count.sort_values(ascending=False)\n",
    "    return genre_df_sorted.head(10)"
   ]
  },
  {
   "cell_type": "markdown",
   "metadata": {
    "id": "la2s2_PF_Zcu"
   },
   "source": [
    "Cравним результаты функции `genre_weekday()` для Москвы и Санкт-Петербурга в понедельник утром (с 7:00 до 11:00) и в пятницу вечером (с 17:00 до 23:00):"
   ]
  },
  {
   "cell_type": "code",
   "execution_count": 30,
   "metadata": {
    "id": "yz7itPUQ_Zcu"
   },
   "outputs": [
    {
     "data": {
      "text/plain": [
       "genre\n",
       "pop            781\n",
       "dance          549\n",
       "electronic     480\n",
       "rock           474\n",
       "hiphop         286\n",
       "ruspop         186\n",
       "world          181\n",
       "rusrap         175\n",
       "alternative    164\n",
       "unknown        161\n",
       "Name: user_id, dtype: int64"
      ]
     },
     "execution_count": 30,
     "metadata": {},
     "output_type": "execute_result"
    }
   ],
   "source": [
    "genre_weekday(moscow_general, 'Monday', '07:00', '11:00')"
   ]
  },
  {
   "cell_type": "code",
   "execution_count": 31,
   "metadata": {
    "id": "kwUcHPdy_Zcu"
   },
   "outputs": [
    {
     "data": {
      "text/plain": [
       "genre\n",
       "pop            218\n",
       "dance          182\n",
       "rock           162\n",
       "electronic     147\n",
       "hiphop          80\n",
       "ruspop          64\n",
       "alternative     58\n",
       "rusrap          55\n",
       "jazz            44\n",
       "classical       40\n",
       "Name: user_id, dtype: int64"
      ]
     },
     "execution_count": 31,
     "metadata": {},
     "output_type": "execute_result"
    }
   ],
   "source": [
    "genre_weekday(spb_general, 'Monday', '07:00', '11:00')"
   ]
  },
  {
   "cell_type": "code",
   "execution_count": 32,
   "metadata": {
    "id": "EzXVRE1o_Zcu"
   },
   "outputs": [
    {
     "data": {
      "text/plain": [
       "genre\n",
       "pop            713\n",
       "rock           517\n",
       "dance          495\n",
       "electronic     482\n",
       "hiphop         273\n",
       "world          208\n",
       "ruspop         170\n",
       "alternative    163\n",
       "classical      163\n",
       "rusrap         142\n",
       "Name: user_id, dtype: int64"
      ]
     },
     "execution_count": 32,
     "metadata": {},
     "output_type": "execute_result"
    }
   ],
   "source": [
    "genre_weekday(moscow_general, 'Friday', '17:00', '23:00')"
   ]
  },
  {
   "cell_type": "code",
   "execution_count": 33,
   "metadata": {
    "id": "JZaEKu5v_Zcu",
    "scrolled": true
   },
   "outputs": [
    {
     "data": {
      "text/plain": [
       "genre\n",
       "pop            256\n",
       "rock           216\n",
       "electronic     216\n",
       "dance          210\n",
       "hiphop          97\n",
       "alternative     63\n",
       "jazz            61\n",
       "classical       60\n",
       "rusrap          59\n",
       "world           54\n",
       "Name: user_id, dtype: int64"
      ]
     },
     "execution_count": 33,
     "metadata": {},
     "output_type": "execute_result"
    }
   ],
   "source": [
    "genre_weekday(spb_general, 'Friday', '17:00', '23:00')"
   ]
  },
  {
   "cell_type": "markdown",
   "metadata": {
    "id": "wrCe4MNX_Zcu"
   },
   "source": [
    "**Выводы**\n",
    "\n",
    "Если сравнить топ-10 жанров в понедельник утром, можно сделать такие выводы:\n",
    "\n",
    "1. В Москве и Петербурге слушают похожую музыку. Единственное отличие — в московский рейтинг вошёл жанр “world”, а в петербургский — джаз и классика.\n",
    "\n",
    "2. В Москве пропущенных значений оказалось так много, что значение `'unknown'` заняло десятое место среди самых популярных жанров. Значит, пропущенные значения занимают существенную долю в данных и угрожают достоверности исследования.\n",
    "\n",
    "Вечер пятницы не меняет эту картину. Некоторые жанры поднимаются немного выше, другие спускаются, но в целом топ-10 остаётся тем же самым.\n",
    "\n",
    "Таким образом, вторая гипотеза подтвердилась лишь частично:\n",
    "* Пользователи слушают похожую музыку в начале недели и в конце.\n",
    "* Разница между Москвой и Петербургом не слишком выражена. В Москве чаще слушают русскую популярную музыку, в Петербурге — джаз.\n",
    "\n",
    "Однако пропуски в данных ставят под сомнение этот результат. В Москве их так много, что рейтинг топ-10 мог бы выглядеть иначе, если бы не утерянные  данные о жанрах."
   ]
  },
  {
   "cell_type": "markdown",
   "metadata": {
    "id": "JolODAqr_Zcu"
   },
   "source": [
    "### Жанровые предпочтения в Москве и Петербурге\n",
    "\n",
    "<a id='genre'></a>\n",
    "Гипотеза: Петербург — столица рэпа, музыку этого жанра там слушают чаще, чем в Москве.  А Москва — город контрастов, в котором, тем не менее, преобладает поп-музыка."
   ]
  },
  {
   "cell_type": "markdown",
   "metadata": {
    "id": "DlegSvaT_Zcu"
   },
   "source": [
    "Сгруппируем таблицу `moscow_general` по жанру и посчитаем прослушивания треков каждого жанра методом `count()`. Затем отсортируем результат в порядке убывания и сохраним его в таблице `moscow_genres`."
   ]
  },
  {
   "cell_type": "code",
   "execution_count": 34,
   "metadata": {
    "id": "r19lIPke_Zcu"
   },
   "outputs": [],
   "source": [
    "moscow_genres = moscow_general.groupby('genre')['genre'].count().sort_values(ascending=False)"
   ]
  },
  {
   "cell_type": "markdown",
   "metadata": {
    "id": "6kMuomxTiIr8"
   },
   "source": [
    "Выведем на экран первые десять строк `moscow_genres`:"
   ]
  },
  {
   "cell_type": "code",
   "execution_count": 35,
   "metadata": {
    "id": "WhCSooF8_Zcv"
   },
   "outputs": [
    {
     "data": {
      "text/plain": [
       "genre\n",
       "pop            5892\n",
       "dance          4435\n",
       "rock           3965\n",
       "electronic     3786\n",
       "hiphop         2096\n",
       "classical      1616\n",
       "world          1432\n",
       "alternative    1379\n",
       "ruspop         1372\n",
       "rusrap         1161\n",
       "Name: genre, dtype: int64"
      ]
     },
     "execution_count": 35,
     "metadata": {},
     "output_type": "execute_result"
    }
   ],
   "source": [
    "moscow_genres.head(10)"
   ]
  },
  {
   "cell_type": "markdown",
   "metadata": {
    "id": "cnPG2vnN_Zcv"
   },
   "source": [
    "Теперь повторим то же и для Петербурга.\n",
    "\n",
    "Сгруппируем таблицу `spb_general` по жанру. Посчитаем прослушивания треков каждого жанра. Результат отсортируем в порядке убывания и сохраним в таблице `spb_genres`:\n"
   ]
  },
  {
   "cell_type": "code",
   "execution_count": 36,
   "metadata": {
    "id": "gluLIpE7_Zcv"
   },
   "outputs": [],
   "source": [
    "spb_genres = spb_general.groupby('genre')['genre'].count().sort_values(ascending=False)"
   ]
  },
  {
   "cell_type": "markdown",
   "metadata": {
    "id": "5Doha_ODgyQ8"
   },
   "source": [
    "Выведем на экран первые десять строк `spb_genres`:"
   ]
  },
  {
   "cell_type": "code",
   "execution_count": 37,
   "metadata": {
    "id": "uaGJHjVU_Zcv"
   },
   "outputs": [
    {
     "data": {
      "text/plain": [
       "genre\n",
       "pop            2431\n",
       "dance          1932\n",
       "rock           1879\n",
       "electronic     1736\n",
       "hiphop          960\n",
       "alternative     649\n",
       "classical       646\n",
       "rusrap          564\n",
       "ruspop          538\n",
       "world           515\n",
       "Name: genre, dtype: int64"
      ]
     },
     "execution_count": 37,
     "metadata": {},
     "output_type": "execute_result"
    }
   ],
   "source": [
    "spb_genres.head(10)"
   ]
  },
  {
   "cell_type": "markdown",
   "metadata": {
    "id": "RY51YJYu_Zcv"
   },
   "source": [
    "**Выводы**"
   ]
  },
  {
   "cell_type": "markdown",
   "metadata": {
    "id": "nVhnJEm__Zcv"
   },
   "source": [
    "Гипотеза частично подтвердилась:\n",
    "* Поп-музыка — самый популярный жанр в Москве, как и предполагала гипотеза. Более того, в топ-10 жанров встречается близкий жанр — русская популярная музыка.\n",
    "* Вопреки ожиданиям, рэп одинаково популярен в Москве и Петербурге. \n"
   ]
  },
  {
   "cell_type": "markdown",
   "metadata": {},
   "source": [
    "### Рабочая музыка\n",
    "\n",
    "<a id='classical'></a>\n",
    "Гипотеза: несмотря на некоторые жанровые отличия, и в Москве, и в Петербурге в рабочее время пользователи активнее слушают классическую музыку, так как она помогает сконцентрироваться на работе.\n",
    "\n",
    "Для проверки создадим функцию, выдающую ТОП-10 популярных жанров в заданное время по отношению ко всем прослушанным композициям. В итоговом списке храним процент жанра от всей музыки."
   ]
  },
  {
   "cell_type": "code",
   "execution_count": 38,
   "metadata": {},
   "outputs": [],
   "source": [
    "def genre_time(table, time1, time2):\n",
    "    genre_df = table[(table['time'] > time1) & (table['time'] < time2)]\n",
    "    total_count = genre_df['user_id'].count()\n",
    "    genre_df_count = genre_df.groupby('genre')['user_id'].count() / total_count * 100\n",
    "    genre_df_sorted = genre_df_count.sort_values(ascending=False)\n",
    "    return genre_df_sorted.head(10)"
   ]
  },
  {
   "cell_type": "markdown",
   "metadata": {},
   "source": [
    "Получим ТОП-10 жанров в трёх временных промежутках:\n",
    "\n",
    "- С 5:00 до 09:00\n",
    "- С 09:00 до 17:00\n",
    "- С 17:00 до 23:00"
   ]
  },
  {
   "cell_type": "code",
   "execution_count": 39,
   "metadata": {},
   "outputs": [],
   "source": [
    "moscow_morning = genre_time(moscow_general, '05:00', '09:00')\n",
    "moscow_workday = genre_time(moscow_general, '09:00', '17:00')\n",
    "moscow_evening = genre_time(moscow_general, '17:00', '23:00')\n",
    "\n",
    "spb_morning = genre_time(spb_general, '05:00', '09:00')\n",
    "spb_workday = genre_time(spb_general, '09:00', '17:00')\n",
    "spb_evening = genre_time(spb_general, '17:00', '23:00')"
   ]
  },
  {
   "cell_type": "markdown",
   "metadata": {},
   "source": [
    "Построим столбчатые диаграммы на основе полученных данных."
   ]
  },
  {
   "cell_type": "code",
   "execution_count": 40,
   "metadata": {
    "scrolled": false
   },
   "outputs": [
    {
     "data": {
      "image/png": "[encoded data removed]",
      "text/plain": [
       "<Figure size 1080x576 with 3 Axes>"
      ]
     },
     "metadata": {
      "needs_background": "light"
     },
     "output_type": "display_data"
    }
   ],
   "source": [
    "fig, axes = plt.subplots(ncols=3, figsize=(15, 8))\n",
    "\n",
    "sns.barplot(moscow_morning, moscow_morning.index, ax=axes[0])\n",
    "axes[0].set_title(\"Время: 05:00 - 09:00\");\n",
    "axes[0].set_ylabel(\"Жанры\")\n",
    "axes[0].set_xlabel(\"Прослушиваний, %\")\n",
    "\n",
    "sns.barplot(moscow_workday, moscow_workday.index, ax=axes[1])\n",
    "axes[1].set_title(\"Время: 09:00 - 17:00\");\n",
    "axes[1].set_ylabel(\"Жанры\")\n",
    "axes[1].set_xlabel(\"Прослушиваний, %\")\n",
    "\n",
    "sns.barplot(moscow_evening, moscow_evening.index, ax=axes[2])\n",
    "axes[2].set_title(\"Время: 17:00 - 23:00\");\n",
    "axes[2].set_ylabel(\"Жанры\")\n",
    "axes[2].set_xlabel(\"Прослушиваний, %\")\n",
    "\n",
    "plt.figtext(0.35, -0.05, 'ТОП-10 жанров в Москве в течение дня', fontsize='xx-large')\n",
    "plt.tight_layout()\n",
    "plt.show()"
   ]
  },
  {
   "cell_type": "code",
   "execution_count": 41,
   "metadata": {},
   "outputs": [
    {
     "data": {
      "image/png": "[encoded data removed]",
      "text/plain": [
       "<Figure size 1080x576 with 3 Axes>"
      ]
     },
     "metadata": {
      "needs_background": "light"
     },
     "output_type": "display_data"
    }
   ],
   "source": [
    "fig, axes = plt.subplots(ncols=3, figsize=(15, 8))\n",
    "\n",
    "sns.barplot(spb_morning, spb_morning.index, ax=axes[0])\n",
    "axes[0].set_title(\"Время: 05:00 - 09:00\");\n",
    "axes[0].set_ylabel(\"Жанры\")\n",
    "axes[0].set_xlabel(\"Прослушиваний, %\")\n",
    "\n",
    "sns.barplot(spb_workday, spb_workday.index, ax=axes[1])\n",
    "axes[1].set_title(\"Время: 09:00 - 17:00\");\n",
    "axes[1].set_ylabel(\"Жанры\")\n",
    "axes[1].set_xlabel(\"Прослушиваний, %\")\n",
    "\n",
    "sns.barplot(spb_evening, spb_evening.index, ax=axes[2])\n",
    "axes[2].set_title(\"Время: 17:00 - 23:00\");\n",
    "axes[2].set_ylabel(\"Жанры\")\n",
    "axes[2].set_xlabel(\"Прослушиваний, %\")\n",
    "\n",
    "plt.figtext(0.35, -0.05, 'ТОП-10 жанров в Петербурге в течение дня', fontsize='xx-large')\n",
    "plt.tight_layout()\n",
    "plt.show()"
   ]
  },
  {
   "cell_type": "markdown",
   "metadata": {
    "id": "wrCe4MNX_Zcu"
   },
   "source": [
    "**Выводы**\n",
    "\n",
    "Если сравнить топ-10 жанров в течение дня в Москве, можно сделать такие выводы:\n",
    "\n",
    "1. В течение дня топ-5 жанров остаются практически неизменными (только рок поднимается на строчку выше).\n",
    "\n",
    "2. Классическая музыка мало популярна утром, но в рабочее время резко поднимается в топе и лишь немного сдаёт позиции вечером. \n",
    "\n",
    "3. Жанры `ruspop` и `rusrap` теряют популярность по прошествии утренних часов. А жанры `alternative` и `world` напротив, поднимаются в списке.\n",
    "\n",
    "Если сравнить топ-10 жанров в течение дня в Санкт-Петербурге, можно сделать такие выводы:\n",
    "\n",
    "1. В течение дня топ-5 жанров остаются практически неизменными (только танцевальная музыка становится менее прослушиваема).\n",
    "\n",
    "2. Как и в Москве, классическая музыка мало популярна утром, но в рабочее время резко поднимается в топе и лишь немного сдаёт позиции вечером.\n",
    "\n",
    "3. Жанры `ruspop` и `rusrap` теряют популярность в течение дня. Им на смену приходят `alternative` и `jazz`.\n",
    "\n",
    "Таким образом, выдвинутая гипотеза подтвердилась:\n",
    "* Москва и Петербург несколько различаются в прослушиваемых жанрах, но классическая музыка действительна популярнее в рабочие часы в обоих городах.\n",
    "\n",
    "При сравнении позиций классической музыки в течение дня можно также предположить, что не самый значительный спад популярности жанра вечером связан именно с продолжением работы (или учебы) на дому, где классическая музыка также используется для фона и концентрации на работе."
   ]
  },
  {
   "cell_type": "markdown",
   "metadata": {
    "id": "ykKQ0N65_Zcv"
   },
   "source": [
    "## Итоги исследования\n",
    "\n",
    "<a id='review'></a>"
   ]
  },
  {
   "cell_type": "markdown",
   "metadata": {
    "id": "tjUwbHb3_Zcv"
   },
   "source": [
    "Были проверены четыре гипотезы, установлено:\n",
    "\n",
    "1. День недели по-разному влияет на активность пользователей в Москве и Петербурге.\n",
    "* в Москве пользователи активнее в понедельник и пятницу,\n",
    "* в Петербурге подъём активности наблюдается в среду.\n",
    "\n",
    "Первая гипотеза полностью подтвердилась.\n",
    "\n",
    "2. Музыкальные предпочтения не сильно меняются в течение недели — будь то Москва или Петербург. Небольшие различия заметны в начале недели, по понедельникам:\n",
    "* в Москве слушают музыку жанра “world”,\n",
    "* в Петербурге — джаз и классику.\n",
    "\n",
    "Таким образом, вторая гипотеза подтвердилась лишь отчасти. Этот результат мог оказаться иным, если бы не пропуски в данных.\n",
    "\n",
    "3. Во вкусах пользователей Москвы и Петербурга больше общего чем различий. Вопреки ожиданиям, предпочтения жанров в Петербурге напоминают московские.\n",
    "\n",
    "Третья гипотеза не подтвердилась. Если различия в предпочтениях и существуют, на основной массе пользователей они незаметны.\n",
    "\n",
    "3. Несмотря на небольшие жанровые особенности городов, классическая музыка и в Москве, и в Петербурге в рабочее время прослушивается куда чаще.\n",
    "\n",
    "Четвёртая гипотеза подтвердилась."
   ]
  },
  {
   "cell_type": "code",
   "execution_count": null,
   "metadata": {},
   "outputs": [],
   "source": []
  }
 ],
 "metadata": {
  "ExecuteTimeLog": [
   {
    "duration": 663,
    "start_time": "2021-11-10T11:42:00.795Z"
   },
   {
    "duration": 2774,
    "start_time": "2021-11-10T11:42:37.279Z"
   },
   {
    "duration": 4573,
    "start_time": "2021-11-10T11:42:48.968Z"
   },
   {
    "duration": 2908,
    "start_time": "2021-11-10T11:42:58.810Z"
   },
   {
    "duration": 153,
    "start_time": "2021-11-10T11:43:12.546Z"
   },
   {
    "duration": 8,
    "start_time": "2021-11-10T11:43:23.108Z"
   },
   {
    "duration": 25,
    "start_time": "2021-11-10T11:48:53.998Z"
   },
   {
    "duration": 3,
    "start_time": "2021-11-10T11:54:23.965Z"
   },
   {
    "duration": 9,
    "start_time": "2021-11-10T11:55:31.219Z"
   },
   {
    "duration": 4,
    "start_time": "2021-11-10T11:55:35.400Z"
   },
   {
    "duration": 22,
    "start_time": "2021-11-10T11:59:37.888Z"
   },
   {
    "duration": 2,
    "start_time": "2021-11-10T11:59:40.974Z"
   },
   {
    "duration": 3,
    "start_time": "2021-11-10T11:59:53.841Z"
   },
   {
    "duration": 3,
    "start_time": "2021-11-10T12:00:00.200Z"
   },
   {
    "duration": 22,
    "start_time": "2021-11-10T12:00:28.806Z"
   },
   {
    "duration": 24,
    "start_time": "2021-11-10T12:00:33.434Z"
   },
   {
    "duration": 5390,
    "start_time": "2021-11-10T12:02:33.100Z"
   },
   {
    "duration": 5268,
    "start_time": "2021-11-10T12:02:55.027Z"
   },
   {
    "duration": 5942,
    "start_time": "2021-11-10T12:05:14.765Z"
   },
   {
    "duration": 5,
    "start_time": "2021-11-10T12:06:05.720Z"
   },
   {
    "duration": 373,
    "start_time": "2021-11-10T12:06:08.163Z"
   },
   {
    "duration": 3,
    "start_time": "2021-11-10T12:06:19.385Z"
   },
   {
    "duration": 144,
    "start_time": "2021-11-10T12:06:21.601Z"
   },
   {
    "duration": 7,
    "start_time": "2021-11-10T12:06:23.567Z"
   },
   {
    "duration": 25,
    "start_time": "2021-11-10T12:06:26.683Z"
   },
   {
    "duration": 3,
    "start_time": "2021-11-10T12:06:32.371Z"
   },
   {
    "duration": 15,
    "start_time": "2021-11-10T12:06:35.074Z"
   },
   {
    "duration": 4,
    "start_time": "2021-11-10T12:06:36.657Z"
   },
   {
    "duration": 22,
    "start_time": "2021-11-10T12:06:41.787Z"
   },
   {
    "duration": 18,
    "start_time": "2021-11-10T12:06:50.384Z"
   },
   {
    "duration": 24,
    "start_time": "2021-11-10T12:07:04.006Z"
   },
   {
    "duration": 379,
    "start_time": "2021-11-10T12:09:24.323Z"
   },
   {
    "duration": 6,
    "start_time": "2021-11-10T12:09:39.289Z"
   },
   {
    "duration": 18,
    "start_time": "2021-11-10T12:12:08.442Z"
   },
   {
    "duration": 12,
    "start_time": "2021-11-10T12:12:18.651Z"
   },
   {
    "duration": 12,
    "start_time": "2021-11-10T12:12:31.859Z"
   },
   {
    "duration": 128,
    "start_time": "2021-11-10T12:37:00.108Z"
   },
   {
    "duration": 12,
    "start_time": "2021-11-10T12:37:57.182Z"
   },
   {
    "duration": 12,
    "start_time": "2021-11-10T12:38:39.635Z"
   },
   {
    "duration": 12,
    "start_time": "2021-11-10T12:40:53.744Z"
   },
   {
    "duration": 57,
    "start_time": "2021-11-10T12:42:12.128Z"
   },
   {
    "duration": 410,
    "start_time": "2021-11-10T12:42:40.988Z"
   },
   {
    "duration": 66,
    "start_time": "2021-11-10T12:42:48.382Z"
   },
   {
    "duration": 3,
    "start_time": "2021-11-10T12:42:51.534Z"
   },
   {
    "duration": 63,
    "start_time": "2021-11-10T12:43:05.493Z"
   },
   {
    "duration": 7,
    "start_time": "2021-11-10T12:43:34.308Z"
   },
   {
    "duration": 7,
    "start_time": "2021-11-10T12:43:40.105Z"
   },
   {
    "duration": 377,
    "start_time": "2021-11-10T12:48:14.147Z"
   },
   {
    "duration": 6,
    "start_time": "2021-11-10T12:48:26.807Z"
   },
   {
    "duration": 3,
    "start_time": "2021-11-10T12:49:22.572Z"
   },
   {
    "duration": 11,
    "start_time": "2021-11-10T12:50:40.068Z"
   },
   {
    "duration": 6,
    "start_time": "2021-11-10T12:50:55.451Z"
   },
   {
    "duration": 10,
    "start_time": "2021-11-10T12:54:35.284Z"
   },
   {
    "duration": 10,
    "start_time": "2021-11-10T12:55:08.623Z"
   },
   {
    "duration": 3,
    "start_time": "2021-11-10T12:59:59.328Z"
   },
   {
    "duration": 3,
    "start_time": "2021-11-10T13:00:18.202Z"
   },
   {
    "duration": 858,
    "start_time": "2021-11-10T13:00:42.698Z"
   },
   {
    "duration": 4,
    "start_time": "2021-11-10T13:01:51.323Z"
   },
   {
    "duration": 1217,
    "start_time": "2021-11-10T13:01:53.934Z"
   },
   {
    "duration": 3,
    "start_time": "2021-11-10T13:02:20.359Z"
   },
   {
    "duration": 16,
    "start_time": "2021-11-10T13:02:22.055Z"
   },
   {
    "duration": 15,
    "start_time": "2021-11-10T13:02:44.329Z"
   },
   {
    "duration": 15,
    "start_time": "2021-11-10T13:02:54.669Z"
   },
   {
    "duration": 15,
    "start_time": "2021-11-10T13:03:08.387Z"
   },
   {
    "duration": 17,
    "start_time": "2021-11-10T13:03:19.419Z"
   },
   {
    "duration": 15,
    "start_time": "2021-11-10T13:03:30.742Z"
   },
   {
    "duration": 10,
    "start_time": "2021-11-10T13:07:22.549Z"
   },
   {
    "duration": 10,
    "start_time": "2021-11-10T13:08:45.040Z"
   },
   {
    "duration": 9,
    "start_time": "2021-11-10T13:09:08.988Z"
   },
   {
    "duration": 4,
    "start_time": "2021-11-10T13:21:48.030Z"
   },
   {
    "duration": 726,
    "start_time": "2021-11-10T13:22:05.777Z"
   },
   {
    "duration": 4,
    "start_time": "2021-11-10T13:22:18.948Z"
   },
   {
    "duration": 1005,
    "start_time": "2021-11-10T13:22:21.131Z"
   },
   {
    "duration": 3,
    "start_time": "2021-11-10T13:22:41.096Z"
   },
   {
    "duration": 732,
    "start_time": "2021-11-10T13:22:43.133Z"
   },
   {
    "duration": 4,
    "start_time": "2021-11-10T13:23:21.414Z"
   },
   {
    "duration": 1009,
    "start_time": "2021-11-10T13:23:23.215Z"
   },
   {
    "duration": 4,
    "start_time": "2021-11-10T13:24:22.641Z"
   },
   {
    "duration": 992,
    "start_time": "2021-11-10T13:24:23.972Z"
   },
   {
    "duration": 5,
    "start_time": "2021-11-10T13:25:14.335Z"
   },
   {
    "duration": 17,
    "start_time": "2021-11-10T13:25:16.039Z"
   },
   {
    "duration": 4,
    "start_time": "2021-11-10T13:25:40.411Z"
   },
   {
    "duration": 18,
    "start_time": "2021-11-10T13:25:41.634Z"
   },
   {
    "duration": 13,
    "start_time": "2021-11-10T13:26:06.764Z"
   },
   {
    "duration": 18,
    "start_time": "2021-11-10T13:26:27.996Z"
   },
   {
    "duration": 13,
    "start_time": "2021-11-10T13:26:45.421Z"
   },
   {
    "duration": 19,
    "start_time": "2021-11-10T13:26:59.119Z"
   },
   {
    "duration": 20,
    "start_time": "2021-11-10T13:27:04.464Z"
   },
   {
    "duration": 14,
    "start_time": "2021-11-10T13:27:05.227Z"
   },
   {
    "duration": 22,
    "start_time": "2021-11-10T13:27:05.781Z"
   },
   {
    "duration": 14,
    "start_time": "2021-11-10T13:27:06.329Z"
   },
   {
    "duration": 20,
    "start_time": "2021-11-10T13:27:54.680Z"
   },
   {
    "duration": 18,
    "start_time": "2021-11-10T13:28:10.258Z"
   },
   {
    "duration": 4,
    "start_time": "2021-11-10T13:29:00.025Z"
   },
   {
    "duration": 16,
    "start_time": "2021-11-10T13:29:38.177Z"
   },
   {
    "duration": 19,
    "start_time": "2021-11-10T13:29:54.805Z"
   },
   {
    "duration": 17,
    "start_time": "2021-11-10T13:30:05.167Z"
   },
   {
    "duration": 12,
    "start_time": "2021-11-10T13:30:48.610Z"
   },
   {
    "duration": 12,
    "start_time": "2021-11-10T13:31:00.409Z"
   },
   {
    "duration": 13,
    "start_time": "2021-11-10T13:31:11.901Z"
   },
   {
    "duration": 42,
    "start_time": "2021-11-10T13:38:16.220Z"
   },
   {
    "duration": 678,
    "start_time": "2021-11-10T13:39:47.810Z"
   },
   {
    "duration": 399,
    "start_time": "2021-11-10T13:40:53.401Z"
   },
   {
    "duration": 5,
    "start_time": "2021-11-10T13:41:04.564Z"
   },
   {
    "duration": 132,
    "start_time": "2021-11-10T13:42:19.888Z"
   },
   {
    "duration": 202,
    "start_time": "2021-11-10T13:44:00.876Z"
   },
   {
    "duration": 185,
    "start_time": "2021-11-10T13:44:32.245Z"
   },
   {
    "duration": 193,
    "start_time": "2021-11-10T13:45:13.882Z"
   },
   {
    "duration": 232,
    "start_time": "2021-11-10T13:45:49.140Z"
   },
   {
    "duration": 283,
    "start_time": "2021-11-10T13:46:47.895Z"
   },
   {
    "duration": 30,
    "start_time": "2021-11-10T13:47:02.473Z"
   },
   {
    "duration": 20,
    "start_time": "2021-11-10T13:47:06.268Z"
   },
   {
    "duration": 39,
    "start_time": "2021-11-10T13:47:15.787Z"
   },
   {
    "duration": 251,
    "start_time": "2021-11-10T13:47:16.693Z"
   },
   {
    "duration": 203,
    "start_time": "2021-11-10T13:47:23.065Z"
   },
   {
    "duration": 57,
    "start_time": "2021-11-10T13:51:25.550Z"
   },
   {
    "duration": 2,
    "start_time": "2021-11-10T13:51:29.285Z"
   },
   {
    "duration": 407,
    "start_time": "2021-11-10T13:56:20.527Z"
   },
   {
    "duration": 377,
    "start_time": "2021-11-10T13:56:41.136Z"
   },
   {
    "duration": 2,
    "start_time": "2021-11-10T13:59:53.487Z"
   },
   {
    "duration": 3,
    "start_time": "2021-11-10T14:00:00.407Z"
   },
   {
    "duration": 3,
    "start_time": "2021-11-10T14:00:37.722Z"
   },
   {
    "duration": 415,
    "start_time": "2021-11-10T14:01:27.409Z"
   },
   {
    "duration": 3,
    "start_time": "2021-11-10T14:02:09.266Z"
   },
   {
    "duration": 367,
    "start_time": "2021-11-10T14:02:09.946Z"
   },
   {
    "duration": 3,
    "start_time": "2021-11-10T14:02:55.223Z"
   },
   {
    "duration": 314,
    "start_time": "2021-11-10T14:02:55.871Z"
   },
   {
    "duration": 423,
    "start_time": "2021-11-10T14:03:18.668Z"
   },
   {
    "duration": 443,
    "start_time": "2021-11-10T14:04:12.949Z"
   },
   {
    "duration": 416,
    "start_time": "2021-11-10T14:04:36.838Z"
   },
   {
    "duration": 769,
    "start_time": "2021-11-10T14:09:25.232Z"
   },
   {
    "duration": 830,
    "start_time": "2021-11-10T14:09:45.276Z"
   },
   {
    "duration": 833,
    "start_time": "2021-11-10T14:09:52.880Z"
   },
   {
    "duration": 695,
    "start_time": "2021-11-10T14:09:57.640Z"
   },
   {
    "duration": 753,
    "start_time": "2021-11-10T14:10:04.612Z"
   },
   {
    "duration": 420,
    "start_time": "2021-11-10T14:10:51.406Z"
   },
   {
    "duration": 874,
    "start_time": "2021-11-10T14:10:56.160Z"
   },
   {
    "duration": 545,
    "start_time": "2021-11-10T14:11:03.328Z"
   },
   {
    "duration": 714,
    "start_time": "2021-11-10T14:11:11.434Z"
   },
   {
    "duration": 532,
    "start_time": "2021-11-10T14:11:20.579Z"
   },
   {
    "duration": 761,
    "start_time": "2021-11-10T14:11:31.967Z"
   },
   {
    "duration": 750,
    "start_time": "2021-11-10T14:12:06.220Z"
   },
   {
    "duration": 883,
    "start_time": "2021-11-10T14:17:51.845Z"
   },
   {
    "duration": 735,
    "start_time": "2021-11-10T14:18:03.810Z"
   },
   {
    "duration": 4,
    "start_time": "2021-11-10T14:32:22.666Z"
   },
   {
    "duration": 63,
    "start_time": "2021-11-10T14:32:25.120Z"
   },
   {
    "duration": 2,
    "start_time": "2021-11-10T14:32:26.686Z"
   },
   {
    "duration": 755,
    "start_time": "2021-11-10T14:32:29.410Z"
   },
   {
    "duration": 899,
    "start_time": "2021-11-10T14:32:46.096Z"
   },
   {
    "duration": 4,
    "start_time": "2021-11-10T14:33:09.994Z"
   },
   {
    "duration": 65,
    "start_time": "2021-11-10T14:33:11.385Z"
   },
   {
    "duration": 750,
    "start_time": "2021-11-10T14:33:13.806Z"
   },
   {
    "duration": 916,
    "start_time": "2021-11-10T14:33:19.254Z"
   },
   {
    "duration": 798,
    "start_time": "2021-11-10T14:35:29.787Z"
   },
   {
    "duration": 784,
    "start_time": "2021-11-10T14:35:44.100Z"
   },
   {
    "duration": 811,
    "start_time": "2021-11-10T14:36:09.014Z"
   },
   {
    "duration": 775,
    "start_time": "2021-11-10T14:36:17.872Z"
   },
   {
    "duration": 10,
    "start_time": "2021-11-10T14:42:49.829Z"
   },
   {
    "duration": 5,
    "start_time": "2021-11-10T14:43:12.760Z"
   },
   {
    "duration": 5,
    "start_time": "2021-11-10T14:43:27.113Z"
   },
   {
    "duration": 4,
    "start_time": "2021-11-10T14:43:35.774Z"
   },
   {
    "duration": 370,
    "start_time": "2021-11-10T14:44:04.795Z"
   },
   {
    "duration": 9,
    "start_time": "2021-11-10T14:44:25.609Z"
   },
   {
    "duration": 5,
    "start_time": "2021-11-10T14:44:27.765Z"
   },
   {
    "duration": 8,
    "start_time": "2021-11-10T14:45:02.128Z"
   },
   {
    "duration": 4,
    "start_time": "2021-11-10T14:45:21.192Z"
   },
   {
    "duration": 3,
    "start_time": "2021-11-10T14:48:57.833Z"
   },
   {
    "duration": 150,
    "start_time": "2021-11-10T14:48:57.840Z"
   },
   {
    "duration": 17,
    "start_time": "2021-11-10T14:48:57.992Z"
   },
   {
    "duration": 32,
    "start_time": "2021-11-10T14:48:58.011Z"
   },
   {
    "duration": 9,
    "start_time": "2021-11-10T14:48:58.045Z"
   },
   {
    "duration": 28,
    "start_time": "2021-11-10T14:48:58.055Z"
   },
   {
    "duration": 22,
    "start_time": "2021-11-10T14:48:58.085Z"
   },
   {
    "duration": 44,
    "start_time": "2021-11-10T14:48:58.109Z"
   },
   {
    "duration": 25,
    "start_time": "2021-11-10T14:48:58.155Z"
   },
   {
    "duration": 33,
    "start_time": "2021-11-10T14:48:58.183Z"
   },
   {
    "duration": 66,
    "start_time": "2021-11-10T14:48:58.218Z"
   },
   {
    "duration": 66,
    "start_time": "2021-11-10T14:48:58.286Z"
   },
   {
    "duration": 56,
    "start_time": "2021-11-10T14:48:58.354Z"
   },
   {
    "duration": 6,
    "start_time": "2021-11-10T14:48:58.412Z"
   },
   {
    "duration": 13,
    "start_time": "2021-11-10T14:48:58.420Z"
   },
   {
    "duration": 17,
    "start_time": "2021-11-10T14:48:58.435Z"
   },
   {
    "duration": 13,
    "start_time": "2021-11-10T14:48:58.454Z"
   },
   {
    "duration": 15,
    "start_time": "2021-11-10T14:48:58.469Z"
   },
   {
    "duration": 21,
    "start_time": "2021-11-10T14:48:58.486Z"
   },
   {
    "duration": 3,
    "start_time": "2021-11-10T14:48:58.509Z"
   },
   {
    "duration": 22,
    "start_time": "2021-11-10T14:48:58.514Z"
   },
   {
    "duration": 14,
    "start_time": "2021-11-10T14:48:58.538Z"
   },
   {
    "duration": 14,
    "start_time": "2021-11-10T14:48:58.553Z"
   },
   {
    "duration": 37,
    "start_time": "2021-11-10T14:48:58.570Z"
   },
   {
    "duration": 18,
    "start_time": "2021-11-10T14:48:58.609Z"
   },
   {
    "duration": 15,
    "start_time": "2021-11-10T14:48:58.629Z"
   },
   {
    "duration": 10,
    "start_time": "2021-11-10T14:48:58.645Z"
   },
   {
    "duration": 27,
    "start_time": "2021-11-10T14:48:58.656Z"
   },
   {
    "duration": 29,
    "start_time": "2021-11-10T14:48:58.685Z"
   },
   {
    "duration": 8,
    "start_time": "2021-11-10T14:48:58.716Z"
   },
   {
    "duration": 40,
    "start_time": "2021-11-10T14:48:58.726Z"
   },
   {
    "duration": 16,
    "start_time": "2021-11-10T14:48:58.768Z"
   },
   {
    "duration": 28,
    "start_time": "2021-11-10T14:48:58.785Z"
   },
   {
    "duration": 15,
    "start_time": "2021-11-10T14:48:58.814Z"
   },
   {
    "duration": 20,
    "start_time": "2021-11-10T14:48:58.831Z"
   },
   {
    "duration": 80,
    "start_time": "2021-11-10T14:48:58.853Z"
   },
   {
    "duration": 3,
    "start_time": "2021-11-10T14:48:58.935Z"
   },
   {
    "duration": 802,
    "start_time": "2021-11-10T14:48:58.940Z"
   },
   {
    "duration": 971,
    "start_time": "2021-11-10T14:48:59.744Z"
   },
   {
    "duration": 8,
    "start_time": "2021-11-10T14:49:00.716Z"
   },
   {
    "duration": 5,
    "start_time": "2021-11-10T14:49:00.726Z"
   },
   {
    "duration": 26,
    "start_time": "2021-11-10T14:49:00.733Z"
   },
   {
    "duration": 34,
    "start_time": "2021-11-10T14:49:00.761Z"
   },
   {
    "duration": 342,
    "start_time": "2021-11-11T16:53:26.926Z"
   },
   {
    "duration": 1444,
    "start_time": "2021-11-11T16:53:32.463Z"
   },
   {
    "duration": 197,
    "start_time": "2021-11-11T16:53:33.910Z"
   },
   {
    "duration": 20,
    "start_time": "2021-11-11T16:53:35.410Z"
   },
   {
    "duration": 395,
    "start_time": "2021-11-11T16:53:49.350Z"
   },
   {
    "duration": 286,
    "start_time": "2021-11-11T16:54:16.110Z"
   },
   {
    "duration": 26,
    "start_time": "2021-11-11T16:54:21.885Z"
   },
   {
    "duration": 425,
    "start_time": "2021-11-12T05:22:40.381Z"
   },
   {
    "duration": 1462,
    "start_time": "2021-11-12T05:22:47.826Z"
   },
   {
    "duration": 194,
    "start_time": "2021-11-12T05:22:50.210Z"
   },
   {
    "duration": 44,
    "start_time": "2021-11-12T05:22:52.542Z"
   },
   {
    "duration": 44,
    "start_time": "2021-11-12T05:22:59.460Z"
   },
   {
    "duration": 44,
    "start_time": "2021-11-12T05:23:27.902Z"
   },
   {
    "duration": 45,
    "start_time": "2021-11-12T05:23:41.043Z"
   },
   {
    "duration": 44,
    "start_time": "2021-11-12T05:23:56.464Z"
   },
   {
    "duration": 44,
    "start_time": "2021-11-12T05:24:51.457Z"
   },
   {
    "duration": 52,
    "start_time": "2021-11-12T05:29:58.624Z"
   },
   {
    "duration": 7,
    "start_time": "2021-11-12T05:32:11.131Z"
   },
   {
    "duration": 42,
    "start_time": "2021-11-12T05:35:01.884Z"
   },
   {
    "duration": 6,
    "start_time": "2021-11-12T05:35:16.350Z"
   },
   {
    "duration": 46,
    "start_time": "2021-11-12T05:56:07.231Z"
   },
   {
    "duration": 22,
    "start_time": "2021-11-12T05:57:05.854Z"
   },
   {
    "duration": 48,
    "start_time": "2021-11-12T05:57:23.357Z"
   },
   {
    "duration": 150,
    "start_time": "2021-11-12T05:58:50.503Z"
   },
   {
    "duration": 539,
    "start_time": "2021-11-12T06:00:57.500Z"
   },
   {
    "duration": 452,
    "start_time": "2021-11-12T06:01:12.006Z"
   },
   {
    "duration": 93,
    "start_time": "2021-11-12T06:01:26.303Z"
   },
   {
    "duration": 100,
    "start_time": "2021-11-12T06:01:57.529Z"
   },
   {
    "duration": 80,
    "start_time": "2021-11-12T06:03:22.515Z"
   },
   {
    "duration": 81,
    "start_time": "2021-11-12T06:03:46.050Z"
   },
   {
    "duration": 104,
    "start_time": "2021-11-12T06:03:57.748Z"
   },
   {
    "duration": 104,
    "start_time": "2021-11-12T06:04:43.313Z"
   },
   {
    "duration": 90,
    "start_time": "2021-11-12T06:05:02.718Z"
   },
   {
    "duration": 462,
    "start_time": "2021-11-12T06:05:20.952Z"
   },
   {
    "duration": 108,
    "start_time": "2021-11-12T06:05:28.624Z"
   },
   {
    "duration": 77,
    "start_time": "2021-11-12T06:06:18.981Z"
   },
   {
    "duration": 14,
    "start_time": "2021-11-12T06:07:53.046Z"
   },
   {
    "duration": 14,
    "start_time": "2021-11-12T06:08:07.063Z"
   },
   {
    "duration": 8,
    "start_time": "2021-11-12T06:08:11.969Z"
   },
   {
    "duration": 4,
    "start_time": "2021-11-12T06:09:05.801Z"
   },
   {
    "duration": 14,
    "start_time": "2021-11-12T06:09:23.429Z"
   },
   {
    "duration": 9,
    "start_time": "2021-11-12T06:09:43.139Z"
   },
   {
    "duration": 15,
    "start_time": "2021-11-12T06:11:59.547Z"
   },
   {
    "duration": 16,
    "start_time": "2021-11-12T06:12:19.415Z"
   },
   {
    "duration": 15,
    "start_time": "2021-11-12T06:12:24.927Z"
   },
   {
    "duration": 14,
    "start_time": "2021-11-12T06:14:43.977Z"
   },
   {
    "duration": 5,
    "start_time": "2021-11-12T06:17:21.988Z"
   },
   {
    "duration": 22,
    "start_time": "2021-11-12T06:17:39.339Z"
   },
   {
    "duration": 18,
    "start_time": "2021-11-12T06:17:43.325Z"
   },
   {
    "duration": 18,
    "start_time": "2021-11-12T06:17:48.233Z"
   },
   {
    "duration": 22,
    "start_time": "2021-11-12T06:17:52.126Z"
   },
   {
    "duration": 21,
    "start_time": "2021-11-12T06:17:57.005Z"
   },
   {
    "duration": 28,
    "start_time": "2021-11-12T06:18:02.829Z"
   },
   {
    "duration": 18,
    "start_time": "2021-11-12T06:18:11.423Z"
   },
   {
    "duration": 20,
    "start_time": "2021-11-12T06:18:16.483Z"
   },
   {
    "duration": 19,
    "start_time": "2021-11-12T06:18:21.453Z"
   },
   {
    "duration": 13,
    "start_time": "2021-11-12T06:18:58.772Z"
   },
   {
    "duration": 13,
    "start_time": "2021-11-12T06:19:03.244Z"
   },
   {
    "duration": 23,
    "start_time": "2021-11-12T06:20:47.227Z"
   },
   {
    "duration": 5,
    "start_time": "2021-11-12T06:21:35.994Z"
   },
   {
    "duration": 26,
    "start_time": "2021-11-12T06:22:00.279Z"
   },
   {
    "duration": 18,
    "start_time": "2021-11-12T06:22:10.271Z"
   },
   {
    "duration": 25,
    "start_time": "2021-11-12T06:22:16.029Z"
   },
   {
    "duration": 19,
    "start_time": "2021-11-12T06:22:20.349Z"
   },
   {
    "duration": 11,
    "start_time": "2021-11-12T06:24:49.689Z"
   },
   {
    "duration": 6,
    "start_time": "2021-11-12T06:25:01.683Z"
   },
   {
    "duration": 10,
    "start_time": "2021-11-12T06:25:27.355Z"
   },
   {
    "duration": 6,
    "start_time": "2021-11-12T06:25:38.892Z"
   },
   {
    "duration": 7,
    "start_time": "2021-11-12T06:27:32.895Z"
   },
   {
    "duration": 157,
    "start_time": "2021-11-12T06:27:50.105Z"
   },
   {
    "duration": 1212,
    "start_time": "2021-11-12T06:27:55.585Z"
   },
   {
    "duration": 91,
    "start_time": "2021-11-12T06:28:30.848Z"
   },
   {
    "duration": 1238,
    "start_time": "2021-11-12T06:28:32.690Z"
   },
   {
    "duration": 104,
    "start_time": "2021-11-12T06:28:47.804Z"
   },
   {
    "duration": 1380,
    "start_time": "2021-11-12T06:28:49.420Z"
   },
   {
    "duration": 1335,
    "start_time": "2021-11-12T06:29:21.149Z"
   },
   {
    "duration": 1480,
    "start_time": "2021-11-12T06:30:59.823Z"
   },
   {
    "duration": 1542,
    "start_time": "2021-11-12T06:32:00.758Z"
   },
   {
    "duration": 1497,
    "start_time": "2021-11-12T06:32:15.059Z"
   },
   {
    "duration": 1215,
    "start_time": "2021-11-12T06:32:31.363Z"
   },
   {
    "duration": 1403,
    "start_time": "2021-11-12T06:34:14.880Z"
   },
   {
    "duration": 1293,
    "start_time": "2021-11-12T06:34:32.250Z"
   },
   {
    "duration": 1472,
    "start_time": "2021-11-12T06:35:15.607Z"
   },
   {
    "duration": 1385,
    "start_time": "2021-11-12T06:35:24.877Z"
   },
   {
    "duration": 1007,
    "start_time": "2021-11-12T06:36:04.314Z"
   },
   {
    "duration": 956,
    "start_time": "2021-11-12T06:36:14.139Z"
   },
   {
    "duration": 1067,
    "start_time": "2021-11-12T06:36:26.282Z"
   },
   {
    "duration": 978,
    "start_time": "2021-11-12T06:36:32.310Z"
   },
   {
    "duration": 1240,
    "start_time": "2021-11-12T06:36:43.023Z"
   },
   {
    "duration": 1325,
    "start_time": "2021-11-12T06:37:07.152Z"
   },
   {
    "duration": 1272,
    "start_time": "2021-11-12T06:37:20.708Z"
   },
   {
    "duration": 1324,
    "start_time": "2021-11-12T06:37:28.494Z"
   },
   {
    "duration": 1241,
    "start_time": "2021-11-12T06:37:35.648Z"
   },
   {
    "duration": 1226,
    "start_time": "2021-11-12T06:38:35.800Z"
   },
   {
    "duration": 1250,
    "start_time": "2021-11-12T06:38:42.296Z"
   },
   {
    "duration": 1368,
    "start_time": "2021-11-12T06:38:52.532Z"
   },
   {
    "duration": 1257,
    "start_time": "2021-11-12T06:39:00.904Z"
   },
   {
    "duration": 1397,
    "start_time": "2021-11-12T06:39:24.751Z"
   },
   {
    "duration": 1289,
    "start_time": "2021-11-12T06:39:30.811Z"
   },
   {
    "duration": 1321,
    "start_time": "2021-11-12T06:39:36.343Z"
   },
   {
    "duration": 1350,
    "start_time": "2021-11-12T06:39:42.183Z"
   },
   {
    "duration": 1341,
    "start_time": "2021-11-12T06:39:48.444Z"
   },
   {
    "duration": 1352,
    "start_time": "2021-11-12T06:39:54.193Z"
   },
   {
    "duration": 1291,
    "start_time": "2021-11-12T06:40:34.116Z"
   },
   {
    "duration": 1247,
    "start_time": "2021-11-12T06:42:08.618Z"
   },
   {
    "duration": 1269,
    "start_time": "2021-11-12T06:42:47.380Z"
   },
   {
    "duration": 1269,
    "start_time": "2021-11-12T06:45:38.047Z"
   },
   {
    "duration": 1270,
    "start_time": "2021-11-12T06:45:46.013Z"
   },
   {
    "duration": 1371,
    "start_time": "2021-11-12T06:45:56.358Z"
   },
   {
    "duration": 1318,
    "start_time": "2021-11-12T06:46:08.120Z"
   },
   {
    "duration": 1251,
    "start_time": "2021-11-12T06:51:42.753Z"
   },
   {
    "duration": 1270,
    "start_time": "2021-11-12T06:52:00.655Z"
   },
   {
    "duration": 1536,
    "start_time": "2021-11-12T07:27:45.064Z"
   },
   {
    "duration": 194,
    "start_time": "2021-11-12T07:27:46.603Z"
   },
   {
    "duration": 47,
    "start_time": "2021-11-12T07:27:46.800Z"
   },
   {
    "duration": 55,
    "start_time": "2021-11-12T07:27:46.850Z"
   },
   {
    "duration": 4,
    "start_time": "2021-11-12T07:27:46.908Z"
   },
   {
    "duration": 32,
    "start_time": "2021-11-12T07:27:46.915Z"
   },
   {
    "duration": 4,
    "start_time": "2021-11-12T07:27:46.950Z"
   },
   {
    "duration": 68,
    "start_time": "2021-11-12T07:27:46.958Z"
   },
   {
    "duration": 26,
    "start_time": "2021-11-12T07:27:47.029Z"
   },
   {
    "duration": 47,
    "start_time": "2021-11-12T07:27:47.058Z"
   },
   {
    "duration": 109,
    "start_time": "2021-11-12T07:27:47.107Z"
   },
   {
    "duration": 121,
    "start_time": "2021-11-12T07:27:47.219Z"
   },
   {
    "duration": 90,
    "start_time": "2021-11-12T07:27:47.343Z"
   },
   {
    "duration": 8,
    "start_time": "2021-11-12T07:27:47.436Z"
   },
   {
    "duration": 12,
    "start_time": "2021-11-12T07:27:47.446Z"
   },
   {
    "duration": 22,
    "start_time": "2021-11-12T07:27:47.460Z"
   },
   {
    "duration": 28,
    "start_time": "2021-11-12T07:27:47.484Z"
   },
   {
    "duration": 21,
    "start_time": "2021-11-12T07:27:47.515Z"
   },
   {
    "duration": 17,
    "start_time": "2021-11-12T07:27:47.539Z"
   },
   {
    "duration": 5,
    "start_time": "2021-11-12T07:27:47.558Z"
   },
   {
    "duration": 46,
    "start_time": "2021-11-12T07:27:47.565Z"
   },
   {
    "duration": 19,
    "start_time": "2021-11-12T07:27:47.614Z"
   },
   {
    "duration": 20,
    "start_time": "2021-11-12T07:27:47.638Z"
   },
   {
    "duration": 51,
    "start_time": "2021-11-12T07:27:47.661Z"
   },
   {
    "duration": 22,
    "start_time": "2021-11-12T07:27:47.714Z"
   },
   {
    "duration": 24,
    "start_time": "2021-11-12T07:27:47.739Z"
   },
   {
    "duration": 44,
    "start_time": "2021-11-12T07:27:47.766Z"
   },
   {
    "duration": 35,
    "start_time": "2021-11-12T07:27:47.812Z"
   },
   {
    "duration": 6,
    "start_time": "2021-11-12T07:27:47.849Z"
   },
   {
    "duration": 44,
    "start_time": "2021-11-12T07:27:47.857Z"
   },
   {
    "duration": 20,
    "start_time": "2021-11-12T07:27:47.904Z"
   },
   {
    "duration": 27,
    "start_time": "2021-11-12T07:27:47.927Z"
   },
   {
    "duration": 51,
    "start_time": "2021-11-12T07:27:47.956Z"
   },
   {
    "duration": 12,
    "start_time": "2021-11-12T07:27:48.009Z"
   },
   {
    "duration": 7,
    "start_time": "2021-11-12T07:27:48.023Z"
   },
   {
    "duration": 16,
    "start_time": "2021-11-12T07:27:48.032Z"
   },
   {
    "duration": 7,
    "start_time": "2021-11-12T07:27:48.051Z"
   },
   {
    "duration": 43,
    "start_time": "2021-11-12T07:27:48.061Z"
   },
   {
    "duration": 113,
    "start_time": "2021-11-12T07:27:48.107Z"
   },
   {
    "duration": 1390,
    "start_time": "2021-11-12T07:27:48.222Z"
   },
   {
    "duration": 1304,
    "start_time": "2021-11-12T07:27:49.615Z"
   }
  ],
  "colab": {
   "collapsed_sections": [
    "E0vqbgi9ay0H",
    "VUC88oWjTJw2"
   ],
   "name": "yandex_music_project_2021.2.ipynb",
   "provenance": []
  },
  "kernelspec": {
   "display_name": "Python 3 (ipykernel)",
   "language": "python",
   "name": "python3"
  },
  "language_info": {
   "codemirror_mode": {
    "name": "ipython",
    "version": 3
   },
   "file_extension": ".py",
   "mimetype": "text/x-python",
   "name": "python",
   "nbconvert_exporter": "python",
   "pygments_lexer": "ipython3",
   "version": "3.9.7"
  },
  "toc": {
   "base_numbering": 1,
   "nav_menu": {},
   "number_sections": true,
   "sideBar": true,
   "skip_h1_title": true,
   "title_cell": "Table of Contents",
   "title_sidebar": "Contents",
   "toc_cell": false,
   "toc_position": {
    "height": "calc(100% - 180px)",
    "left": "10px",
    "top": "150px",
    "width": "255.594px"
   },
   "toc_section_display": true,
   "toc_window_display": true
  }
 },
 "nbformat": 4,
 "nbformat_minor": 1
}
