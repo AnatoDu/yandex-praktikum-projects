{
 "cells": [
  {
   "cell_type": "markdown",
   "metadata": {
    "toc": true
   },
   "source": [
    "<h1>Содержание<span class=\"tocSkip\"></span></h1>\n",
    "<div class=\"toc\"><ul class=\"toc-item\"><li><span><a href=\"#Подготовка-данных\" data-toc-modified-id=\"Подготовка-данных-1\"><span class=\"toc-item-num\">1&nbsp;&nbsp;</span>Подготовка данных</a></span></li><li><span><a href=\"#Анализ-данных\" data-toc-modified-id=\"Анализ-данных-2\"><span class=\"toc-item-num\">2&nbsp;&nbsp;</span>Анализ данных</a></span></li><li><span><a href=\"#Модель\" data-toc-modified-id=\"Модель-3\"><span class=\"toc-item-num\">3&nbsp;&nbsp;</span>Модель</a></span></li><li><span><a href=\"#Чек-лист-готовности-проекта\" data-toc-modified-id=\"Чек-лист-готовности-проекта-4\"><span class=\"toc-item-num\">4&nbsp;&nbsp;</span>Чек-лист готовности проекта</a></span></li></ul></div>"
   ]
  },
  {
   "cell_type": "markdown",
   "metadata": {},
   "source": [
    "# Восстановление золота из руды"
   ]
  },
  {
   "cell_type": "markdown",
   "metadata": {},
   "source": [
    "Необходимо подготовить модель, которая должна предсказать коэффициент восстановления золота из золотосодержащей руды. Имеются данные с параметрами добычи и очистки. \n",
    "\n",
    "Модель поможет оптимизировать производство, чтобы не запускать предприятие с убыточными характеристиками.\n",
    "\n",
    "Нужно:\n",
    "\n",
    "1. Подготовить данные;\n",
    "2. Провести исследовательский анализ данных;\n",
    "3. Построить и обучить модель."
   ]
  },
  {
   "cell_type": "code",
   "execution_count": 1,
   "metadata": {},
   "outputs": [],
   "source": [
    "import pandas as pd\n",
    "import numpy as np\n",
    "import matplotlib.pyplot as plt\n",
    "from sklearn.metrics import mean_absolute_error, make_scorer\n",
    "from sklearn.tree import DecisionTreeRegressor\n",
    "from sklearn.ensemble import RandomForestRegressor\n",
    "from sklearn.linear_model import LinearRegression\n",
    "from sklearn.model_selection import cross_val_score"
   ]
  },
  {
   "cell_type": "markdown",
   "metadata": {},
   "source": [
    "## Подготовка данных"
   ]
  },
  {
   "cell_type": "markdown",
   "metadata": {},
   "source": [
    "Загрузим данные и посмотрим на них."
   ]
  },
  {
   "cell_type": "code",
   "execution_count": 2,
   "metadata": {},
   "outputs": [],
   "source": [
    "data_train = pd.read_csv('/datasets/gold_recovery_train_new.csv', index_col='date')\n",
    "data_test = pd.read_csv('/datasets/gold_recovery_test_new.csv', index_col='date')\n",
    "data_full = pd.read_csv('/datasets/gold_recovery_full_new.csv', index_col='date')"
   ]
  },
  {
   "cell_type": "code",
   "execution_count": 3,
   "metadata": {},
   "outputs": [
    {
     "data": {
      "text/html": [
       "<div>\n",
       "<style scoped>\n",
       "    .dataframe tbody tr th:only-of-type {\n",
       "        vertical-align: middle;\n",
       "    }\n",
       "\n",
       "    .dataframe tbody tr th {\n",
       "        vertical-align: top;\n",
       "    }\n",
       "\n",
       "    .dataframe thead th {\n",
       "        text-align: right;\n",
       "    }\n",
       "</style>\n",
       "<table border=\"1\" class=\"dataframe\">\n",
       "  <thead>\n",
       "    <tr style=\"text-align: right;\">\n",
       "      <th></th>\n",
       "      <th>final.output.concentrate_ag</th>\n",
       "      <th>final.output.concentrate_pb</th>\n",
       "      <th>final.output.concentrate_sol</th>\n",
       "      <th>final.output.concentrate_au</th>\n",
       "      <th>final.output.recovery</th>\n",
       "      <th>final.output.tail_ag</th>\n",
       "      <th>final.output.tail_pb</th>\n",
       "      <th>final.output.tail_sol</th>\n",
       "      <th>final.output.tail_au</th>\n",
       "      <th>primary_cleaner.input.sulfate</th>\n",
       "      <th>...</th>\n",
       "      <th>secondary_cleaner.state.floatbank4_a_air</th>\n",
       "      <th>secondary_cleaner.state.floatbank4_a_level</th>\n",
       "      <th>secondary_cleaner.state.floatbank4_b_air</th>\n",
       "      <th>secondary_cleaner.state.floatbank4_b_level</th>\n",
       "      <th>secondary_cleaner.state.floatbank5_a_air</th>\n",
       "      <th>secondary_cleaner.state.floatbank5_a_level</th>\n",
       "      <th>secondary_cleaner.state.floatbank5_b_air</th>\n",
       "      <th>secondary_cleaner.state.floatbank5_b_level</th>\n",
       "      <th>secondary_cleaner.state.floatbank6_a_air</th>\n",
       "      <th>secondary_cleaner.state.floatbank6_a_level</th>\n",
       "    </tr>\n",
       "    <tr>\n",
       "      <th>date</th>\n",
       "      <th></th>\n",
       "      <th></th>\n",
       "      <th></th>\n",
       "      <th></th>\n",
       "      <th></th>\n",
       "      <th></th>\n",
       "      <th></th>\n",
       "      <th></th>\n",
       "      <th></th>\n",
       "      <th></th>\n",
       "      <th></th>\n",
       "      <th></th>\n",
       "      <th></th>\n",
       "      <th></th>\n",
       "      <th></th>\n",
       "      <th></th>\n",
       "      <th></th>\n",
       "      <th></th>\n",
       "      <th></th>\n",
       "      <th></th>\n",
       "      <th></th>\n",
       "    </tr>\n",
       "  </thead>\n",
       "  <tbody>\n",
       "    <tr>\n",
       "      <th>2016-01-15 00:00:00</th>\n",
       "      <td>6.055403</td>\n",
       "      <td>9.889648</td>\n",
       "      <td>5.507324</td>\n",
       "      <td>42.192020</td>\n",
       "      <td>70.541216</td>\n",
       "      <td>10.411962</td>\n",
       "      <td>0.895447</td>\n",
       "      <td>16.904297</td>\n",
       "      <td>2.143149</td>\n",
       "      <td>127.092003</td>\n",
       "      <td>...</td>\n",
       "      <td>14.016835</td>\n",
       "      <td>-502.488007</td>\n",
       "      <td>12.099931</td>\n",
       "      <td>-504.715942</td>\n",
       "      <td>9.925633</td>\n",
       "      <td>-498.310211</td>\n",
       "      <td>8.079666</td>\n",
       "      <td>-500.470978</td>\n",
       "      <td>14.151341</td>\n",
       "      <td>-605.841980</td>\n",
       "    </tr>\n",
       "    <tr>\n",
       "      <th>2016-01-15 01:00:00</th>\n",
       "      <td>6.029369</td>\n",
       "      <td>9.968944</td>\n",
       "      <td>5.257781</td>\n",
       "      <td>42.701629</td>\n",
       "      <td>69.266198</td>\n",
       "      <td>10.462676</td>\n",
       "      <td>0.927452</td>\n",
       "      <td>16.634514</td>\n",
       "      <td>2.224930</td>\n",
       "      <td>125.629232</td>\n",
       "      <td>...</td>\n",
       "      <td>13.992281</td>\n",
       "      <td>-505.503262</td>\n",
       "      <td>11.950531</td>\n",
       "      <td>-501.331529</td>\n",
       "      <td>10.039245</td>\n",
       "      <td>-500.169983</td>\n",
       "      <td>7.984757</td>\n",
       "      <td>-500.582168</td>\n",
       "      <td>13.998353</td>\n",
       "      <td>-599.787184</td>\n",
       "    </tr>\n",
       "    <tr>\n",
       "      <th>2016-01-15 02:00:00</th>\n",
       "      <td>6.055926</td>\n",
       "      <td>10.213995</td>\n",
       "      <td>5.383759</td>\n",
       "      <td>42.657501</td>\n",
       "      <td>68.116445</td>\n",
       "      <td>10.507046</td>\n",
       "      <td>0.953716</td>\n",
       "      <td>16.208849</td>\n",
       "      <td>2.257889</td>\n",
       "      <td>123.819808</td>\n",
       "      <td>...</td>\n",
       "      <td>14.015015</td>\n",
       "      <td>-502.520901</td>\n",
       "      <td>11.912783</td>\n",
       "      <td>-501.133383</td>\n",
       "      <td>10.070913</td>\n",
       "      <td>-500.129135</td>\n",
       "      <td>8.013877</td>\n",
       "      <td>-500.517572</td>\n",
       "      <td>14.028663</td>\n",
       "      <td>-601.427363</td>\n",
       "    </tr>\n",
       "    <tr>\n",
       "      <th>2016-01-15 03:00:00</th>\n",
       "      <td>6.047977</td>\n",
       "      <td>9.977019</td>\n",
       "      <td>4.858634</td>\n",
       "      <td>42.689819</td>\n",
       "      <td>68.347543</td>\n",
       "      <td>10.422762</td>\n",
       "      <td>0.883763</td>\n",
       "      <td>16.532835</td>\n",
       "      <td>2.146849</td>\n",
       "      <td>122.270188</td>\n",
       "      <td>...</td>\n",
       "      <td>14.036510</td>\n",
       "      <td>-500.857308</td>\n",
       "      <td>11.999550</td>\n",
       "      <td>-501.193686</td>\n",
       "      <td>9.970366</td>\n",
       "      <td>-499.201640</td>\n",
       "      <td>7.977324</td>\n",
       "      <td>-500.255908</td>\n",
       "      <td>14.005551</td>\n",
       "      <td>-599.996129</td>\n",
       "    </tr>\n",
       "    <tr>\n",
       "      <th>2016-01-15 04:00:00</th>\n",
       "      <td>6.148599</td>\n",
       "      <td>10.142511</td>\n",
       "      <td>4.939416</td>\n",
       "      <td>42.774141</td>\n",
       "      <td>66.927016</td>\n",
       "      <td>10.360302</td>\n",
       "      <td>0.792826</td>\n",
       "      <td>16.525686</td>\n",
       "      <td>2.055292</td>\n",
       "      <td>117.988169</td>\n",
       "      <td>...</td>\n",
       "      <td>14.027298</td>\n",
       "      <td>-499.838632</td>\n",
       "      <td>11.953070</td>\n",
       "      <td>-501.053894</td>\n",
       "      <td>9.925709</td>\n",
       "      <td>-501.686727</td>\n",
       "      <td>7.894242</td>\n",
       "      <td>-500.356035</td>\n",
       "      <td>13.996647</td>\n",
       "      <td>-601.496691</td>\n",
       "    </tr>\n",
       "  </tbody>\n",
       "</table>\n",
       "<p>5 rows × 86 columns</p>\n",
       "</div>"
      ],
      "text/plain": [
       "                     final.output.concentrate_ag  final.output.concentrate_pb  \\\n",
       "date                                                                            \n",
       "2016-01-15 00:00:00                     6.055403                     9.889648   \n",
       "2016-01-15 01:00:00                     6.029369                     9.968944   \n",
       "2016-01-15 02:00:00                     6.055926                    10.213995   \n",
       "2016-01-15 03:00:00                     6.047977                     9.977019   \n",
       "2016-01-15 04:00:00                     6.148599                    10.142511   \n",
       "\n",
       "                     final.output.concentrate_sol  \\\n",
       "date                                                \n",
       "2016-01-15 00:00:00                      5.507324   \n",
       "2016-01-15 01:00:00                      5.257781   \n",
       "2016-01-15 02:00:00                      5.383759   \n",
       "2016-01-15 03:00:00                      4.858634   \n",
       "2016-01-15 04:00:00                      4.939416   \n",
       "\n",
       "                     final.output.concentrate_au  final.output.recovery  \\\n",
       "date                                                                      \n",
       "2016-01-15 00:00:00                    42.192020              70.541216   \n",
       "2016-01-15 01:00:00                    42.701629              69.266198   \n",
       "2016-01-15 02:00:00                    42.657501              68.116445   \n",
       "2016-01-15 03:00:00                    42.689819              68.347543   \n",
       "2016-01-15 04:00:00                    42.774141              66.927016   \n",
       "\n",
       "                     final.output.tail_ag  final.output.tail_pb  \\\n",
       "date                                                              \n",
       "2016-01-15 00:00:00             10.411962              0.895447   \n",
       "2016-01-15 01:00:00             10.462676              0.927452   \n",
       "2016-01-15 02:00:00             10.507046              0.953716   \n",
       "2016-01-15 03:00:00             10.422762              0.883763   \n",
       "2016-01-15 04:00:00             10.360302              0.792826   \n",
       "\n",
       "                     final.output.tail_sol  final.output.tail_au  \\\n",
       "date                                                               \n",
       "2016-01-15 00:00:00              16.904297              2.143149   \n",
       "2016-01-15 01:00:00              16.634514              2.224930   \n",
       "2016-01-15 02:00:00              16.208849              2.257889   \n",
       "2016-01-15 03:00:00              16.532835              2.146849   \n",
       "2016-01-15 04:00:00              16.525686              2.055292   \n",
       "\n",
       "                     primary_cleaner.input.sulfate  ...  \\\n",
       "date                                                ...   \n",
       "2016-01-15 00:00:00                     127.092003  ...   \n",
       "2016-01-15 01:00:00                     125.629232  ...   \n",
       "2016-01-15 02:00:00                     123.819808  ...   \n",
       "2016-01-15 03:00:00                     122.270188  ...   \n",
       "2016-01-15 04:00:00                     117.988169  ...   \n",
       "\n",
       "                     secondary_cleaner.state.floatbank4_a_air  \\\n",
       "date                                                            \n",
       "2016-01-15 00:00:00                                 14.016835   \n",
       "2016-01-15 01:00:00                                 13.992281   \n",
       "2016-01-15 02:00:00                                 14.015015   \n",
       "2016-01-15 03:00:00                                 14.036510   \n",
       "2016-01-15 04:00:00                                 14.027298   \n",
       "\n",
       "                     secondary_cleaner.state.floatbank4_a_level  \\\n",
       "date                                                              \n",
       "2016-01-15 00:00:00                                 -502.488007   \n",
       "2016-01-15 01:00:00                                 -505.503262   \n",
       "2016-01-15 02:00:00                                 -502.520901   \n",
       "2016-01-15 03:00:00                                 -500.857308   \n",
       "2016-01-15 04:00:00                                 -499.838632   \n",
       "\n",
       "                     secondary_cleaner.state.floatbank4_b_air  \\\n",
       "date                                                            \n",
       "2016-01-15 00:00:00                                 12.099931   \n",
       "2016-01-15 01:00:00                                 11.950531   \n",
       "2016-01-15 02:00:00                                 11.912783   \n",
       "2016-01-15 03:00:00                                 11.999550   \n",
       "2016-01-15 04:00:00                                 11.953070   \n",
       "\n",
       "                     secondary_cleaner.state.floatbank4_b_level  \\\n",
       "date                                                              \n",
       "2016-01-15 00:00:00                                 -504.715942   \n",
       "2016-01-15 01:00:00                                 -501.331529   \n",
       "2016-01-15 02:00:00                                 -501.133383   \n",
       "2016-01-15 03:00:00                                 -501.193686   \n",
       "2016-01-15 04:00:00                                 -501.053894   \n",
       "\n",
       "                     secondary_cleaner.state.floatbank5_a_air  \\\n",
       "date                                                            \n",
       "2016-01-15 00:00:00                                  9.925633   \n",
       "2016-01-15 01:00:00                                 10.039245   \n",
       "2016-01-15 02:00:00                                 10.070913   \n",
       "2016-01-15 03:00:00                                  9.970366   \n",
       "2016-01-15 04:00:00                                  9.925709   \n",
       "\n",
       "                     secondary_cleaner.state.floatbank5_a_level  \\\n",
       "date                                                              \n",
       "2016-01-15 00:00:00                                 -498.310211   \n",
       "2016-01-15 01:00:00                                 -500.169983   \n",
       "2016-01-15 02:00:00                                 -500.129135   \n",
       "2016-01-15 03:00:00                                 -499.201640   \n",
       "2016-01-15 04:00:00                                 -501.686727   \n",
       "\n",
       "                     secondary_cleaner.state.floatbank5_b_air  \\\n",
       "date                                                            \n",
       "2016-01-15 00:00:00                                  8.079666   \n",
       "2016-01-15 01:00:00                                  7.984757   \n",
       "2016-01-15 02:00:00                                  8.013877   \n",
       "2016-01-15 03:00:00                                  7.977324   \n",
       "2016-01-15 04:00:00                                  7.894242   \n",
       "\n",
       "                     secondary_cleaner.state.floatbank5_b_level  \\\n",
       "date                                                              \n",
       "2016-01-15 00:00:00                                 -500.470978   \n",
       "2016-01-15 01:00:00                                 -500.582168   \n",
       "2016-01-15 02:00:00                                 -500.517572   \n",
       "2016-01-15 03:00:00                                 -500.255908   \n",
       "2016-01-15 04:00:00                                 -500.356035   \n",
       "\n",
       "                     secondary_cleaner.state.floatbank6_a_air  \\\n",
       "date                                                            \n",
       "2016-01-15 00:00:00                                 14.151341   \n",
       "2016-01-15 01:00:00                                 13.998353   \n",
       "2016-01-15 02:00:00                                 14.028663   \n",
       "2016-01-15 03:00:00                                 14.005551   \n",
       "2016-01-15 04:00:00                                 13.996647   \n",
       "\n",
       "                     secondary_cleaner.state.floatbank6_a_level  \n",
       "date                                                             \n",
       "2016-01-15 00:00:00                                 -605.841980  \n",
       "2016-01-15 01:00:00                                 -599.787184  \n",
       "2016-01-15 02:00:00                                 -601.427363  \n",
       "2016-01-15 03:00:00                                 -599.996129  \n",
       "2016-01-15 04:00:00                                 -601.496691  \n",
       "\n",
       "[5 rows x 86 columns]"
      ]
     },
     "execution_count": 3,
     "metadata": {},
     "output_type": "execute_result"
    }
   ],
   "source": [
    "data_train.head()"
   ]
  },
  {
   "cell_type": "code",
   "execution_count": 4,
   "metadata": {},
   "outputs": [
    {
     "data": {
      "text/html": [
       "<div>\n",
       "<style scoped>\n",
       "    .dataframe tbody tr th:only-of-type {\n",
       "        vertical-align: middle;\n",
       "    }\n",
       "\n",
       "    .dataframe tbody tr th {\n",
       "        vertical-align: top;\n",
       "    }\n",
       "\n",
       "    .dataframe thead th {\n",
       "        text-align: right;\n",
       "    }\n",
       "</style>\n",
       "<table border=\"1\" class=\"dataframe\">\n",
       "  <thead>\n",
       "    <tr style=\"text-align: right;\">\n",
       "      <th></th>\n",
       "      <th>primary_cleaner.input.sulfate</th>\n",
       "      <th>primary_cleaner.input.depressant</th>\n",
       "      <th>primary_cleaner.input.feed_size</th>\n",
       "      <th>primary_cleaner.input.xanthate</th>\n",
       "      <th>primary_cleaner.state.floatbank8_a_air</th>\n",
       "      <th>primary_cleaner.state.floatbank8_a_level</th>\n",
       "      <th>primary_cleaner.state.floatbank8_b_air</th>\n",
       "      <th>primary_cleaner.state.floatbank8_b_level</th>\n",
       "      <th>primary_cleaner.state.floatbank8_c_air</th>\n",
       "      <th>primary_cleaner.state.floatbank8_c_level</th>\n",
       "      <th>...</th>\n",
       "      <th>secondary_cleaner.state.floatbank4_a_air</th>\n",
       "      <th>secondary_cleaner.state.floatbank4_a_level</th>\n",
       "      <th>secondary_cleaner.state.floatbank4_b_air</th>\n",
       "      <th>secondary_cleaner.state.floatbank4_b_level</th>\n",
       "      <th>secondary_cleaner.state.floatbank5_a_air</th>\n",
       "      <th>secondary_cleaner.state.floatbank5_a_level</th>\n",
       "      <th>secondary_cleaner.state.floatbank5_b_air</th>\n",
       "      <th>secondary_cleaner.state.floatbank5_b_level</th>\n",
       "      <th>secondary_cleaner.state.floatbank6_a_air</th>\n",
       "      <th>secondary_cleaner.state.floatbank6_a_level</th>\n",
       "    </tr>\n",
       "    <tr>\n",
       "      <th>date</th>\n",
       "      <th></th>\n",
       "      <th></th>\n",
       "      <th></th>\n",
       "      <th></th>\n",
       "      <th></th>\n",
       "      <th></th>\n",
       "      <th></th>\n",
       "      <th></th>\n",
       "      <th></th>\n",
       "      <th></th>\n",
       "      <th></th>\n",
       "      <th></th>\n",
       "      <th></th>\n",
       "      <th></th>\n",
       "      <th></th>\n",
       "      <th></th>\n",
       "      <th></th>\n",
       "      <th></th>\n",
       "      <th></th>\n",
       "      <th></th>\n",
       "      <th></th>\n",
       "    </tr>\n",
       "  </thead>\n",
       "  <tbody>\n",
       "    <tr>\n",
       "      <th>2016-09-01 00:59:59</th>\n",
       "      <td>210.800909</td>\n",
       "      <td>14.993118</td>\n",
       "      <td>8.080000</td>\n",
       "      <td>1.005021</td>\n",
       "      <td>1398.981301</td>\n",
       "      <td>-500.225577</td>\n",
       "      <td>1399.144926</td>\n",
       "      <td>-499.919735</td>\n",
       "      <td>1400.102998</td>\n",
       "      <td>-500.704369</td>\n",
       "      <td>...</td>\n",
       "      <td>12.023554</td>\n",
       "      <td>-497.795834</td>\n",
       "      <td>8.016656</td>\n",
       "      <td>-501.289139</td>\n",
       "      <td>7.946562</td>\n",
       "      <td>-432.317850</td>\n",
       "      <td>4.872511</td>\n",
       "      <td>-500.037437</td>\n",
       "      <td>26.705889</td>\n",
       "      <td>-499.709414</td>\n",
       "    </tr>\n",
       "    <tr>\n",
       "      <th>2016-09-01 01:59:59</th>\n",
       "      <td>215.392455</td>\n",
       "      <td>14.987471</td>\n",
       "      <td>8.080000</td>\n",
       "      <td>0.990469</td>\n",
       "      <td>1398.777912</td>\n",
       "      <td>-500.057435</td>\n",
       "      <td>1398.055362</td>\n",
       "      <td>-499.778182</td>\n",
       "      <td>1396.151033</td>\n",
       "      <td>-499.240168</td>\n",
       "      <td>...</td>\n",
       "      <td>12.058140</td>\n",
       "      <td>-498.695773</td>\n",
       "      <td>8.130979</td>\n",
       "      <td>-499.634209</td>\n",
       "      <td>7.958270</td>\n",
       "      <td>-525.839648</td>\n",
       "      <td>4.878850</td>\n",
       "      <td>-500.162375</td>\n",
       "      <td>25.019940</td>\n",
       "      <td>-499.819438</td>\n",
       "    </tr>\n",
       "    <tr>\n",
       "      <th>2016-09-01 02:59:59</th>\n",
       "      <td>215.259946</td>\n",
       "      <td>12.884934</td>\n",
       "      <td>7.786667</td>\n",
       "      <td>0.996043</td>\n",
       "      <td>1398.493666</td>\n",
       "      <td>-500.868360</td>\n",
       "      <td>1398.860436</td>\n",
       "      <td>-499.764529</td>\n",
       "      <td>1398.075709</td>\n",
       "      <td>-502.151509</td>\n",
       "      <td>...</td>\n",
       "      <td>11.962366</td>\n",
       "      <td>-498.767484</td>\n",
       "      <td>8.096893</td>\n",
       "      <td>-500.827423</td>\n",
       "      <td>8.071056</td>\n",
       "      <td>-500.801673</td>\n",
       "      <td>4.905125</td>\n",
       "      <td>-499.828510</td>\n",
       "      <td>24.994862</td>\n",
       "      <td>-500.622559</td>\n",
       "    </tr>\n",
       "    <tr>\n",
       "      <th>2016-09-01 03:59:59</th>\n",
       "      <td>215.336236</td>\n",
       "      <td>12.006805</td>\n",
       "      <td>7.640000</td>\n",
       "      <td>0.863514</td>\n",
       "      <td>1399.618111</td>\n",
       "      <td>-498.863574</td>\n",
       "      <td>1397.440120</td>\n",
       "      <td>-499.211024</td>\n",
       "      <td>1400.129303</td>\n",
       "      <td>-498.355873</td>\n",
       "      <td>...</td>\n",
       "      <td>12.033091</td>\n",
       "      <td>-498.350935</td>\n",
       "      <td>8.074946</td>\n",
       "      <td>-499.474407</td>\n",
       "      <td>7.897085</td>\n",
       "      <td>-500.868509</td>\n",
       "      <td>4.931400</td>\n",
       "      <td>-499.963623</td>\n",
       "      <td>24.948919</td>\n",
       "      <td>-498.709987</td>\n",
       "    </tr>\n",
       "    <tr>\n",
       "      <th>2016-09-01 04:59:59</th>\n",
       "      <td>199.099327</td>\n",
       "      <td>10.682530</td>\n",
       "      <td>7.530000</td>\n",
       "      <td>0.805575</td>\n",
       "      <td>1401.268123</td>\n",
       "      <td>-500.808305</td>\n",
       "      <td>1398.128818</td>\n",
       "      <td>-499.504543</td>\n",
       "      <td>1402.172226</td>\n",
       "      <td>-500.810606</td>\n",
       "      <td>...</td>\n",
       "      <td>12.025367</td>\n",
       "      <td>-500.786497</td>\n",
       "      <td>8.054678</td>\n",
       "      <td>-500.397500</td>\n",
       "      <td>8.107890</td>\n",
       "      <td>-509.526725</td>\n",
       "      <td>4.957674</td>\n",
       "      <td>-500.360026</td>\n",
       "      <td>25.003331</td>\n",
       "      <td>-500.856333</td>\n",
       "    </tr>\n",
       "  </tbody>\n",
       "</table>\n",
       "<p>5 rows × 52 columns</p>\n",
       "</div>"
      ],
      "text/plain": [
       "                     primary_cleaner.input.sulfate  \\\n",
       "date                                                 \n",
       "2016-09-01 00:59:59                     210.800909   \n",
       "2016-09-01 01:59:59                     215.392455   \n",
       "2016-09-01 02:59:59                     215.259946   \n",
       "2016-09-01 03:59:59                     215.336236   \n",
       "2016-09-01 04:59:59                     199.099327   \n",
       "\n",
       "                     primary_cleaner.input.depressant  \\\n",
       "date                                                    \n",
       "2016-09-01 00:59:59                         14.993118   \n",
       "2016-09-01 01:59:59                         14.987471   \n",
       "2016-09-01 02:59:59                         12.884934   \n",
       "2016-09-01 03:59:59                         12.006805   \n",
       "2016-09-01 04:59:59                         10.682530   \n",
       "\n",
       "                     primary_cleaner.input.feed_size  \\\n",
       "date                                                   \n",
       "2016-09-01 00:59:59                         8.080000   \n",
       "2016-09-01 01:59:59                         8.080000   \n",
       "2016-09-01 02:59:59                         7.786667   \n",
       "2016-09-01 03:59:59                         7.640000   \n",
       "2016-09-01 04:59:59                         7.530000   \n",
       "\n",
       "                     primary_cleaner.input.xanthate  \\\n",
       "date                                                  \n",
       "2016-09-01 00:59:59                        1.005021   \n",
       "2016-09-01 01:59:59                        0.990469   \n",
       "2016-09-01 02:59:59                        0.996043   \n",
       "2016-09-01 03:59:59                        0.863514   \n",
       "2016-09-01 04:59:59                        0.805575   \n",
       "\n",
       "                     primary_cleaner.state.floatbank8_a_air  \\\n",
       "date                                                          \n",
       "2016-09-01 00:59:59                             1398.981301   \n",
       "2016-09-01 01:59:59                             1398.777912   \n",
       "2016-09-01 02:59:59                             1398.493666   \n",
       "2016-09-01 03:59:59                             1399.618111   \n",
       "2016-09-01 04:59:59                             1401.268123   \n",
       "\n",
       "                     primary_cleaner.state.floatbank8_a_level  \\\n",
       "date                                                            \n",
       "2016-09-01 00:59:59                               -500.225577   \n",
       "2016-09-01 01:59:59                               -500.057435   \n",
       "2016-09-01 02:59:59                               -500.868360   \n",
       "2016-09-01 03:59:59                               -498.863574   \n",
       "2016-09-01 04:59:59                               -500.808305   \n",
       "\n",
       "                     primary_cleaner.state.floatbank8_b_air  \\\n",
       "date                                                          \n",
       "2016-09-01 00:59:59                             1399.144926   \n",
       "2016-09-01 01:59:59                             1398.055362   \n",
       "2016-09-01 02:59:59                             1398.860436   \n",
       "2016-09-01 03:59:59                             1397.440120   \n",
       "2016-09-01 04:59:59                             1398.128818   \n",
       "\n",
       "                     primary_cleaner.state.floatbank8_b_level  \\\n",
       "date                                                            \n",
       "2016-09-01 00:59:59                               -499.919735   \n",
       "2016-09-01 01:59:59                               -499.778182   \n",
       "2016-09-01 02:59:59                               -499.764529   \n",
       "2016-09-01 03:59:59                               -499.211024   \n",
       "2016-09-01 04:59:59                               -499.504543   \n",
       "\n",
       "                     primary_cleaner.state.floatbank8_c_air  \\\n",
       "date                                                          \n",
       "2016-09-01 00:59:59                             1400.102998   \n",
       "2016-09-01 01:59:59                             1396.151033   \n",
       "2016-09-01 02:59:59                             1398.075709   \n",
       "2016-09-01 03:59:59                             1400.129303   \n",
       "2016-09-01 04:59:59                             1402.172226   \n",
       "\n",
       "                     primary_cleaner.state.floatbank8_c_level  ...  \\\n",
       "date                                                           ...   \n",
       "2016-09-01 00:59:59                               -500.704369  ...   \n",
       "2016-09-01 01:59:59                               -499.240168  ...   \n",
       "2016-09-01 02:59:59                               -502.151509  ...   \n",
       "2016-09-01 03:59:59                               -498.355873  ...   \n",
       "2016-09-01 04:59:59                               -500.810606  ...   \n",
       "\n",
       "                     secondary_cleaner.state.floatbank4_a_air  \\\n",
       "date                                                            \n",
       "2016-09-01 00:59:59                                 12.023554   \n",
       "2016-09-01 01:59:59                                 12.058140   \n",
       "2016-09-01 02:59:59                                 11.962366   \n",
       "2016-09-01 03:59:59                                 12.033091   \n",
       "2016-09-01 04:59:59                                 12.025367   \n",
       "\n",
       "                     secondary_cleaner.state.floatbank4_a_level  \\\n",
       "date                                                              \n",
       "2016-09-01 00:59:59                                 -497.795834   \n",
       "2016-09-01 01:59:59                                 -498.695773   \n",
       "2016-09-01 02:59:59                                 -498.767484   \n",
       "2016-09-01 03:59:59                                 -498.350935   \n",
       "2016-09-01 04:59:59                                 -500.786497   \n",
       "\n",
       "                     secondary_cleaner.state.floatbank4_b_air  \\\n",
       "date                                                            \n",
       "2016-09-01 00:59:59                                  8.016656   \n",
       "2016-09-01 01:59:59                                  8.130979   \n",
       "2016-09-01 02:59:59                                  8.096893   \n",
       "2016-09-01 03:59:59                                  8.074946   \n",
       "2016-09-01 04:59:59                                  8.054678   \n",
       "\n",
       "                     secondary_cleaner.state.floatbank4_b_level  \\\n",
       "date                                                              \n",
       "2016-09-01 00:59:59                                 -501.289139   \n",
       "2016-09-01 01:59:59                                 -499.634209   \n",
       "2016-09-01 02:59:59                                 -500.827423   \n",
       "2016-09-01 03:59:59                                 -499.474407   \n",
       "2016-09-01 04:59:59                                 -500.397500   \n",
       "\n",
       "                     secondary_cleaner.state.floatbank5_a_air  \\\n",
       "date                                                            \n",
       "2016-09-01 00:59:59                                  7.946562   \n",
       "2016-09-01 01:59:59                                  7.958270   \n",
       "2016-09-01 02:59:59                                  8.071056   \n",
       "2016-09-01 03:59:59                                  7.897085   \n",
       "2016-09-01 04:59:59                                  8.107890   \n",
       "\n",
       "                     secondary_cleaner.state.floatbank5_a_level  \\\n",
       "date                                                              \n",
       "2016-09-01 00:59:59                                 -432.317850   \n",
       "2016-09-01 01:59:59                                 -525.839648   \n",
       "2016-09-01 02:59:59                                 -500.801673   \n",
       "2016-09-01 03:59:59                                 -500.868509   \n",
       "2016-09-01 04:59:59                                 -509.526725   \n",
       "\n",
       "                     secondary_cleaner.state.floatbank5_b_air  \\\n",
       "date                                                            \n",
       "2016-09-01 00:59:59                                  4.872511   \n",
       "2016-09-01 01:59:59                                  4.878850   \n",
       "2016-09-01 02:59:59                                  4.905125   \n",
       "2016-09-01 03:59:59                                  4.931400   \n",
       "2016-09-01 04:59:59                                  4.957674   \n",
       "\n",
       "                     secondary_cleaner.state.floatbank5_b_level  \\\n",
       "date                                                              \n",
       "2016-09-01 00:59:59                                 -500.037437   \n",
       "2016-09-01 01:59:59                                 -500.162375   \n",
       "2016-09-01 02:59:59                                 -499.828510   \n",
       "2016-09-01 03:59:59                                 -499.963623   \n",
       "2016-09-01 04:59:59                                 -500.360026   \n",
       "\n",
       "                     secondary_cleaner.state.floatbank6_a_air  \\\n",
       "date                                                            \n",
       "2016-09-01 00:59:59                                 26.705889   \n",
       "2016-09-01 01:59:59                                 25.019940   \n",
       "2016-09-01 02:59:59                                 24.994862   \n",
       "2016-09-01 03:59:59                                 24.948919   \n",
       "2016-09-01 04:59:59                                 25.003331   \n",
       "\n",
       "                     secondary_cleaner.state.floatbank6_a_level  \n",
       "date                                                             \n",
       "2016-09-01 00:59:59                                 -499.709414  \n",
       "2016-09-01 01:59:59                                 -499.819438  \n",
       "2016-09-01 02:59:59                                 -500.622559  \n",
       "2016-09-01 03:59:59                                 -498.709987  \n",
       "2016-09-01 04:59:59                                 -500.856333  \n",
       "\n",
       "[5 rows x 52 columns]"
      ]
     },
     "execution_count": 4,
     "metadata": {},
     "output_type": "execute_result"
    }
   ],
   "source": [
    "data_test.head()"
   ]
  },
  {
   "cell_type": "code",
   "execution_count": 5,
   "metadata": {
    "scrolled": false
   },
   "outputs": [
    {
     "data": {
      "text/html": [
       "<div>\n",
       "<style scoped>\n",
       "    .dataframe tbody tr th:only-of-type {\n",
       "        vertical-align: middle;\n",
       "    }\n",
       "\n",
       "    .dataframe tbody tr th {\n",
       "        vertical-align: top;\n",
       "    }\n",
       "\n",
       "    .dataframe thead th {\n",
       "        text-align: right;\n",
       "    }\n",
       "</style>\n",
       "<table border=\"1\" class=\"dataframe\">\n",
       "  <thead>\n",
       "    <tr style=\"text-align: right;\">\n",
       "      <th></th>\n",
       "      <th>final.output.concentrate_ag</th>\n",
       "      <th>final.output.concentrate_pb</th>\n",
       "      <th>final.output.concentrate_sol</th>\n",
       "      <th>final.output.concentrate_au</th>\n",
       "      <th>final.output.recovery</th>\n",
       "      <th>final.output.tail_ag</th>\n",
       "      <th>final.output.tail_pb</th>\n",
       "      <th>final.output.tail_sol</th>\n",
       "      <th>final.output.tail_au</th>\n",
       "      <th>primary_cleaner.input.sulfate</th>\n",
       "      <th>...</th>\n",
       "      <th>secondary_cleaner.state.floatbank4_a_air</th>\n",
       "      <th>secondary_cleaner.state.floatbank4_a_level</th>\n",
       "      <th>secondary_cleaner.state.floatbank4_b_air</th>\n",
       "      <th>secondary_cleaner.state.floatbank4_b_level</th>\n",
       "      <th>secondary_cleaner.state.floatbank5_a_air</th>\n",
       "      <th>secondary_cleaner.state.floatbank5_a_level</th>\n",
       "      <th>secondary_cleaner.state.floatbank5_b_air</th>\n",
       "      <th>secondary_cleaner.state.floatbank5_b_level</th>\n",
       "      <th>secondary_cleaner.state.floatbank6_a_air</th>\n",
       "      <th>secondary_cleaner.state.floatbank6_a_level</th>\n",
       "    </tr>\n",
       "    <tr>\n",
       "      <th>date</th>\n",
       "      <th></th>\n",
       "      <th></th>\n",
       "      <th></th>\n",
       "      <th></th>\n",
       "      <th></th>\n",
       "      <th></th>\n",
       "      <th></th>\n",
       "      <th></th>\n",
       "      <th></th>\n",
       "      <th></th>\n",
       "      <th></th>\n",
       "      <th></th>\n",
       "      <th></th>\n",
       "      <th></th>\n",
       "      <th></th>\n",
       "      <th></th>\n",
       "      <th></th>\n",
       "      <th></th>\n",
       "      <th></th>\n",
       "      <th></th>\n",
       "      <th></th>\n",
       "    </tr>\n",
       "  </thead>\n",
       "  <tbody>\n",
       "    <tr>\n",
       "      <th>2016-01-15 00:00:00</th>\n",
       "      <td>6.055403</td>\n",
       "      <td>9.889648</td>\n",
       "      <td>5.507324</td>\n",
       "      <td>42.192020</td>\n",
       "      <td>70.541216</td>\n",
       "      <td>10.411962</td>\n",
       "      <td>0.895447</td>\n",
       "      <td>16.904297</td>\n",
       "      <td>2.143149</td>\n",
       "      <td>127.092003</td>\n",
       "      <td>...</td>\n",
       "      <td>14.016835</td>\n",
       "      <td>-502.488007</td>\n",
       "      <td>12.099931</td>\n",
       "      <td>-504.715942</td>\n",
       "      <td>9.925633</td>\n",
       "      <td>-498.310211</td>\n",
       "      <td>8.079666</td>\n",
       "      <td>-500.470978</td>\n",
       "      <td>14.151341</td>\n",
       "      <td>-605.841980</td>\n",
       "    </tr>\n",
       "    <tr>\n",
       "      <th>2016-01-15 01:00:00</th>\n",
       "      <td>6.029369</td>\n",
       "      <td>9.968944</td>\n",
       "      <td>5.257781</td>\n",
       "      <td>42.701629</td>\n",
       "      <td>69.266198</td>\n",
       "      <td>10.462676</td>\n",
       "      <td>0.927452</td>\n",
       "      <td>16.634514</td>\n",
       "      <td>2.224930</td>\n",
       "      <td>125.629232</td>\n",
       "      <td>...</td>\n",
       "      <td>13.992281</td>\n",
       "      <td>-505.503262</td>\n",
       "      <td>11.950531</td>\n",
       "      <td>-501.331529</td>\n",
       "      <td>10.039245</td>\n",
       "      <td>-500.169983</td>\n",
       "      <td>7.984757</td>\n",
       "      <td>-500.582168</td>\n",
       "      <td>13.998353</td>\n",
       "      <td>-599.787184</td>\n",
       "    </tr>\n",
       "    <tr>\n",
       "      <th>2016-01-15 02:00:00</th>\n",
       "      <td>6.055926</td>\n",
       "      <td>10.213995</td>\n",
       "      <td>5.383759</td>\n",
       "      <td>42.657501</td>\n",
       "      <td>68.116445</td>\n",
       "      <td>10.507046</td>\n",
       "      <td>0.953716</td>\n",
       "      <td>16.208849</td>\n",
       "      <td>2.257889</td>\n",
       "      <td>123.819808</td>\n",
       "      <td>...</td>\n",
       "      <td>14.015015</td>\n",
       "      <td>-502.520901</td>\n",
       "      <td>11.912783</td>\n",
       "      <td>-501.133383</td>\n",
       "      <td>10.070913</td>\n",
       "      <td>-500.129135</td>\n",
       "      <td>8.013877</td>\n",
       "      <td>-500.517572</td>\n",
       "      <td>14.028663</td>\n",
       "      <td>-601.427363</td>\n",
       "    </tr>\n",
       "    <tr>\n",
       "      <th>2016-01-15 03:00:00</th>\n",
       "      <td>6.047977</td>\n",
       "      <td>9.977019</td>\n",
       "      <td>4.858634</td>\n",
       "      <td>42.689819</td>\n",
       "      <td>68.347543</td>\n",
       "      <td>10.422762</td>\n",
       "      <td>0.883763</td>\n",
       "      <td>16.532835</td>\n",
       "      <td>2.146849</td>\n",
       "      <td>122.270188</td>\n",
       "      <td>...</td>\n",
       "      <td>14.036510</td>\n",
       "      <td>-500.857308</td>\n",
       "      <td>11.999550</td>\n",
       "      <td>-501.193686</td>\n",
       "      <td>9.970366</td>\n",
       "      <td>-499.201640</td>\n",
       "      <td>7.977324</td>\n",
       "      <td>-500.255908</td>\n",
       "      <td>14.005551</td>\n",
       "      <td>-599.996129</td>\n",
       "    </tr>\n",
       "    <tr>\n",
       "      <th>2016-01-15 04:00:00</th>\n",
       "      <td>6.148599</td>\n",
       "      <td>10.142511</td>\n",
       "      <td>4.939416</td>\n",
       "      <td>42.774141</td>\n",
       "      <td>66.927016</td>\n",
       "      <td>10.360302</td>\n",
       "      <td>0.792826</td>\n",
       "      <td>16.525686</td>\n",
       "      <td>2.055292</td>\n",
       "      <td>117.988169</td>\n",
       "      <td>...</td>\n",
       "      <td>14.027298</td>\n",
       "      <td>-499.838632</td>\n",
       "      <td>11.953070</td>\n",
       "      <td>-501.053894</td>\n",
       "      <td>9.925709</td>\n",
       "      <td>-501.686727</td>\n",
       "      <td>7.894242</td>\n",
       "      <td>-500.356035</td>\n",
       "      <td>13.996647</td>\n",
       "      <td>-601.496691</td>\n",
       "    </tr>\n",
       "  </tbody>\n",
       "</table>\n",
       "<p>5 rows × 86 columns</p>\n",
       "</div>"
      ],
      "text/plain": [
       "                     final.output.concentrate_ag  final.output.concentrate_pb  \\\n",
       "date                                                                            \n",
       "2016-01-15 00:00:00                     6.055403                     9.889648   \n",
       "2016-01-15 01:00:00                     6.029369                     9.968944   \n",
       "2016-01-15 02:00:00                     6.055926                    10.213995   \n",
       "2016-01-15 03:00:00                     6.047977                     9.977019   \n",
       "2016-01-15 04:00:00                     6.148599                    10.142511   \n",
       "\n",
       "                     final.output.concentrate_sol  \\\n",
       "date                                                \n",
       "2016-01-15 00:00:00                      5.507324   \n",
       "2016-01-15 01:00:00                      5.257781   \n",
       "2016-01-15 02:00:00                      5.383759   \n",
       "2016-01-15 03:00:00                      4.858634   \n",
       "2016-01-15 04:00:00                      4.939416   \n",
       "\n",
       "                     final.output.concentrate_au  final.output.recovery  \\\n",
       "date                                                                      \n",
       "2016-01-15 00:00:00                    42.192020              70.541216   \n",
       "2016-01-15 01:00:00                    42.701629              69.266198   \n",
       "2016-01-15 02:00:00                    42.657501              68.116445   \n",
       "2016-01-15 03:00:00                    42.689819              68.347543   \n",
       "2016-01-15 04:00:00                    42.774141              66.927016   \n",
       "\n",
       "                     final.output.tail_ag  final.output.tail_pb  \\\n",
       "date                                                              \n",
       "2016-01-15 00:00:00             10.411962              0.895447   \n",
       "2016-01-15 01:00:00             10.462676              0.927452   \n",
       "2016-01-15 02:00:00             10.507046              0.953716   \n",
       "2016-01-15 03:00:00             10.422762              0.883763   \n",
       "2016-01-15 04:00:00             10.360302              0.792826   \n",
       "\n",
       "                     final.output.tail_sol  final.output.tail_au  \\\n",
       "date                                                               \n",
       "2016-01-15 00:00:00              16.904297              2.143149   \n",
       "2016-01-15 01:00:00              16.634514              2.224930   \n",
       "2016-01-15 02:00:00              16.208849              2.257889   \n",
       "2016-01-15 03:00:00              16.532835              2.146849   \n",
       "2016-01-15 04:00:00              16.525686              2.055292   \n",
       "\n",
       "                     primary_cleaner.input.sulfate  ...  \\\n",
       "date                                                ...   \n",
       "2016-01-15 00:00:00                     127.092003  ...   \n",
       "2016-01-15 01:00:00                     125.629232  ...   \n",
       "2016-01-15 02:00:00                     123.819808  ...   \n",
       "2016-01-15 03:00:00                     122.270188  ...   \n",
       "2016-01-15 04:00:00                     117.988169  ...   \n",
       "\n",
       "                     secondary_cleaner.state.floatbank4_a_air  \\\n",
       "date                                                            \n",
       "2016-01-15 00:00:00                                 14.016835   \n",
       "2016-01-15 01:00:00                                 13.992281   \n",
       "2016-01-15 02:00:00                                 14.015015   \n",
       "2016-01-15 03:00:00                                 14.036510   \n",
       "2016-01-15 04:00:00                                 14.027298   \n",
       "\n",
       "                     secondary_cleaner.state.floatbank4_a_level  \\\n",
       "date                                                              \n",
       "2016-01-15 00:00:00                                 -502.488007   \n",
       "2016-01-15 01:00:00                                 -505.503262   \n",
       "2016-01-15 02:00:00                                 -502.520901   \n",
       "2016-01-15 03:00:00                                 -500.857308   \n",
       "2016-01-15 04:00:00                                 -499.838632   \n",
       "\n",
       "                     secondary_cleaner.state.floatbank4_b_air  \\\n",
       "date                                                            \n",
       "2016-01-15 00:00:00                                 12.099931   \n",
       "2016-01-15 01:00:00                                 11.950531   \n",
       "2016-01-15 02:00:00                                 11.912783   \n",
       "2016-01-15 03:00:00                                 11.999550   \n",
       "2016-01-15 04:00:00                                 11.953070   \n",
       "\n",
       "                     secondary_cleaner.state.floatbank4_b_level  \\\n",
       "date                                                              \n",
       "2016-01-15 00:00:00                                 -504.715942   \n",
       "2016-01-15 01:00:00                                 -501.331529   \n",
       "2016-01-15 02:00:00                                 -501.133383   \n",
       "2016-01-15 03:00:00                                 -501.193686   \n",
       "2016-01-15 04:00:00                                 -501.053894   \n",
       "\n",
       "                     secondary_cleaner.state.floatbank5_a_air  \\\n",
       "date                                                            \n",
       "2016-01-15 00:00:00                                  9.925633   \n",
       "2016-01-15 01:00:00                                 10.039245   \n",
       "2016-01-15 02:00:00                                 10.070913   \n",
       "2016-01-15 03:00:00                                  9.970366   \n",
       "2016-01-15 04:00:00                                  9.925709   \n",
       "\n",
       "                     secondary_cleaner.state.floatbank5_a_level  \\\n",
       "date                                                              \n",
       "2016-01-15 00:00:00                                 -498.310211   \n",
       "2016-01-15 01:00:00                                 -500.169983   \n",
       "2016-01-15 02:00:00                                 -500.129135   \n",
       "2016-01-15 03:00:00                                 -499.201640   \n",
       "2016-01-15 04:00:00                                 -501.686727   \n",
       "\n",
       "                     secondary_cleaner.state.floatbank5_b_air  \\\n",
       "date                                                            \n",
       "2016-01-15 00:00:00                                  8.079666   \n",
       "2016-01-15 01:00:00                                  7.984757   \n",
       "2016-01-15 02:00:00                                  8.013877   \n",
       "2016-01-15 03:00:00                                  7.977324   \n",
       "2016-01-15 04:00:00                                  7.894242   \n",
       "\n",
       "                     secondary_cleaner.state.floatbank5_b_level  \\\n",
       "date                                                              \n",
       "2016-01-15 00:00:00                                 -500.470978   \n",
       "2016-01-15 01:00:00                                 -500.582168   \n",
       "2016-01-15 02:00:00                                 -500.517572   \n",
       "2016-01-15 03:00:00                                 -500.255908   \n",
       "2016-01-15 04:00:00                                 -500.356035   \n",
       "\n",
       "                     secondary_cleaner.state.floatbank6_a_air  \\\n",
       "date                                                            \n",
       "2016-01-15 00:00:00                                 14.151341   \n",
       "2016-01-15 01:00:00                                 13.998353   \n",
       "2016-01-15 02:00:00                                 14.028663   \n",
       "2016-01-15 03:00:00                                 14.005551   \n",
       "2016-01-15 04:00:00                                 13.996647   \n",
       "\n",
       "                     secondary_cleaner.state.floatbank6_a_level  \n",
       "date                                                             \n",
       "2016-01-15 00:00:00                                 -605.841980  \n",
       "2016-01-15 01:00:00                                 -599.787184  \n",
       "2016-01-15 02:00:00                                 -601.427363  \n",
       "2016-01-15 03:00:00                                 -599.996129  \n",
       "2016-01-15 04:00:00                                 -601.496691  \n",
       "\n",
       "[5 rows x 86 columns]"
      ]
     },
     "execution_count": 5,
     "metadata": {},
     "output_type": "execute_result"
    }
   ],
   "source": [
    "data_full.head()"
   ]
  },
  {
   "cell_type": "markdown",
   "metadata": {},
   "source": [
    "Проверим правильность вычисления параметра `rougher.output.recovery` на тренировочных данных."
   ]
  },
  {
   "cell_type": "code",
   "execution_count": 6,
   "metadata": {},
   "outputs": [
    {
     "data": {
      "text/plain": [
       "date\n",
       "2016-01-15 00:00:00    87.107763\n",
       "2016-01-15 01:00:00    86.843261\n",
       "2016-01-15 02:00:00    86.842308\n",
       "2016-01-15 03:00:00    87.226430\n",
       "2016-01-15 04:00:00    86.688794\n",
       "                         ...    \n",
       "2018-08-18 06:59:59    89.574376\n",
       "2018-08-18 07:59:59    87.724007\n",
       "2018-08-18 08:59:59    88.890579\n",
       "2018-08-18 09:59:59    89.858126\n",
       "2018-08-18 10:59:59    89.514960\n",
       "Name: rougher.output.recovery, Length: 14149, dtype: float64"
      ]
     },
     "execution_count": 6,
     "metadata": {},
     "output_type": "execute_result"
    }
   ],
   "source": [
    "data_train['rougher.output.recovery']"
   ]
  },
  {
   "cell_type": "code",
   "execution_count": 7,
   "metadata": {},
   "outputs": [],
   "source": [
    "ror = pd.Series((data_train['rougher.output.concentrate_au'] * (\n",
    "               data_train['rougher.input.feed_au'] - data_train['rougher.output.tail_au'])) /\n",
    "               (data_train['rougher.input.feed_au'] * (\n",
    "               data_train['rougher.output.concentrate_au'] - data_train['rougher.output.tail_au'])) * 100)"
   ]
  },
  {
   "cell_type": "code",
   "execution_count": 8,
   "metadata": {},
   "outputs": [
    {
     "data": {
      "text/plain": [
       "date\n",
       "2016-01-15 00:00:00    87.107763\n",
       "2016-01-15 01:00:00    86.843261\n",
       "2016-01-15 02:00:00    86.842308\n",
       "2016-01-15 03:00:00    87.226430\n",
       "2016-01-15 04:00:00    86.688794\n",
       "                         ...    \n",
       "2018-08-18 06:59:59    89.574376\n",
       "2018-08-18 07:59:59    87.724007\n",
       "2018-08-18 08:59:59    88.890579\n",
       "2018-08-18 09:59:59    89.858126\n",
       "2018-08-18 10:59:59    89.514960\n",
       "Length: 14149, dtype: float64"
      ]
     },
     "execution_count": 8,
     "metadata": {},
     "output_type": "execute_result"
    }
   ],
   "source": [
    "ror"
   ]
  },
  {
   "cell_type": "markdown",
   "metadata": {},
   "source": [
    "Найдем MAE между расчетами и значением признака."
   ]
  },
  {
   "cell_type": "code",
   "execution_count": 9,
   "metadata": {},
   "outputs": [
    {
     "data": {
      "text/plain": [
       "9.73512347450521e-15"
      ]
     },
     "execution_count": 9,
     "metadata": {},
     "output_type": "execute_result"
    }
   ],
   "source": [
    "mae = mean_absolute_error(ror, data_train['rougher.output.recovery'])\n",
    "mae"
   ]
  },
  {
   "cell_type": "markdown",
   "metadata": {},
   "source": [
    "Значение MAE очень мало, значит можно сделать вывод, что вычисления проведены верно."
   ]
  },
  {
   "cell_type": "markdown",
   "metadata": {},
   "source": [
    "В таблице с тестовыми значениями меньше столбцов, чем в обучающем наборе. Посмотрим, что это за столбцы."
   ]
  },
  {
   "cell_type": "code",
   "execution_count": 10,
   "metadata": {},
   "outputs": [
    {
     "data": {
      "text/plain": [
       "{'final.output.concentrate_ag',\n",
       " 'final.output.concentrate_au',\n",
       " 'final.output.concentrate_pb',\n",
       " 'final.output.concentrate_sol',\n",
       " 'final.output.recovery',\n",
       " 'final.output.tail_ag',\n",
       " 'final.output.tail_au',\n",
       " 'final.output.tail_pb',\n",
       " 'final.output.tail_sol',\n",
       " 'primary_cleaner.output.concentrate_ag',\n",
       " 'primary_cleaner.output.concentrate_au',\n",
       " 'primary_cleaner.output.concentrate_pb',\n",
       " 'primary_cleaner.output.concentrate_sol',\n",
       " 'primary_cleaner.output.tail_ag',\n",
       " 'primary_cleaner.output.tail_au',\n",
       " 'primary_cleaner.output.tail_pb',\n",
       " 'primary_cleaner.output.tail_sol',\n",
       " 'rougher.calculation.au_pb_ratio',\n",
       " 'rougher.calculation.floatbank10_sulfate_to_au_feed',\n",
       " 'rougher.calculation.floatbank11_sulfate_to_au_feed',\n",
       " 'rougher.calculation.sulfate_to_au_concentrate',\n",
       " 'rougher.output.concentrate_ag',\n",
       " 'rougher.output.concentrate_au',\n",
       " 'rougher.output.concentrate_pb',\n",
       " 'rougher.output.concentrate_sol',\n",
       " 'rougher.output.recovery',\n",
       " 'rougher.output.tail_ag',\n",
       " 'rougher.output.tail_au',\n",
       " 'rougher.output.tail_pb',\n",
       " 'rougher.output.tail_sol',\n",
       " 'secondary_cleaner.output.tail_ag',\n",
       " 'secondary_cleaner.output.tail_au',\n",
       " 'secondary_cleaner.output.tail_pb',\n",
       " 'secondary_cleaner.output.tail_sol'}"
      ]
     },
     "execution_count": 10,
     "metadata": {},
     "output_type": "execute_result"
    }
   ],
   "source": [
    "set(data_train.columns) - set(data_test.columns)"
   ]
  },
  {
   "cell_type": "markdown",
   "metadata": {},
   "source": [
    "В тестовых данных отсутствуют характеристики продукта после каждого этапа и ряд расчетных характеристик этапа флотации."
   ]
  },
  {
   "cell_type": "markdown",
   "metadata": {},
   "source": [
    "Заполним пропуски в значениях. Поскольку данные упорядочены по дате, а соседние по дате параметры часто схожи (из условия), то заполним каждый пропуск предыдущим в таблице значением."
   ]
  },
  {
   "cell_type": "code",
   "execution_count": 11,
   "metadata": {},
   "outputs": [],
   "source": [
    "data_train.fillna(method='ffill', inplace=True)\n",
    "data_test.fillna(method='ffill', inplace=True)\n",
    "data_full.fillna(method='ffill', inplace=True)"
   ]
  },
  {
   "cell_type": "markdown",
   "metadata": {},
   "source": [
    "В тестовых данных нет целевых признаков, выберем их из полных данных."
   ]
  },
  {
   "cell_type": "code",
   "execution_count": 12,
   "metadata": {},
   "outputs": [],
   "source": [
    "target_test = data_full[['rougher.output.recovery', 'final.output.recovery']].loc[data_test.index]"
   ]
  },
  {
   "cell_type": "code",
   "execution_count": 13,
   "metadata": {},
   "outputs": [
    {
     "data": {
      "text/html": [
       "<div>\n",
       "<style scoped>\n",
       "    .dataframe tbody tr th:only-of-type {\n",
       "        vertical-align: middle;\n",
       "    }\n",
       "\n",
       "    .dataframe tbody tr th {\n",
       "        vertical-align: top;\n",
       "    }\n",
       "\n",
       "    .dataframe thead th {\n",
       "        text-align: right;\n",
       "    }\n",
       "</style>\n",
       "<table border=\"1\" class=\"dataframe\">\n",
       "  <thead>\n",
       "    <tr style=\"text-align: right;\">\n",
       "      <th></th>\n",
       "      <th>rougher.output.recovery</th>\n",
       "      <th>final.output.recovery</th>\n",
       "    </tr>\n",
       "    <tr>\n",
       "      <th>date</th>\n",
       "      <th></th>\n",
       "      <th></th>\n",
       "    </tr>\n",
       "  </thead>\n",
       "  <tbody>\n",
       "    <tr>\n",
       "      <th>2016-09-01 00:59:59</th>\n",
       "      <td>89.993421</td>\n",
       "      <td>70.273583</td>\n",
       "    </tr>\n",
       "    <tr>\n",
       "      <th>2016-09-01 01:59:59</th>\n",
       "      <td>88.089657</td>\n",
       "      <td>68.910432</td>\n",
       "    </tr>\n",
       "    <tr>\n",
       "      <th>2016-09-01 02:59:59</th>\n",
       "      <td>88.412756</td>\n",
       "      <td>68.143213</td>\n",
       "    </tr>\n",
       "    <tr>\n",
       "      <th>2016-09-01 03:59:59</th>\n",
       "      <td>87.360133</td>\n",
       "      <td>67.776393</td>\n",
       "    </tr>\n",
       "    <tr>\n",
       "      <th>2016-09-01 04:59:59</th>\n",
       "      <td>83.236367</td>\n",
       "      <td>61.467078</td>\n",
       "    </tr>\n",
       "    <tr>\n",
       "      <th>...</th>\n",
       "      <td>...</td>\n",
       "      <td>...</td>\n",
       "    </tr>\n",
       "    <tr>\n",
       "      <th>2017-12-31 19:59:59</th>\n",
       "      <td>95.172585</td>\n",
       "      <td>68.919891</td>\n",
       "    </tr>\n",
       "    <tr>\n",
       "      <th>2017-12-31 20:59:59</th>\n",
       "      <td>94.575036</td>\n",
       "      <td>68.440582</td>\n",
       "    </tr>\n",
       "    <tr>\n",
       "      <th>2017-12-31 21:59:59</th>\n",
       "      <td>93.018138</td>\n",
       "      <td>67.092759</td>\n",
       "    </tr>\n",
       "    <tr>\n",
       "      <th>2017-12-31 22:59:59</th>\n",
       "      <td>92.599042</td>\n",
       "      <td>68.061186</td>\n",
       "    </tr>\n",
       "    <tr>\n",
       "      <th>2017-12-31 23:59:59</th>\n",
       "      <td>91.177695</td>\n",
       "      <td>71.699976</td>\n",
       "    </tr>\n",
       "  </tbody>\n",
       "</table>\n",
       "<p>5290 rows × 2 columns</p>\n",
       "</div>"
      ],
      "text/plain": [
       "                     rougher.output.recovery  final.output.recovery\n",
       "date                                                               \n",
       "2016-09-01 00:59:59                89.993421              70.273583\n",
       "2016-09-01 01:59:59                88.089657              68.910432\n",
       "2016-09-01 02:59:59                88.412756              68.143213\n",
       "2016-09-01 03:59:59                87.360133              67.776393\n",
       "2016-09-01 04:59:59                83.236367              61.467078\n",
       "...                                      ...                    ...\n",
       "2017-12-31 19:59:59                95.172585              68.919891\n",
       "2017-12-31 20:59:59                94.575036              68.440582\n",
       "2017-12-31 21:59:59                93.018138              67.092759\n",
       "2017-12-31 22:59:59                92.599042              68.061186\n",
       "2017-12-31 23:59:59                91.177695              71.699976\n",
       "\n",
       "[5290 rows x 2 columns]"
      ]
     },
     "execution_count": 13,
     "metadata": {},
     "output_type": "execute_result"
    }
   ],
   "source": [
    "target_test"
   ]
  },
  {
   "cell_type": "markdown",
   "metadata": {},
   "source": [
    "Познакомились с данными, заполнили пропуски, выбрали целевой признак для тестовых данных."
   ]
  },
  {
   "cell_type": "markdown",
   "metadata": {},
   "source": [
    "## Анализ данных"
   ]
  },
  {
   "cell_type": "markdown",
   "metadata": {},
   "source": [
    "Проанализируем данные. Исследуем изменение концентрации металлов (Au, Ag, Pb) на различных этапах очистки."
   ]
  },
  {
   "cell_type": "code",
   "execution_count": 14,
   "metadata": {},
   "outputs": [],
   "source": [
    "def plot_metal(metal):\n",
    "    my_title = 'Концентрация ' + metal + ' (%)'\n",
    "    fig, axes = plt.subplots(2, 2, figsize=(12,6))\n",
    "    fig.suptitle(my_title)\n",
    "    axes[0, 0].set_title('До очистки')\n",
    "    axes[0, 0].hist(data_full['rougher.input.feed_' + metal]);\n",
    "    axes[0, 1].set_title('После флотации')\n",
    "    axes[0, 1].hist(data_full['rougher.output.concentrate_' + metal]);\n",
    "    axes[1, 0].set_title('После первичной очистки')\n",
    "    axes[1, 0].hist(data_full['primary_cleaner.output.concentrate_' + metal]);\n",
    "    axes[1, 1].set_title('После вторичной очистки')\n",
    "    axes[1, 1].hist(data_full['final.output.concentrate_' + metal]);"
   ]
  },
  {
   "cell_type": "code",
   "execution_count": 15,
   "metadata": {},
   "outputs": [
    {
     "data": {
      "image/png": "[encoded data removed]",
      "text/plain": [
       "<Figure size 864x432 with 4 Axes>"
      ]
     },
     "metadata": {
      "needs_background": "light"
     },
     "output_type": "display_data"
    }
   ],
   "source": [
    "plot_metal('pb')"
   ]
  },
  {
   "cell_type": "code",
   "execution_count": 16,
   "metadata": {},
   "outputs": [
    {
     "data": {
      "image/png": "[encoded data removed]",
      "text/plain": [
       "<Figure size 864x432 with 4 Axes>"
      ]
     },
     "metadata": {
      "needs_background": "light"
     },
     "output_type": "display_data"
    }
   ],
   "source": [
    "plot_metal('ag')"
   ]
  },
  {
   "cell_type": "code",
   "execution_count": 17,
   "metadata": {},
   "outputs": [
    {
     "data": {
      "image/png": "[encoded data removed]",
      "text/plain": [
       "<Figure size 864x432 with 4 Axes>"
      ]
     },
     "metadata": {
      "needs_background": "light"
     },
     "output_type": "display_data"
    }
   ],
   "source": [
    "plot_metal('au')"
   ]
  },
  {
   "cell_type": "markdown",
   "metadata": {},
   "source": [
    "После флотации можно отметить рост концентрации всех металлов. После первичной и вторичной очистки концентрация свинца незначительно увеличивается, концентрация серебра заметно снижается, а концентрация золота, как и ожидается, сильно возрастает."
   ]
  },
  {
   "cell_type": "raw",
   "metadata": {},
   "source": [
    "sns.set(rc={'figure.figsize':(10,4)})\n",
    "ax = sns.kdeplot(df_full['rougher.output.concentrate_au'], shade=True, label='Флотация' )\n",
    "ax = sns.kdeplot(df_full['primary_cleaner.output.concentrate_au'], shade=True, label='Первичная очистка' )\n",
    "ax = sns.kdeplot(df_full['final.output.concentrate_au'], shade=True, label='Финальный продукт' )\n",
    "plt.title('Распределение концентрации золота (Au) на разных этапах очистки')\n",
    "plt.xlabel('процент вещества');"
   ]
  },
  {
   "attachments": {
    "image.png": {
     "image/png": "[encoded data removed]"
    }
   },
   "cell_type": "markdown",
   "metadata": {},
   "source": [
    "![image.png](attachment:image.png)"
   ]
  },
  {
   "cell_type": "markdown",
   "metadata": {},
   "source": [
    "Посмотрим на размеры гранул сырья на обучающей и тестовой выборках."
   ]
  },
  {
   "cell_type": "code",
   "execution_count": 18,
   "metadata": {},
   "outputs": [
    {
     "data": {
      "image/png": "[encoded data removed]",
      "text/plain": [
       "<Figure size 432x288 with 1 Axes>"
      ]
     },
     "metadata": {
      "needs_background": "light"
     },
     "output_type": "display_data"
    }
   ],
   "source": [
    "data_train['rougher.input.feed_size'].plot(kind='hist', bins=70)\n",
    "data_test['rougher.input.feed_size'].plot(kind='hist', bins=70)\n",
    "plt.title('Распределение размера гранул');"
   ]
  },
  {
   "cell_type": "markdown",
   "metadata": {},
   "source": [
    "Распределения в целом похожи, в тестовых данных значения несколько меньше, но на качестве модели это не должно сильно сказаться."
   ]
  },
  {
   "cell_type": "markdown",
   "metadata": {},
   "source": [
    "Исследуем суммарную концентрацию всех веществ на разных стадиях: в сырье, в черновом и финальном концентратах"
   ]
  },
  {
   "cell_type": "code",
   "execution_count": 19,
   "metadata": {},
   "outputs": [
    {
     "data": {
      "image/png": "[encoded data removed]",
      "text/plain": [
       "<Figure size 864x432 with 1 Axes>"
      ]
     },
     "metadata": {
      "needs_background": "light"
     },
     "output_type": "display_data"
    }
   ],
   "source": [
    "plt.figure(figsize=(12,6))\n",
    "plt.title('Суммарная концентрация металлов на разных стадиях (%)')\n",
    "plt.hist(data_full['rougher.input.feed_pb'] + data_full['rougher.input.feed_au'] \n",
    "         + data_full['rougher.input.feed_ag'], label='Сырье', bins=20)\n",
    "plt.hist(data_full['rougher.output.concentrate_pb'] + data_full['rougher.output.concentrate_au'] \n",
    "         + data_full['rougher.output.concentrate_ag'], label='Черновой концентрат', bins=40)\n",
    "plt.hist(data_full['primary_cleaner.output.concentrate_pb'] + data_full['primary_cleaner.output.concentrate_au'] \n",
    "         + data_full['primary_cleaner.output.concentrate_ag'], label='Первичная очистка', bins=40)\n",
    "plt.hist(data_full['final.output.concentrate_pb'] + data_full['final.output.concentrate_au'] \n",
    "         + data_full['final.output.concentrate_ag'], label='Финальный концентрат', bins=40)\n",
    "plt.legend();"
   ]
  },
  {
   "cell_type": "markdown",
   "metadata": {},
   "source": [
    "Между стадиями очистки значительно повышается концентрация металлов в сырье. Похоже, что по данным концентрации можно с большой вероятностью точно сказать, какой этап очистки прошло сырье."
   ]
  },
  {
   "cell_type": "markdown",
   "metadata": {},
   "source": [
    "На графике видно, что есть аномалии, когда суммарная концентрация металлов равна нулю. Уберем их из данных."
   ]
  },
  {
   "cell_type": "code",
   "execution_count": 20,
   "metadata": {},
   "outputs": [],
   "source": [
    "def drop_indexes(data):\n",
    "    indexes_rougher = pd.Series(data[data['rougher.output.concentrate_pb'] + data['rougher.output.concentrate_au'] \n",
    "             + data['rougher.output.concentrate_ag'] == 0].index)\n",
    "    indexes_primary = pd.Series(data[data['primary_cleaner.output.concentrate_pb'] + data['primary_cleaner.output.concentrate_au'] \n",
    "             + data['primary_cleaner.output.concentrate_ag'] == 0].index)\n",
    "    indexes_final = pd.Series(data[data['final.output.concentrate_pb'] + data['final.output.concentrate_au'] \n",
    "             + data['final.output.concentrate_ag'] == 0].index)\n",
    "    indexes = pd.concat([indexes_rougher, indexes_primary, indexes_final])\n",
    "    return indexes"
   ]
  },
  {
   "cell_type": "code",
   "execution_count": 21,
   "metadata": {},
   "outputs": [],
   "source": [
    "data_full.drop(drop_indexes(data_full), inplace=True)\n",
    "data_train.drop(drop_indexes(data_train), inplace=True)"
   ]
  },
  {
   "cell_type": "markdown",
   "metadata": {},
   "source": [
    "## Модель"
   ]
  },
  {
   "cell_type": "markdown",
   "metadata": {},
   "source": [
    "Подготовим данные для модели. `target_test` и `data_test` у нас уже есть. Подготовим тренировочные данные - уберем лишние столбцы и отделим целевой признак."
   ]
  },
  {
   "cell_type": "code",
   "execution_count": 22,
   "metadata": {},
   "outputs": [],
   "source": [
    "features_train = data_train[data_test.columns]\n",
    "target_train = data_train[['rougher.output.recovery', 'final.output.recovery']]\n",
    "features_test = data_test"
   ]
  },
  {
   "cell_type": "code",
   "execution_count": 23,
   "metadata": {},
   "outputs": [
    {
     "data": {
      "text/html": [
       "<div>\n",
       "<style scoped>\n",
       "    .dataframe tbody tr th:only-of-type {\n",
       "        vertical-align: middle;\n",
       "    }\n",
       "\n",
       "    .dataframe tbody tr th {\n",
       "        vertical-align: top;\n",
       "    }\n",
       "\n",
       "    .dataframe thead th {\n",
       "        text-align: right;\n",
       "    }\n",
       "</style>\n",
       "<table border=\"1\" class=\"dataframe\">\n",
       "  <thead>\n",
       "    <tr style=\"text-align: right;\">\n",
       "      <th></th>\n",
       "      <th>rougher.output.recovery</th>\n",
       "      <th>final.output.recovery</th>\n",
       "    </tr>\n",
       "    <tr>\n",
       "      <th>date</th>\n",
       "      <th></th>\n",
       "      <th></th>\n",
       "    </tr>\n",
       "  </thead>\n",
       "  <tbody>\n",
       "    <tr>\n",
       "      <th>2016-09-01 00:59:59</th>\n",
       "      <td>89.993421</td>\n",
       "      <td>70.273583</td>\n",
       "    </tr>\n",
       "    <tr>\n",
       "      <th>2016-09-01 01:59:59</th>\n",
       "      <td>88.089657</td>\n",
       "      <td>68.910432</td>\n",
       "    </tr>\n",
       "    <tr>\n",
       "      <th>2016-09-01 02:59:59</th>\n",
       "      <td>88.412756</td>\n",
       "      <td>68.143213</td>\n",
       "    </tr>\n",
       "    <tr>\n",
       "      <th>2016-09-01 03:59:59</th>\n",
       "      <td>87.360133</td>\n",
       "      <td>67.776393</td>\n",
       "    </tr>\n",
       "    <tr>\n",
       "      <th>2016-09-01 04:59:59</th>\n",
       "      <td>83.236367</td>\n",
       "      <td>61.467078</td>\n",
       "    </tr>\n",
       "  </tbody>\n",
       "</table>\n",
       "</div>"
      ],
      "text/plain": [
       "                     rougher.output.recovery  final.output.recovery\n",
       "date                                                               \n",
       "2016-09-01 00:59:59                89.993421              70.273583\n",
       "2016-09-01 01:59:59                88.089657              68.910432\n",
       "2016-09-01 02:59:59                88.412756              68.143213\n",
       "2016-09-01 03:59:59                87.360133              67.776393\n",
       "2016-09-01 04:59:59                83.236367              61.467078"
      ]
     },
     "execution_count": 23,
     "metadata": {},
     "output_type": "execute_result"
    }
   ],
   "source": [
    "target_test.head()"
   ]
  },
  {
   "cell_type": "markdown",
   "metadata": {},
   "source": [
    "Напишем функцию для вычисления sMAPE."
   ]
  },
  {
   "cell_type": "code",
   "execution_count": 24,
   "metadata": {},
   "outputs": [],
   "source": [
    "def smape(target, predictions):\n",
    "    predictions = pd.DataFrame(data=predictions, columns=['rougher.output.recovery', 'final.output.recovery'],\n",
    "                              index=target.index)\n",
    "    smape_r = ((abs(target['rougher.output.recovery'] - predictions['rougher.output.recovery'])) / \n",
    "              ((abs(target['rougher.output.recovery']) + abs(predictions['rougher.output.recovery'])) / 2)\n",
    "              * 100).sum() / target.shape[0]\n",
    "    smape_f = ((abs(target['final.output.recovery'] - predictions['final.output.recovery'])) / \n",
    "              ((abs(target['final.output.recovery']) + abs(predictions['final.output.recovery'])) / 2)\n",
    "              * 100).sum() / target.shape[0]\n",
    "    smape_t = smape_r * 0.25 + smape_f * 0.75\n",
    "    return smape_t"
   ]
  },
  {
   "cell_type": "code",
   "execution_count": 25,
   "metadata": {},
   "outputs": [],
   "source": [
    "score = make_scorer(smape)"
   ]
  },
  {
   "cell_type": "markdown",
   "metadata": {},
   "source": [
    "Оценим значение sMAPE для константной модели."
   ]
  },
  {
   "cell_type": "code",
   "execution_count": 26,
   "metadata": {},
   "outputs": [],
   "source": [
    "predict_const = [[target_train['rougher.output.recovery'].median(), \n",
    "                              target_train['final.output.recovery'].median()] for i in range(target_train.shape[0])]"
   ]
  },
  {
   "cell_type": "code",
   "execution_count": 27,
   "metadata": {},
   "outputs": [
    {
     "data": {
      "text/plain": [
       "9.44195330668461"
      ]
     },
     "execution_count": 27,
     "metadata": {},
     "output_type": "execute_result"
    }
   ],
   "source": [
    "smape(target_train, predict_const)"
   ]
  },
  {
   "cell_type": "markdown",
   "metadata": {},
   "source": [
    "Обучим разные модели и оценим их качество с помощью кросс-валидации."
   ]
  },
  {
   "cell_type": "code",
   "execution_count": 28,
   "metadata": {},
   "outputs": [
    {
     "data": {
      "text/plain": [
       "10.02932338763631"
      ]
     },
     "execution_count": 28,
     "metadata": {},
     "output_type": "execute_result"
    }
   ],
   "source": [
    "model = LinearRegression()\n",
    "cross_score = cross_val_score(model, features_train, target_train, cv=5, scoring=score)\n",
    "cross_score.mean()"
   ]
  },
  {
   "cell_type": "code",
   "execution_count": 29,
   "metadata": {},
   "outputs": [
    {
     "name": "stdout",
     "output_type": "stream",
     "text": [
      "8.958613458934334\n",
      "DecisionTreeRegressor(max_depth=1, random_state=25)\n"
     ]
    }
   ],
   "source": [
    "min_cross = 20\n",
    "best_model = None\n",
    "for depth in range(1, 20):    \n",
    "    model = DecisionTreeRegressor(max_depth=depth, random_state=25)\n",
    "    cross_score = cross_val_score(model, features_train, target_train, cv=5, scoring=score)\n",
    "    if cross_score.mean() < min_cross:\n",
    "        min_cross = cross_score.mean()\n",
    "        best_model = model\n",
    "print(min_cross)\n",
    "print(best_model)"
   ]
  },
  {
   "cell_type": "code",
   "execution_count": 30,
   "metadata": {},
   "outputs": [
    {
     "name": "stdout",
     "output_type": "stream",
     "text": [
      "8.637368109621374\n",
      "RandomForestRegressor(max_depth=3, n_estimators=50, random_state=25)\n"
     ]
    }
   ],
   "source": [
    "min_cross = 20\n",
    "best_model = None\n",
    "for depth in range(1, 10, 2):\n",
    "    for est in range(10, 51, 10):\n",
    "        model = RandomForestRegressor(max_depth=depth, n_estimators=est, random_state=25)\n",
    "        cross_score = cross_val_score(model, features_train, target_train, cv=5, scoring=score)\n",
    "        if cross_score.mean() < min_cross:\n",
    "            min_cross = cross_score.mean()\n",
    "            best_model = model\n",
    "print(min_cross)\n",
    "print(best_model)"
   ]
  },
  {
   "cell_type": "markdown",
   "metadata": {},
   "source": [
    "Наилучший результат показал случайный лес с параметрами max_depth=3, n_estimators=50. Эту модель и возьмем. Проверим ее на тестовых данных."
   ]
  },
  {
   "cell_type": "code",
   "execution_count": 31,
   "metadata": {},
   "outputs": [
    {
     "data": {
      "text/plain": [
       "9.159207751606058"
      ]
     },
     "execution_count": 31,
     "metadata": {},
     "output_type": "execute_result"
    }
   ],
   "source": [
    "model = RandomForestRegressor(max_depth=3, n_estimators=50, random_state=25)\n",
    "model.fit(features_train, target_train)\n",
    "predicted = model.predict(features_test)\n",
    "smape(target_test, predicted)"
   ]
  },
  {
   "cell_type": "markdown",
   "metadata": {},
   "source": [
    "Получили значение sMAPE хоть и незначительно, но лучше значения константной модели."
   ]
  },
  {
   "cell_type": "code",
   "execution_count": null,
   "metadata": {},
   "outputs": [],
   "source": []
  }
 ],
 "metadata": {
  "ExecuteTimeLog": [
   {
    "duration": 413,
    "start_time": "2022-03-19T11:25:15.987Z"
   },
   {
    "duration": 717,
    "start_time": "2022-03-19T11:28:38.315Z"
   },
   {
    "duration": 28,
    "start_time": "2022-03-19T11:35:00.061Z"
   },
   {
    "duration": 25,
    "start_time": "2022-03-19T11:35:35.977Z"
   },
   {
    "duration": 20,
    "start_time": "2022-03-19T11:44:57.132Z"
   },
   {
    "duration": 6,
    "start_time": "2022-03-19T11:47:45.722Z"
   },
   {
    "duration": 3,
    "start_time": "2022-03-19T11:51:14.610Z"
   },
   {
    "duration": 5,
    "start_time": "2022-03-19T11:51:18.990Z"
   },
   {
    "duration": 4,
    "start_time": "2022-03-19T11:52:07.062Z"
   },
   {
    "duration": 2958,
    "start_time": "2022-03-19T11:53:30.401Z"
   },
   {
    "duration": 0,
    "start_time": "2022-03-19T11:53:33.361Z"
   },
   {
    "duration": 7,
    "start_time": "2022-03-19T11:54:09.101Z"
   },
   {
    "duration": 5,
    "start_time": "2022-03-19T11:54:10.472Z"
   },
   {
    "duration": 5,
    "start_time": "2022-03-19T11:55:25.550Z"
   },
   {
    "duration": 5,
    "start_time": "2022-03-19T11:55:26.442Z"
   },
   {
    "duration": 101,
    "start_time": "2022-03-19T11:56:23.210Z"
   },
   {
    "duration": 4,
    "start_time": "2022-03-19T11:56:48.442Z"
   },
   {
    "duration": 5,
    "start_time": "2022-03-19T11:56:49.990Z"
   },
   {
    "duration": 5,
    "start_time": "2022-03-19T11:56:55.691Z"
   },
   {
    "duration": 5,
    "start_time": "2022-03-19T11:56:56.252Z"
   },
   {
    "duration": 798,
    "start_time": "2022-03-19T12:01:11.173Z"
   },
   {
    "duration": 35,
    "start_time": "2022-03-19T12:02:03.528Z"
   },
   {
    "duration": 5,
    "start_time": "2022-03-19T12:02:10.952Z"
   },
   {
    "duration": 26,
    "start_time": "2022-03-19T12:03:41.916Z"
   },
   {
    "duration": 5,
    "start_time": "2022-03-19T12:03:59.093Z"
   },
   {
    "duration": 5,
    "start_time": "2022-03-19T12:04:07.017Z"
   },
   {
    "duration": 4,
    "start_time": "2022-03-19T12:07:07.118Z"
   },
   {
    "duration": 4,
    "start_time": "2022-03-19T12:08:14.923Z"
   },
   {
    "duration": 17,
    "start_time": "2022-03-19T12:09:36.296Z"
   },
   {
    "duration": 13,
    "start_time": "2022-03-19T12:19:19.320Z"
   },
   {
    "duration": 210,
    "start_time": "2022-03-19T12:57:22.109Z"
   },
   {
    "duration": 9,
    "start_time": "2022-03-19T12:57:26.588Z"
   },
   {
    "duration": 8,
    "start_time": "2022-03-19T12:57:32.495Z"
   },
   {
    "duration": 702,
    "start_time": "2022-03-19T12:58:10.338Z"
   },
   {
    "duration": 18,
    "start_time": "2022-03-19T12:58:12.943Z"
   },
   {
    "duration": 724,
    "start_time": "2022-03-19T12:58:30.499Z"
   },
   {
    "duration": 19,
    "start_time": "2022-03-19T12:58:31.943Z"
   },
   {
    "duration": 20,
    "start_time": "2022-03-19T12:58:32.913Z"
   },
   {
    "duration": 18,
    "start_time": "2022-03-19T12:58:33.822Z"
   },
   {
    "duration": 7,
    "start_time": "2022-03-19T12:58:36.065Z"
   },
   {
    "duration": 4,
    "start_time": "2022-03-19T12:58:38.808Z"
   },
   {
    "duration": 6,
    "start_time": "2022-03-19T12:58:39.101Z"
   },
   {
    "duration": 5,
    "start_time": "2022-03-19T12:58:41.931Z"
   },
   {
    "duration": 4,
    "start_time": "2022-03-19T12:58:44.083Z"
   },
   {
    "duration": 15,
    "start_time": "2022-03-19T12:58:45.631Z"
   },
   {
    "duration": 5,
    "start_time": "2022-03-19T13:02:52.586Z"
   },
   {
    "duration": 17,
    "start_time": "2022-03-19T13:03:01.203Z"
   },
   {
    "duration": 24,
    "start_time": "2022-03-19T13:03:23.042Z"
   },
   {
    "duration": 11,
    "start_time": "2022-03-19T13:03:32.047Z"
   },
   {
    "duration": 105,
    "start_time": "2022-03-19T13:07:53.236Z"
   },
   {
    "duration": 971,
    "start_time": "2022-03-19T13:08:14.548Z"
   },
   {
    "duration": 2276,
    "start_time": "2022-03-19T13:08:35.802Z"
   },
   {
    "duration": 12,
    "start_time": "2022-03-19T13:08:44.020Z"
   },
   {
    "duration": 8,
    "start_time": "2022-03-19T13:09:18.882Z"
   },
   {
    "duration": 11,
    "start_time": "2022-03-19T13:11:42.435Z"
   },
   {
    "duration": 6,
    "start_time": "2022-03-19T13:11:47.386Z"
   },
   {
    "duration": 4,
    "start_time": "2022-03-19T13:12:03.113Z"
   },
   {
    "duration": 8,
    "start_time": "2022-03-19T13:12:27.447Z"
   },
   {
    "duration": 6,
    "start_time": "2022-03-19T13:12:29.113Z"
   },
   {
    "duration": 8,
    "start_time": "2022-03-19T13:12:43.880Z"
   },
   {
    "duration": 6,
    "start_time": "2022-03-19T13:12:45.507Z"
   },
   {
    "duration": 1886,
    "start_time": "2022-03-19T13:13:05.908Z"
   },
   {
    "duration": 14,
    "start_time": "2022-03-19T13:13:22.494Z"
   },
   {
    "duration": 2075,
    "start_time": "2022-03-19T13:13:27.838Z"
   },
   {
    "duration": 13,
    "start_time": "2022-03-19T13:14:39.237Z"
   },
   {
    "duration": 1274,
    "start_time": "2022-03-19T13:14:51.000Z"
   },
   {
    "duration": 4,
    "start_time": "2022-03-19T13:17:09.163Z"
   },
   {
    "duration": 10,
    "start_time": "2022-03-19T13:17:10.035Z"
   },
   {
    "duration": 102,
    "start_time": "2022-03-19T13:17:18.557Z"
   },
   {
    "duration": 1061,
    "start_time": "2022-03-19T13:23:31.375Z"
   },
   {
    "duration": 4,
    "start_time": "2022-03-19T13:24:09.066Z"
   },
   {
    "duration": 10,
    "start_time": "2022-03-19T13:24:10.174Z"
   },
   {
    "duration": 355,
    "start_time": "2022-03-19T13:24:13.988Z"
   },
   {
    "duration": 13,
    "start_time": "2022-03-19T13:25:02.540Z"
   },
   {
    "duration": 4,
    "start_time": "2022-03-19T13:25:20.624Z"
   },
   {
    "duration": 6,
    "start_time": "2022-03-19T13:25:38.201Z"
   },
   {
    "duration": 5,
    "start_time": "2022-03-19T13:25:39.444Z"
   },
   {
    "duration": 13,
    "start_time": "2022-03-19T13:25:46.491Z"
   },
   {
    "duration": 192,
    "start_time": "2022-03-19T13:26:05.043Z"
   },
   {
    "duration": 13,
    "start_time": "2022-03-19T13:26:09.347Z"
   },
   {
    "duration": 14,
    "start_time": "2022-03-19T13:26:13.857Z"
   },
   {
    "duration": 13,
    "start_time": "2022-03-19T13:26:18.008Z"
   },
   {
    "duration": 6,
    "start_time": "2022-03-19T13:26:32.981Z"
   },
   {
    "duration": 9,
    "start_time": "2022-03-19T13:26:34.958Z"
   },
   {
    "duration": 6,
    "start_time": "2022-03-19T13:27:00.282Z"
   },
   {
    "duration": 10,
    "start_time": "2022-03-19T13:27:00.829Z"
   },
   {
    "duration": 7,
    "start_time": "2022-03-19T13:30:09.570Z"
   },
   {
    "duration": 3,
    "start_time": "2022-03-19T13:30:18.666Z"
   },
   {
    "duration": 9,
    "start_time": "2022-03-19T13:30:42.912Z"
   },
   {
    "duration": 7,
    "start_time": "2022-03-19T13:32:18.176Z"
   },
   {
    "duration": 5,
    "start_time": "2022-03-19T13:34:32.113Z"
   },
   {
    "duration": 5,
    "start_time": "2022-03-19T13:35:11.653Z"
   },
   {
    "duration": 4,
    "start_time": "2022-03-19T13:35:15.113Z"
   },
   {
    "duration": 617,
    "start_time": "2022-03-19T13:35:17.570Z"
   },
   {
    "duration": 121,
    "start_time": "2022-03-19T13:35:25.272Z"
   },
   {
    "duration": 218,
    "start_time": "2022-03-19T13:36:37.886Z"
   },
   {
    "duration": 2,
    "start_time": "2022-03-19T13:38:13.188Z"
   },
   {
    "duration": 295,
    "start_time": "2022-03-19T13:38:35.195Z"
   },
   {
    "duration": 439,
    "start_time": "2022-03-19T13:38:42.155Z"
   },
   {
    "duration": 292,
    "start_time": "2022-03-19T13:38:47.649Z"
   },
   {
    "duration": 278,
    "start_time": "2022-03-19T13:38:54.658Z"
   },
   {
    "duration": 300,
    "start_time": "2022-03-19T13:39:04.168Z"
   },
   {
    "duration": 277,
    "start_time": "2022-03-19T13:41:58.333Z"
   },
   {
    "duration": 281,
    "start_time": "2022-03-19T13:42:03.836Z"
   },
   {
    "duration": 391,
    "start_time": "2022-03-19T13:42:06.884Z"
   },
   {
    "duration": 121,
    "start_time": "2022-03-19T13:42:09.961Z"
   },
   {
    "duration": 278,
    "start_time": "2022-03-19T13:42:12.788Z"
   },
   {
    "duration": 120,
    "start_time": "2022-03-19T13:42:18.778Z"
   },
   {
    "duration": 301,
    "start_time": "2022-03-19T13:42:22.328Z"
   },
   {
    "duration": 205,
    "start_time": "2022-03-19T13:42:31.773Z"
   },
   {
    "duration": 151,
    "start_time": "2022-03-19T13:42:39.773Z"
   },
   {
    "duration": 0,
    "start_time": "2022-03-19T13:43:16.295Z"
   },
   {
    "duration": 196,
    "start_time": "2022-03-19T13:43:32.678Z"
   },
   {
    "duration": 193,
    "start_time": "2022-03-19T13:43:53.384Z"
   },
   {
    "duration": 185,
    "start_time": "2022-03-19T13:43:57.849Z"
   },
   {
    "duration": 194,
    "start_time": "2022-03-19T13:44:06.474Z"
   },
   {
    "duration": 181,
    "start_time": "2022-03-19T13:44:09.127Z"
   },
   {
    "duration": 261,
    "start_time": "2022-03-19T13:44:19.331Z"
   },
   {
    "duration": 305,
    "start_time": "2022-03-19T13:44:36.567Z"
   },
   {
    "duration": 272,
    "start_time": "2022-03-19T13:44:45.321Z"
   },
   {
    "duration": 306,
    "start_time": "2022-03-19T13:45:10.157Z"
   },
   {
    "duration": 2356,
    "start_time": "2022-03-19T13:45:35.232Z"
   },
   {
    "duration": 286,
    "start_time": "2022-03-19T13:45:55.653Z"
   },
   {
    "duration": 1185,
    "start_time": "2022-03-19T13:46:19.222Z"
   },
   {
    "duration": 277,
    "start_time": "2022-03-19T13:46:25.832Z"
   },
   {
    "duration": 355,
    "start_time": "2022-03-19T13:47:31.976Z"
   },
   {
    "duration": 327,
    "start_time": "2022-03-19T13:47:37.476Z"
   },
   {
    "duration": 381,
    "start_time": "2022-03-19T13:47:44.564Z"
   },
   {
    "duration": 372,
    "start_time": "2022-03-19T13:47:50.173Z"
   },
   {
    "duration": 526,
    "start_time": "2022-03-19T13:47:54.641Z"
   },
   {
    "duration": 334,
    "start_time": "2022-03-19T13:48:11.531Z"
   },
   {
    "duration": 340,
    "start_time": "2022-03-19T13:48:15.623Z"
   },
   {
    "duration": 406,
    "start_time": "2022-03-19T13:48:20.168Z"
   },
   {
    "duration": 363,
    "start_time": "2022-03-19T13:48:23.953Z"
   },
   {
    "duration": 438,
    "start_time": "2022-03-19T13:50:02.390Z"
   },
   {
    "duration": 291,
    "start_time": "2022-03-19T13:50:06.935Z"
   },
   {
    "duration": 290,
    "start_time": "2022-03-19T13:51:02.966Z"
   },
   {
    "duration": 376,
    "start_time": "2022-03-19T13:51:56.138Z"
   },
   {
    "duration": 392,
    "start_time": "2022-03-19T13:53:38.008Z"
   },
   {
    "duration": 383,
    "start_time": "2022-03-19T13:53:58.095Z"
   },
   {
    "duration": 555,
    "start_time": "2022-03-19T13:54:09.957Z"
   },
   {
    "duration": 289,
    "start_time": "2022-03-19T13:54:16.076Z"
   },
   {
    "duration": 455,
    "start_time": "2022-03-19T13:57:12.384Z"
   },
   {
    "duration": 393,
    "start_time": "2022-03-19T13:57:19.456Z"
   },
   {
    "duration": 383,
    "start_time": "2022-03-19T13:57:33.582Z"
   },
   {
    "duration": 15,
    "start_time": "2022-03-19T13:57:47.904Z"
   },
   {
    "duration": 554,
    "start_time": "2022-03-19T13:57:53.294Z"
   },
   {
    "duration": 440,
    "start_time": "2022-03-19T14:01:15.940Z"
   },
   {
    "duration": 388,
    "start_time": "2022-03-19T14:01:22.284Z"
   },
   {
    "duration": 390,
    "start_time": "2022-03-19T14:01:27.492Z"
   },
   {
    "duration": 14,
    "start_time": "2022-03-19T14:01:41.071Z"
   },
   {
    "duration": 426,
    "start_time": "2022-03-19T14:05:14.547Z"
   },
   {
    "duration": 111,
    "start_time": "2022-03-19T14:06:03.580Z"
   },
   {
    "duration": 277,
    "start_time": "2022-03-19T14:06:07.247Z"
   },
   {
    "duration": 540,
    "start_time": "2022-03-19T14:06:16.962Z"
   },
   {
    "duration": 100,
    "start_time": "2022-03-19T14:07:18.221Z"
   },
   {
    "duration": 5,
    "start_time": "2022-03-19T14:07:21.842Z"
   },
   {
    "duration": 399,
    "start_time": "2022-03-19T14:07:35.178Z"
   },
   {
    "duration": 5,
    "start_time": "2022-03-19T14:07:46.302Z"
   },
   {
    "duration": 388,
    "start_time": "2022-03-19T14:07:47.520Z"
   },
   {
    "duration": 4,
    "start_time": "2022-03-19T14:08:09.072Z"
   },
   {
    "duration": 402,
    "start_time": "2022-03-19T14:08:11.125Z"
   },
   {
    "duration": 6,
    "start_time": "2022-03-19T14:08:39.836Z"
   },
   {
    "duration": 415,
    "start_time": "2022-03-19T14:08:40.981Z"
   },
   {
    "duration": 535,
    "start_time": "2022-03-19T14:09:13.694Z"
   },
   {
    "duration": 416,
    "start_time": "2022-03-19T14:09:24.495Z"
   },
   {
    "duration": 382,
    "start_time": "2022-03-19T14:15:00.353Z"
   },
   {
    "duration": 6,
    "start_time": "2022-03-19T14:23:29.404Z"
   },
   {
    "duration": 4,
    "start_time": "2022-03-19T14:23:49.042Z"
   },
   {
    "duration": 4,
    "start_time": "2022-03-19T14:23:56.051Z"
   },
   {
    "duration": 12,
    "start_time": "2022-03-19T14:24:33.724Z"
   },
   {
    "duration": 4,
    "start_time": "2022-03-19T14:24:47.744Z"
   },
   {
    "duration": 5,
    "start_time": "2022-03-19T14:24:48.305Z"
   },
   {
    "duration": 126,
    "start_time": "2022-03-19T14:25:34.404Z"
   },
   {
    "duration": 125,
    "start_time": "2022-03-19T14:25:50.304Z"
   },
   {
    "duration": 9,
    "start_time": "2022-03-19T14:26:09.938Z"
   },
   {
    "duration": 9,
    "start_time": "2022-03-19T14:26:16.390Z"
   },
   {
    "duration": 102,
    "start_time": "2022-03-19T14:26:20.976Z"
   },
   {
    "duration": 216,
    "start_time": "2022-03-19T14:26:25.631Z"
   },
   {
    "duration": 139,
    "start_time": "2022-03-19T14:27:05.596Z"
   },
   {
    "duration": 178,
    "start_time": "2022-03-19T14:27:22.425Z"
   },
   {
    "duration": 382,
    "start_time": "2022-03-19T14:27:31.853Z"
   },
   {
    "duration": 216,
    "start_time": "2022-03-19T14:27:44.769Z"
   },
   {
    "duration": 202,
    "start_time": "2022-03-19T14:27:47.606Z"
   },
   {
    "duration": 220,
    "start_time": "2022-03-19T14:27:50.447Z"
   },
   {
    "duration": 239,
    "start_time": "2022-03-19T14:27:52.972Z"
   },
   {
    "duration": 234,
    "start_time": "2022-03-19T14:27:56.452Z"
   },
   {
    "duration": 434,
    "start_time": "2022-03-19T14:27:59.210Z"
   },
   {
    "duration": 278,
    "start_time": "2022-03-19T14:28:27.887Z"
   },
   {
    "duration": 276,
    "start_time": "2022-03-19T14:28:43.633Z"
   },
   {
    "duration": 274,
    "start_time": "2022-03-19T14:29:00.113Z"
   },
   {
    "duration": 5,
    "start_time": "2022-03-19T14:32:25.251Z"
   },
   {
    "duration": 119,
    "start_time": "2022-03-19T14:33:11.780Z"
   },
   {
    "duration": 130,
    "start_time": "2022-03-19T14:33:50.979Z"
   },
   {
    "duration": 153,
    "start_time": "2022-03-19T14:34:29.931Z"
   },
   {
    "duration": 168,
    "start_time": "2022-03-19T14:34:53.674Z"
   },
   {
    "duration": 346,
    "start_time": "2022-03-19T14:35:03.689Z"
   },
   {
    "duration": 174,
    "start_time": "2022-03-19T14:35:32.127Z"
   },
   {
    "duration": 185,
    "start_time": "2022-03-19T14:36:04.369Z"
   },
   {
    "duration": 209,
    "start_time": "2022-03-19T14:36:30.159Z"
   },
   {
    "duration": 210,
    "start_time": "2022-03-19T14:37:13.035Z"
   },
   {
    "duration": 239,
    "start_time": "2022-03-19T14:37:53.197Z"
   },
   {
    "duration": 415,
    "start_time": "2022-03-19T14:37:59.805Z"
   },
   {
    "duration": 291,
    "start_time": "2022-03-19T14:38:06.300Z"
   },
   {
    "duration": 302,
    "start_time": "2022-03-19T14:38:12.982Z"
   },
   {
    "duration": 7,
    "start_time": "2022-03-19T14:40:45.167Z"
   },
   {
    "duration": 110,
    "start_time": "2022-03-19T14:45:01.477Z"
   },
   {
    "duration": 109,
    "start_time": "2022-03-19T14:45:09.890Z"
   },
   {
    "duration": 535,
    "start_time": "2022-03-19T14:45:13.067Z"
   },
   {
    "duration": 334,
    "start_time": "2022-03-19T14:52:12.589Z"
   },
   {
    "duration": 338,
    "start_time": "2022-03-19T14:52:18.054Z"
   },
   {
    "duration": 319,
    "start_time": "2022-03-19T14:52:22.799Z"
   },
   {
    "duration": 631,
    "start_time": "2022-03-19T14:52:42.464Z"
   },
   {
    "duration": 351,
    "start_time": "2022-03-19T14:52:46.908Z"
   },
   {
    "duration": 380,
    "start_time": "2022-03-19T14:52:50.335Z"
   },
   {
    "duration": 351,
    "start_time": "2022-03-19T14:53:01.537Z"
   },
   {
    "duration": 3,
    "start_time": "2022-03-19T15:11:35.729Z"
   },
   {
    "duration": 4,
    "start_time": "2022-03-19T15:11:38.735Z"
   },
   {
    "duration": 12,
    "start_time": "2022-03-19T15:13:16.514Z"
   },
   {
    "duration": 9,
    "start_time": "2022-03-19T15:13:22.973Z"
   },
   {
    "duration": 3,
    "start_time": "2022-03-19T15:16:19.831Z"
   },
   {
    "duration": 3,
    "start_time": "2022-03-19T15:16:38.097Z"
   },
   {
    "duration": 10,
    "start_time": "2022-03-19T15:17:25.078Z"
   },
   {
    "duration": 11,
    "start_time": "2022-03-19T15:17:38.104Z"
   },
   {
    "duration": 4,
    "start_time": "2022-03-19T15:17:45.032Z"
   },
   {
    "duration": 7,
    "start_time": "2022-03-19T15:17:45.607Z"
   },
   {
    "duration": 4,
    "start_time": "2022-03-19T15:18:31.218Z"
   },
   {
    "duration": 8,
    "start_time": "2022-03-19T15:18:32.715Z"
   },
   {
    "duration": 6,
    "start_time": "2022-03-19T15:19:08.055Z"
   },
   {
    "duration": 10,
    "start_time": "2022-03-19T15:19:08.465Z"
   },
   {
    "duration": 48,
    "start_time": "2022-03-19T15:22:40.914Z"
   },
   {
    "duration": 1467,
    "start_time": "2022-03-19T18:26:11.388Z"
   },
   {
    "duration": 740,
    "start_time": "2022-03-19T18:26:12.857Z"
   },
   {
    "duration": 24,
    "start_time": "2022-03-19T18:26:13.601Z"
   },
   {
    "duration": 38,
    "start_time": "2022-03-19T18:26:13.626Z"
   },
   {
    "duration": 25,
    "start_time": "2022-03-19T18:26:13.666Z"
   },
   {
    "duration": 22,
    "start_time": "2022-03-19T18:26:13.693Z"
   },
   {
    "duration": 43,
    "start_time": "2022-03-19T18:26:13.717Z"
   },
   {
    "duration": 6,
    "start_time": "2022-03-19T18:26:13.761Z"
   },
   {
    "duration": 9,
    "start_time": "2022-03-19T18:26:13.769Z"
   },
   {
    "duration": 6,
    "start_time": "2022-03-19T18:26:13.780Z"
   },
   {
    "duration": 22,
    "start_time": "2022-03-19T18:26:13.787Z"
   },
   {
    "duration": 17,
    "start_time": "2022-03-19T18:26:13.810Z"
   },
   {
    "duration": 22,
    "start_time": "2022-03-19T18:26:13.828Z"
   },
   {
    "duration": 26,
    "start_time": "2022-03-19T18:26:13.851Z"
   },
   {
    "duration": 427,
    "start_time": "2022-03-19T18:26:13.879Z"
   },
   {
    "duration": 392,
    "start_time": "2022-03-19T18:26:14.307Z"
   },
   {
    "duration": 494,
    "start_time": "2022-03-19T18:26:14.700Z"
   },
   {
    "duration": 290,
    "start_time": "2022-03-19T18:26:15.196Z"
   },
   {
    "duration": 355,
    "start_time": "2022-03-19T18:26:15.489Z"
   },
   {
    "duration": 6,
    "start_time": "2022-03-19T18:26:15.846Z"
   },
   {
    "duration": 11,
    "start_time": "2022-03-19T18:26:15.854Z"
   },
   {
    "duration": 402,
    "start_time": "2022-03-19T18:26:15.866Z"
   },
   {
    "duration": 95,
    "start_time": "2022-03-19T18:26:41.076Z"
   },
   {
    "duration": 111,
    "start_time": "2022-03-19T18:26:47.657Z"
   },
   {
    "duration": 96,
    "start_time": "2022-03-19T18:27:30.077Z"
   },
   {
    "duration": 107,
    "start_time": "2022-03-19T18:28:14.376Z"
   },
   {
    "duration": 249,
    "start_time": "2022-03-19T18:28:31.223Z"
   },
   {
    "duration": 335,
    "start_time": "2022-03-19T18:28:40.255Z"
   },
   {
    "duration": 1396,
    "start_time": "2022-03-19T18:32:28.902Z"
   },
   {
    "duration": 240,
    "start_time": "2022-03-19T18:32:54.033Z"
   },
   {
    "duration": 312,
    "start_time": "2022-03-19T18:33:50.676Z"
   },
   {
    "duration": 102,
    "start_time": "2022-03-19T18:34:10.292Z"
   },
   {
    "duration": 20,
    "start_time": "2022-03-19T18:34:15.156Z"
   },
   {
    "duration": 19,
    "start_time": "2022-03-19T18:34:23.703Z"
   },
   {
    "duration": 6,
    "start_time": "2022-03-19T18:34:27.881Z"
   },
   {
    "duration": 5,
    "start_time": "2022-03-19T18:34:39.291Z"
   },
   {
    "duration": 5,
    "start_time": "2022-03-19T18:34:49.563Z"
   },
   {
    "duration": 228,
    "start_time": "2022-03-19T18:35:23.736Z"
   },
   {
    "duration": 6,
    "start_time": "2022-03-19T18:35:33.592Z"
   },
   {
    "duration": 269,
    "start_time": "2022-03-19T18:35:55.000Z"
   },
   {
    "duration": 1368,
    "start_time": "2022-03-19T18:35:56.841Z"
   },
   {
    "duration": 1356,
    "start_time": "2022-03-19T18:36:43.657Z"
   },
   {
    "duration": 7,
    "start_time": "2022-03-19T18:37:06.218Z"
   },
   {
    "duration": 7,
    "start_time": "2022-03-19T18:37:17.739Z"
   },
   {
    "duration": 7,
    "start_time": "2022-03-19T18:37:22.499Z"
   },
   {
    "duration": 6,
    "start_time": "2022-03-19T18:37:28.817Z"
   },
   {
    "duration": 1372,
    "start_time": "2022-03-19T18:37:44.991Z"
   },
   {
    "duration": 1357,
    "start_time": "2022-03-19T18:37:49.624Z"
   },
   {
    "duration": 394,
    "start_time": "2022-03-19T18:38:02.082Z"
   },
   {
    "duration": 713,
    "start_time": "2022-03-19T18:38:06.632Z"
   },
   {
    "duration": 714,
    "start_time": "2022-03-19T18:38:26.190Z"
   },
   {
    "duration": 705,
    "start_time": "2022-03-19T18:38:30.047Z"
   },
   {
    "duration": 8,
    "start_time": "2022-03-19T18:41:25.220Z"
   },
   {
    "duration": 9,
    "start_time": "2022-03-19T18:41:33.688Z"
   },
   {
    "duration": 8,
    "start_time": "2022-03-19T18:43:17.474Z"
   },
   {
    "duration": 9,
    "start_time": "2022-03-19T18:43:21.746Z"
   },
   {
    "duration": 3,
    "start_time": "2022-03-19T18:43:36.657Z"
   },
   {
    "duration": 7504,
    "start_time": "2022-03-19T18:45:39.308Z"
   },
   {
    "duration": 13592,
    "start_time": "2022-03-19T18:45:58.108Z"
   },
   {
    "duration": 25494,
    "start_time": "2022-03-19T18:46:22.700Z"
   },
   {
    "duration": 12919,
    "start_time": "2022-03-19T18:46:58.355Z"
   },
   {
    "duration": 1204,
    "start_time": "2022-03-19T18:47:38.050Z"
   },
   {
    "duration": 1132,
    "start_time": "2022-03-19T18:47:44.289Z"
   },
   {
    "duration": 1364,
    "start_time": "2022-03-19T18:48:00.646Z"
   },
   {
    "duration": 1420,
    "start_time": "2022-03-19T18:48:05.257Z"
   },
   {
    "duration": 1516,
    "start_time": "2022-03-19T18:51:56.159Z"
   },
   {
    "duration": 710,
    "start_time": "2022-03-19T18:51:57.677Z"
   },
   {
    "duration": 25,
    "start_time": "2022-03-19T18:51:58.389Z"
   },
   {
    "duration": 20,
    "start_time": "2022-03-19T18:51:58.416Z"
   },
   {
    "duration": 37,
    "start_time": "2022-03-19T18:51:58.438Z"
   },
   {
    "duration": 8,
    "start_time": "2022-03-19T18:51:58.477Z"
   },
   {
    "duration": 12,
    "start_time": "2022-03-19T18:51:58.487Z"
   },
   {
    "duration": 6,
    "start_time": "2022-03-19T18:51:58.501Z"
   },
   {
    "duration": 6,
    "start_time": "2022-03-19T18:51:58.509Z"
   },
   {
    "duration": 4,
    "start_time": "2022-03-19T18:51:58.518Z"
   },
   {
    "duration": 40,
    "start_time": "2022-03-19T18:51:58.523Z"
   },
   {
    "duration": 7,
    "start_time": "2022-03-19T18:51:58.565Z"
   },
   {
    "duration": 9,
    "start_time": "2022-03-19T18:51:58.574Z"
   },
   {
    "duration": 4,
    "start_time": "2022-03-19T18:51:58.585Z"
   },
   {
    "duration": 412,
    "start_time": "2022-03-19T18:51:58.591Z"
   },
   {
    "duration": 388,
    "start_time": "2022-03-19T18:51:59.005Z"
   },
   {
    "duration": 468,
    "start_time": "2022-03-19T18:51:59.395Z"
   },
   {
    "duration": 291,
    "start_time": "2022-03-19T18:51:59.865Z"
   },
   {
    "duration": 350,
    "start_time": "2022-03-19T18:52:00.162Z"
   },
   {
    "duration": 8,
    "start_time": "2022-03-19T18:52:00.514Z"
   },
   {
    "duration": 21,
    "start_time": "2022-03-19T18:52:00.524Z"
   },
   {
    "duration": 218,
    "start_time": "2022-03-19T18:52:00.547Z"
   },
   {
    "duration": 12895,
    "start_time": "2022-03-19T18:52:00.768Z"
   },
   {
    "duration": 1375,
    "start_time": "2022-03-19T18:52:13.665Z"
   },
   {
    "duration": 3,
    "start_time": "2022-03-19T18:52:15.041Z"
   },
   {
    "duration": 4222,
    "start_time": "2022-03-19T18:52:15.046Z"
   },
   {
    "duration": 79327,
    "start_time": "2022-03-19T18:52:36.980Z"
   },
   {
    "duration": 309763,
    "start_time": "2022-03-19T18:57:11.553Z"
   },
   {
    "duration": 1343,
    "start_time": "2022-03-19T19:03:52.575Z"
   },
   {
    "duration": 11,
    "start_time": "2022-03-19T19:04:37.044Z"
   },
   {
    "duration": 4,
    "start_time": "2022-03-19T19:05:00.523Z"
   },
   {
    "duration": 118,
    "start_time": "2022-03-19T19:05:04.055Z"
   },
   {
    "duration": 12662,
    "start_time": "2022-03-19T19:05:12.237Z"
   },
   {
    "duration": 1283,
    "start_time": "2022-03-19T19:06:38.316Z"
   },
   {
    "duration": 1167,
    "start_time": "2022-03-19T19:07:09.470Z"
   },
   {
    "duration": 707,
    "start_time": "2022-03-19T19:07:14.861Z"
   },
   {
    "duration": 397,
    "start_time": "2022-03-19T19:07:20.094Z"
   },
   {
    "duration": 449,
    "start_time": "2022-03-19T19:07:23.949Z"
   },
   {
    "duration": 537,
    "start_time": "2022-03-19T19:07:27.422Z"
   },
   {
    "duration": 574,
    "start_time": "2022-03-19T19:07:30.742Z"
   },
   {
    "duration": 313,
    "start_time": "2022-03-19T19:07:33.772Z"
   },
   {
    "duration": 170,
    "start_time": "2022-03-19T19:07:37.384Z"
   },
   {
    "duration": 94,
    "start_time": "2022-03-19T19:07:40.801Z"
   },
   {
    "duration": 171,
    "start_time": "2022-03-19T19:07:44.358Z"
   },
   {
    "duration": 30,
    "start_time": "2022-03-19T19:08:38.593Z"
   },
   {
    "duration": 19,
    "start_time": "2022-03-19T19:08:43.747Z"
   },
   {
    "duration": 17,
    "start_time": "2022-03-19T19:09:00.804Z"
   },
   {
    "duration": 7695,
    "start_time": "2022-03-19T19:09:31.604Z"
   },
   {
    "duration": 3,
    "start_time": "2022-03-19T19:13:34.180Z"
   },
   {
    "duration": 1263,
    "start_time": "2022-03-19T19:14:13.707Z"
   },
   {
    "duration": 970,
    "start_time": "2022-03-19T19:17:38.695Z"
   },
   {
    "duration": 10,
    "start_time": "2022-03-19T19:19:21.872Z"
   },
   {
    "duration": 4,
    "start_time": "2022-03-19T19:19:47.554Z"
   },
   {
    "duration": 1393,
    "start_time": "2022-03-19T19:19:53.280Z"
   },
   {
    "duration": 1449,
    "start_time": "2022-03-19T19:20:27.409Z"
   },
   {
    "duration": 729,
    "start_time": "2022-03-19T19:20:28.860Z"
   },
   {
    "duration": 23,
    "start_time": "2022-03-19T19:20:29.591Z"
   },
   {
    "duration": 20,
    "start_time": "2022-03-19T19:20:29.616Z"
   },
   {
    "duration": 42,
    "start_time": "2022-03-19T19:20:29.637Z"
   },
   {
    "duration": 7,
    "start_time": "2022-03-19T19:20:29.681Z"
   },
   {
    "duration": 10,
    "start_time": "2022-03-19T19:20:29.690Z"
   },
   {
    "duration": 5,
    "start_time": "2022-03-19T19:20:29.701Z"
   },
   {
    "duration": 7,
    "start_time": "2022-03-19T19:20:29.708Z"
   },
   {
    "duration": 5,
    "start_time": "2022-03-19T19:20:29.717Z"
   },
   {
    "duration": 43,
    "start_time": "2022-03-19T19:20:29.723Z"
   },
   {
    "duration": 5,
    "start_time": "2022-03-19T19:20:29.768Z"
   },
   {
    "duration": 8,
    "start_time": "2022-03-19T19:20:29.774Z"
   },
   {
    "duration": 6,
    "start_time": "2022-03-19T19:20:29.784Z"
   },
   {
    "duration": 430,
    "start_time": "2022-03-19T19:20:29.791Z"
   },
   {
    "duration": 402,
    "start_time": "2022-03-19T19:20:30.222Z"
   },
   {
    "duration": 475,
    "start_time": "2022-03-19T19:20:30.626Z"
   },
   {
    "duration": 285,
    "start_time": "2022-03-19T19:20:31.103Z"
   },
   {
    "duration": 361,
    "start_time": "2022-03-19T19:20:31.389Z"
   },
   {
    "duration": 17,
    "start_time": "2022-03-19T19:20:31.752Z"
   },
   {
    "duration": 7,
    "start_time": "2022-03-19T19:20:31.771Z"
   },
   {
    "duration": 238,
    "start_time": "2022-03-19T19:20:31.779Z"
   },
   {
    "duration": 159,
    "start_time": "2022-03-19T19:20:32.019Z"
   },
   {
    "duration": 0,
    "start_time": "2022-03-19T19:20:32.180Z"
   },
   {
    "duration": 0,
    "start_time": "2022-03-19T19:20:32.181Z"
   },
   {
    "duration": 19,
    "start_time": "2022-03-19T19:21:09.743Z"
   },
   {
    "duration": 22,
    "start_time": "2022-03-19T19:22:00.078Z"
   },
   {
    "duration": 18,
    "start_time": "2022-03-19T19:22:10.185Z"
   },
   {
    "duration": 18,
    "start_time": "2022-03-19T19:22:16.887Z"
   },
   {
    "duration": 12,
    "start_time": "2022-03-19T19:22:35.272Z"
   },
   {
    "duration": 25,
    "start_time": "2022-03-19T19:22:45.113Z"
   },
   {
    "duration": 25,
    "start_time": "2022-03-19T19:22:51.228Z"
   },
   {
    "duration": 12,
    "start_time": "2022-03-19T19:23:02.467Z"
   },
   {
    "duration": 24,
    "start_time": "2022-03-19T19:23:04.717Z"
   },
   {
    "duration": 24,
    "start_time": "2022-03-19T19:23:12.709Z"
   },
   {
    "duration": 4,
    "start_time": "2022-03-19T19:23:17.587Z"
   },
   {
    "duration": 1592,
    "start_time": "2022-03-19T19:23:18.871Z"
   },
   {
    "duration": 80,
    "start_time": "2022-03-19T19:25:50.492Z"
   },
   {
    "duration": 5,
    "start_time": "2022-03-19T19:26:29.591Z"
   },
   {
    "duration": 1514,
    "start_time": "2022-03-19T19:26:32.354Z"
   },
   {
    "duration": 10,
    "start_time": "2022-03-19T19:27:10.630Z"
   },
   {
    "duration": 1515,
    "start_time": "2022-03-19T19:27:37.250Z"
   },
   {
    "duration": 5,
    "start_time": "2022-03-19T19:33:47.189Z"
   },
   {
    "duration": 306,
    "start_time": "2022-03-19T19:33:49.271Z"
   },
   {
    "duration": 4,
    "start_time": "2022-03-19T19:34:32.444Z"
   },
   {
    "duration": 3,
    "start_time": "2022-03-19T19:34:46.828Z"
   },
   {
    "duration": 6,
    "start_time": "2022-03-19T19:34:59.092Z"
   },
   {
    "duration": 3,
    "start_time": "2022-03-19T19:34:59.581Z"
   },
   {
    "duration": 5,
    "start_time": "2022-03-19T19:35:00.424Z"
   },
   {
    "duration": 1157,
    "start_time": "2022-03-19T19:35:07.706Z"
   },
   {
    "duration": 1616,
    "start_time": "2022-03-19T19:35:13.952Z"
   },
   {
    "duration": 301,
    "start_time": "2022-03-19T19:35:21.767Z"
   },
   {
    "duration": 5,
    "start_time": "2022-03-19T19:35:29.383Z"
   },
   {
    "duration": 1538,
    "start_time": "2022-03-19T19:35:31.734Z"
   },
   {
    "duration": 1496,
    "start_time": "2022-03-19T19:35:43.681Z"
   },
   {
    "duration": 1864,
    "start_time": "2022-03-19T19:37:18.807Z"
   },
   {
    "duration": 1471,
    "start_time": "2022-03-19T19:37:34.692Z"
   },
   {
    "duration": 1412,
    "start_time": "2022-03-19T19:37:41.654Z"
   },
   {
    "duration": 2,
    "start_time": "2022-03-19T19:39:46.312Z"
   },
   {
    "duration": 1401,
    "start_time": "2022-03-19T19:39:52.967Z"
   },
   {
    "duration": 279,
    "start_time": "2022-03-19T19:40:14.992Z"
   },
   {
    "duration": 3,
    "start_time": "2022-03-19T19:41:02.857Z"
   },
   {
    "duration": 288,
    "start_time": "2022-03-19T19:41:12.684Z"
   },
   {
    "duration": 4,
    "start_time": "2022-03-19T19:41:26.027Z"
   },
   {
    "duration": 174,
    "start_time": "2022-03-19T19:41:29.090Z"
   },
   {
    "duration": 153,
    "start_time": "2022-03-19T19:41:40.110Z"
   },
   {
    "duration": 131,
    "start_time": "2022-03-19T19:41:45.233Z"
   },
   {
    "duration": 3,
    "start_time": "2022-03-19T19:44:50.516Z"
   },
   {
    "duration": 1410,
    "start_time": "2022-03-19T19:44:57.562Z"
   },
   {
    "duration": 3,
    "start_time": "2022-03-19T19:45:04.559Z"
   },
   {
    "duration": 1424,
    "start_time": "2022-03-19T19:45:07.240Z"
   },
   {
    "duration": 4,
    "start_time": "2022-03-19T19:46:19.292Z"
   },
   {
    "duration": 2,
    "start_time": "2022-03-19T19:46:21.660Z"
   },
   {
    "duration": 1255,
    "start_time": "2022-03-19T19:46:23.018Z"
   },
   {
    "duration": 195,
    "start_time": "2022-03-19T19:46:26.370Z"
   },
   {
    "duration": 1432,
    "start_time": "2022-03-19T19:46:41.635Z"
   },
   {
    "duration": 2,
    "start_time": "2022-03-19T19:47:01.251Z"
   },
   {
    "duration": 49610,
    "start_time": "2022-03-19T19:48:21.285Z"
   },
   {
    "duration": 1648,
    "start_time": "2022-03-19T20:03:25.030Z"
   },
   {
    "duration": 0,
    "start_time": "2022-03-19T20:03:26.680Z"
   },
   {
    "duration": 0,
    "start_time": "2022-03-19T20:03:26.681Z"
   },
   {
    "duration": 0,
    "start_time": "2022-03-19T20:03:26.682Z"
   },
   {
    "duration": 0,
    "start_time": "2022-03-19T20:03:26.683Z"
   },
   {
    "duration": 0,
    "start_time": "2022-03-19T20:03:26.684Z"
   },
   {
    "duration": 0,
    "start_time": "2022-03-19T20:03:26.685Z"
   },
   {
    "duration": 0,
    "start_time": "2022-03-19T20:03:26.686Z"
   },
   {
    "duration": 0,
    "start_time": "2022-03-19T20:03:26.687Z"
   },
   {
    "duration": 0,
    "start_time": "2022-03-19T20:03:26.688Z"
   },
   {
    "duration": 0,
    "start_time": "2022-03-19T20:03:26.689Z"
   },
   {
    "duration": 0,
    "start_time": "2022-03-19T20:03:26.690Z"
   },
   {
    "duration": 0,
    "start_time": "2022-03-19T20:03:26.691Z"
   },
   {
    "duration": 0,
    "start_time": "2022-03-19T20:03:26.692Z"
   },
   {
    "duration": 0,
    "start_time": "2022-03-19T20:03:26.693Z"
   },
   {
    "duration": 0,
    "start_time": "2022-03-19T20:03:26.694Z"
   },
   {
    "duration": 0,
    "start_time": "2022-03-19T20:03:26.695Z"
   },
   {
    "duration": 0,
    "start_time": "2022-03-19T20:03:26.696Z"
   },
   {
    "duration": 0,
    "start_time": "2022-03-19T20:03:26.697Z"
   },
   {
    "duration": 0,
    "start_time": "2022-03-19T20:03:26.698Z"
   },
   {
    "duration": 0,
    "start_time": "2022-03-19T20:03:26.699Z"
   },
   {
    "duration": 0,
    "start_time": "2022-03-19T20:03:26.699Z"
   },
   {
    "duration": 0,
    "start_time": "2022-03-19T20:03:26.700Z"
   },
   {
    "duration": 0,
    "start_time": "2022-03-19T20:03:26.701Z"
   },
   {
    "duration": 0,
    "start_time": "2022-03-19T20:03:26.702Z"
   },
   {
    "duration": 0,
    "start_time": "2022-03-19T20:03:26.703Z"
   },
   {
    "duration": 0,
    "start_time": "2022-03-19T20:03:26.704Z"
   },
   {
    "duration": 0,
    "start_time": "2022-03-19T20:03:26.705Z"
   },
   {
    "duration": 0,
    "start_time": "2022-03-19T20:03:26.706Z"
   },
   {
    "duration": 0,
    "start_time": "2022-03-19T20:03:26.707Z"
   },
   {
    "duration": 0,
    "start_time": "2022-03-19T20:03:26.708Z"
   },
   {
    "duration": 0,
    "start_time": "2022-03-19T20:03:26.709Z"
   },
   {
    "duration": 3,
    "start_time": "2022-03-19T20:03:33.349Z"
   },
   {
    "duration": 717,
    "start_time": "2022-03-19T20:03:34.948Z"
   },
   {
    "duration": 127,
    "start_time": "2022-03-19T20:03:48.801Z"
   },
   {
    "duration": 112,
    "start_time": "2022-03-19T20:03:54.990Z"
   },
   {
    "duration": 727,
    "start_time": "2022-03-19T20:03:59.211Z"
   },
   {
    "duration": 24,
    "start_time": "2022-03-19T20:04:00.774Z"
   },
   {
    "duration": 19,
    "start_time": "2022-03-19T20:04:02.250Z"
   },
   {
    "duration": 19,
    "start_time": "2022-03-19T20:04:03.098Z"
   },
   {
    "duration": 8,
    "start_time": "2022-03-19T20:04:04.823Z"
   },
   {
    "duration": 8,
    "start_time": "2022-03-19T20:04:05.563Z"
   },
   {
    "duration": 6,
    "start_time": "2022-03-19T20:04:08.409Z"
   },
   {
    "duration": 6,
    "start_time": "2022-03-19T20:04:10.984Z"
   },
   {
    "duration": 4,
    "start_time": "2022-03-19T20:04:13.220Z"
   },
   {
    "duration": 10,
    "start_time": "2022-03-19T20:04:15.214Z"
   },
   {
    "duration": 8,
    "start_time": "2022-03-19T20:04:16.510Z"
   },
   {
    "duration": 7,
    "start_time": "2022-03-19T20:04:17.200Z"
   },
   {
    "duration": 4,
    "start_time": "2022-03-19T20:04:20.682Z"
   },
   {
    "duration": 402,
    "start_time": "2022-03-19T20:04:21.098Z"
   },
   {
    "duration": 388,
    "start_time": "2022-03-19T20:04:21.502Z"
   },
   {
    "duration": 454,
    "start_time": "2022-03-19T20:04:23.691Z"
   },
   {
    "duration": 273,
    "start_time": "2022-03-19T20:04:25.828Z"
   },
   {
    "duration": 342,
    "start_time": "2022-03-19T20:04:27.632Z"
   },
   {
    "duration": 7,
    "start_time": "2022-03-19T20:04:41.098Z"
   },
   {
    "duration": 9,
    "start_time": "2022-03-19T20:04:42.461Z"
   },
   {
    "duration": 4,
    "start_time": "2022-03-19T20:05:27.827Z"
   },
   {
    "duration": 4,
    "start_time": "2022-03-19T20:05:28.297Z"
   },
   {
    "duration": 5,
    "start_time": "2022-03-19T20:05:28.766Z"
   },
   {
    "duration": 2,
    "start_time": "2022-03-19T20:05:29.972Z"
   },
   {
    "duration": 1502,
    "start_time": "2022-03-19T20:05:32.673Z"
   },
   {
    "duration": 50762,
    "start_time": "2022-03-19T20:05:49.025Z"
   },
   {
    "duration": 50935,
    "start_time": "2022-03-19T20:07:02.907Z"
   },
   {
    "duration": 721656,
    "start_time": "2022-03-19T20:08:24.261Z"
   },
   {
    "duration": 9573,
    "start_time": "2022-03-19T20:21:41.205Z"
   },
   {
    "duration": 8,
    "start_time": "2022-03-19T20:24:06.301Z"
   },
   {
    "duration": 1561,
    "start_time": "2022-03-20T14:15:27.665Z"
   },
   {
    "duration": 773,
    "start_time": "2022-03-20T14:15:29.412Z"
   },
   {
    "duration": 23,
    "start_time": "2022-03-20T14:15:34.140Z"
   },
   {
    "duration": 19,
    "start_time": "2022-03-20T14:16:12.554Z"
   },
   {
    "duration": 18,
    "start_time": "2022-03-20T14:16:13.033Z"
   },
   {
    "duration": 7,
    "start_time": "2022-03-20T14:16:14.762Z"
   },
   {
    "duration": 7,
    "start_time": "2022-03-20T14:16:20.064Z"
   },
   {
    "duration": 5,
    "start_time": "2022-03-20T14:16:20.578Z"
   },
   {
    "duration": 5,
    "start_time": "2022-03-20T14:16:22.541Z"
   },
   {
    "duration": 5,
    "start_time": "2022-03-20T14:16:57.320Z"
   },
   {
    "duration": 5,
    "start_time": "2022-03-20T14:17:14.699Z"
   },
   {
    "duration": 10,
    "start_time": "2022-03-20T14:17:27.671Z"
   },
   {
    "duration": 7,
    "start_time": "2022-03-20T14:17:48.268Z"
   },
   {
    "duration": 7,
    "start_time": "2022-03-20T14:17:49.049Z"
   },
   {
    "duration": 9,
    "start_time": "2022-03-20T14:17:55.682Z"
   },
   {
    "duration": 4,
    "start_time": "2022-03-20T14:18:09.796Z"
   },
   {
    "duration": 394,
    "start_time": "2022-03-20T14:18:10.288Z"
   },
   {
    "duration": 383,
    "start_time": "2022-03-20T14:18:10.833Z"
   },
   {
    "duration": 444,
    "start_time": "2022-03-20T14:18:11.303Z"
   },
   {
    "duration": 269,
    "start_time": "2022-03-20T14:18:12.933Z"
   },
   {
    "duration": 340,
    "start_time": "2022-03-20T14:18:15.565Z"
   },
   {
    "duration": 8,
    "start_time": "2022-03-20T14:21:25.893Z"
   },
   {
    "duration": 8,
    "start_time": "2022-03-20T14:21:26.611Z"
   },
   {
    "duration": 6,
    "start_time": "2022-03-20T14:21:28.095Z"
   },
   {
    "duration": 2,
    "start_time": "2022-03-20T14:21:30.254Z"
   },
   {
    "duration": 1312,
    "start_time": "2022-03-20T14:22:20.022Z"
   },
   {
    "duration": 49082,
    "start_time": "2022-03-20T14:22:21.336Z"
   },
   {
    "duration": 83270,
    "start_time": "2022-03-20T14:23:10.420Z"
   },
   {
    "duration": 0,
    "start_time": "2022-03-20T14:24:33.692Z"
   },
   {
    "duration": 8952,
    "start_time": "2022-03-20T14:24:38.469Z"
   },
   {
    "duration": 1692,
    "start_time": "2022-03-21T08:10:07.076Z"
   },
   {
    "duration": 786,
    "start_time": "2022-03-21T08:10:09.990Z"
   },
   {
    "duration": 30,
    "start_time": "2022-03-21T08:10:10.778Z"
   },
   {
    "duration": 19,
    "start_time": "2022-03-21T08:10:11.653Z"
   },
   {
    "duration": 21,
    "start_time": "2022-03-21T08:10:12.045Z"
   },
   {
    "duration": 8,
    "start_time": "2022-03-21T08:10:12.686Z"
   },
   {
    "duration": 6,
    "start_time": "2022-03-21T08:10:12.907Z"
   },
   {
    "duration": 5,
    "start_time": "2022-03-21T08:10:13.124Z"
   },
   {
    "duration": 6,
    "start_time": "2022-03-21T08:10:14.118Z"
   },
   {
    "duration": 6,
    "start_time": "2022-03-21T08:10:15.707Z"
   },
   {
    "duration": 12,
    "start_time": "2022-03-21T08:10:18.053Z"
   },
   {
    "duration": 7,
    "start_time": "2022-03-21T08:10:19.907Z"
   },
   {
    "duration": 9,
    "start_time": "2022-03-21T08:10:20.694Z"
   },
   {
    "duration": 4,
    "start_time": "2022-03-21T08:10:45.137Z"
   },
   {
    "duration": 437,
    "start_time": "2022-03-21T08:10:46.152Z"
   },
   {
    "duration": 437,
    "start_time": "2022-03-21T08:10:47.940Z"
   },
   {
    "duration": 494,
    "start_time": "2022-03-21T08:10:48.724Z"
   },
   {
    "duration": 317,
    "start_time": "2022-03-21T08:11:00.989Z"
   },
   {
    "duration": 379,
    "start_time": "2022-03-21T08:12:03.072Z"
   },
   {
    "duration": 106,
    "start_time": "2022-03-21T08:21:21.116Z"
   },
   {
    "duration": 7,
    "start_time": "2022-03-21T08:22:08.229Z"
   },
   {
    "duration": 7,
    "start_time": "2022-03-21T08:22:24.600Z"
   },
   {
    "duration": 13,
    "start_time": "2022-03-21T08:22:29.680Z"
   },
   {
    "duration": 28,
    "start_time": "2022-03-21T08:22:47.569Z"
   },
   {
    "duration": 22,
    "start_time": "2022-03-21T08:23:09.167Z"
   },
   {
    "duration": 28,
    "start_time": "2022-03-21T08:24:02.398Z"
   },
   {
    "duration": 8,
    "start_time": "2022-03-21T08:24:09.858Z"
   },
   {
    "duration": 12,
    "start_time": "2022-03-21T08:30:40.538Z"
   },
   {
    "duration": 386,
    "start_time": "2022-03-21T08:30:48.843Z"
   },
   {
    "duration": 21,
    "start_time": "2022-03-21T08:31:27.177Z"
   },
   {
    "duration": 8,
    "start_time": "2022-03-21T08:31:37.098Z"
   },
   {
    "duration": 6,
    "start_time": "2022-03-21T08:31:50.580Z"
   },
   {
    "duration": 17,
    "start_time": "2022-03-21T08:32:50.861Z"
   },
   {
    "duration": 717,
    "start_time": "2022-03-21T08:33:07.768Z"
   },
   {
    "duration": 22,
    "start_time": "2022-03-21T08:33:08.700Z"
   },
   {
    "duration": 19,
    "start_time": "2022-03-21T08:33:09.106Z"
   },
   {
    "duration": 19,
    "start_time": "2022-03-21T08:33:09.300Z"
   },
   {
    "duration": 8,
    "start_time": "2022-03-21T08:33:09.893Z"
   },
   {
    "duration": 6,
    "start_time": "2022-03-21T08:33:10.107Z"
   },
   {
    "duration": 5,
    "start_time": "2022-03-21T08:33:10.329Z"
   },
   {
    "duration": 5,
    "start_time": "2022-03-21T08:33:10.764Z"
   },
   {
    "duration": 4,
    "start_time": "2022-03-21T08:33:11.654Z"
   },
   {
    "duration": 11,
    "start_time": "2022-03-21T08:33:12.528Z"
   },
   {
    "duration": 7,
    "start_time": "2022-03-21T08:33:13.204Z"
   },
   {
    "duration": 9,
    "start_time": "2022-03-21T08:33:13.444Z"
   },
   {
    "duration": 4,
    "start_time": "2022-03-21T08:33:14.738Z"
   },
   {
    "duration": 542,
    "start_time": "2022-03-21T08:33:14.964Z"
   },
   {
    "duration": 446,
    "start_time": "2022-03-21T08:33:15.508Z"
   },
   {
    "duration": 426,
    "start_time": "2022-03-21T08:33:15.955Z"
   },
   {
    "duration": 304,
    "start_time": "2022-03-21T08:33:18.888Z"
   },
   {
    "duration": 406,
    "start_time": "2022-03-21T08:33:20.880Z"
   },
   {
    "duration": 14,
    "start_time": "2022-03-21T08:33:24.983Z"
   },
   {
    "duration": 13,
    "start_time": "2022-03-21T08:33:35.576Z"
   },
   {
    "duration": 13,
    "start_time": "2022-03-21T08:33:42.339Z"
   },
   {
    "duration": 9,
    "start_time": "2022-03-21T08:34:03.284Z"
   },
   {
    "duration": 21,
    "start_time": "2022-03-21T08:34:16.131Z"
   },
   {
    "duration": 10,
    "start_time": "2022-03-21T08:36:43.144Z"
   },
   {
    "duration": 10,
    "start_time": "2022-03-21T08:37:04.391Z"
   },
   {
    "duration": 15,
    "start_time": "2022-03-21T08:39:09.907Z"
   },
   {
    "duration": 11,
    "start_time": "2022-03-21T08:39:46.256Z"
   },
   {
    "duration": 12,
    "start_time": "2022-03-21T08:40:38.450Z"
   },
   {
    "duration": 16,
    "start_time": "2022-03-21T08:41:07.898Z"
   },
   {
    "duration": 10,
    "start_time": "2022-03-21T08:41:18.287Z"
   },
   {
    "duration": 9,
    "start_time": "2022-03-21T08:41:26.900Z"
   },
   {
    "duration": 4,
    "start_time": "2022-03-21T08:44:31.866Z"
   },
   {
    "duration": 8,
    "start_time": "2022-03-21T08:44:55.795Z"
   },
   {
    "duration": 3,
    "start_time": "2022-03-21T08:45:00.382Z"
   },
   {
    "duration": 17,
    "start_time": "2022-03-21T08:45:05.180Z"
   },
   {
    "duration": 8,
    "start_time": "2022-03-21T08:45:15.959Z"
   },
   {
    "duration": 3,
    "start_time": "2022-03-21T08:45:50.485Z"
   },
   {
    "duration": 8,
    "start_time": "2022-03-21T08:45:51.427Z"
   },
   {
    "duration": 3,
    "start_time": "2022-03-21T08:45:59.417Z"
   },
   {
    "duration": 749,
    "start_time": "2022-03-21T08:46:00.005Z"
   },
   {
    "duration": 21,
    "start_time": "2022-03-21T08:46:00.757Z"
   },
   {
    "duration": 48,
    "start_time": "2022-03-21T08:46:00.780Z"
   },
   {
    "duration": 21,
    "start_time": "2022-03-21T08:46:00.851Z"
   },
   {
    "duration": 8,
    "start_time": "2022-03-21T08:46:01.479Z"
   },
   {
    "duration": 5,
    "start_time": "2022-03-21T08:46:01.685Z"
   },
   {
    "duration": 6,
    "start_time": "2022-03-21T08:46:01.917Z"
   },
   {
    "duration": 6,
    "start_time": "2022-03-21T08:46:02.336Z"
   },
   {
    "duration": 4,
    "start_time": "2022-03-21T08:46:03.243Z"
   },
   {
    "duration": 11,
    "start_time": "2022-03-21T08:46:04.141Z"
   },
   {
    "duration": 8,
    "start_time": "2022-03-21T08:46:04.821Z"
   },
   {
    "duration": 9,
    "start_time": "2022-03-21T08:46:05.041Z"
   },
   {
    "duration": 5,
    "start_time": "2022-03-21T08:46:06.169Z"
   },
   {
    "duration": 561,
    "start_time": "2022-03-21T08:46:06.506Z"
   },
   {
    "duration": 443,
    "start_time": "2022-03-21T08:46:07.069Z"
   },
   {
    "duration": 427,
    "start_time": "2022-03-21T08:46:07.514Z"
   },
   {
    "duration": 305,
    "start_time": "2022-03-21T08:46:10.510Z"
   },
   {
    "duration": 396,
    "start_time": "2022-03-21T08:46:12.508Z"
   },
   {
    "duration": 4,
    "start_time": "2022-03-21T08:46:15.221Z"
   },
   {
    "duration": 4,
    "start_time": "2022-03-21T08:46:16.505Z"
   },
   {
    "duration": 13,
    "start_time": "2022-03-21T08:46:18.557Z"
   },
   {
    "duration": 8,
    "start_time": "2022-03-21T08:46:19.187Z"
   },
   {
    "duration": 4,
    "start_time": "2022-03-21T08:47:20.126Z"
   },
   {
    "duration": 748,
    "start_time": "2022-03-21T08:47:20.843Z"
   },
   {
    "duration": 22,
    "start_time": "2022-03-21T08:47:21.594Z"
   },
   {
    "duration": 24,
    "start_time": "2022-03-21T08:47:21.618Z"
   },
   {
    "duration": 21,
    "start_time": "2022-03-21T08:47:21.871Z"
   },
   {
    "duration": 10,
    "start_time": "2022-03-21T08:47:22.599Z"
   },
   {
    "duration": 5,
    "start_time": "2022-03-21T08:47:22.857Z"
   },
   {
    "duration": 6,
    "start_time": "2022-03-21T08:47:23.105Z"
   },
   {
    "duration": 6,
    "start_time": "2022-03-21T08:47:24.295Z"
   },
   {
    "duration": 5,
    "start_time": "2022-03-21T08:47:25.230Z"
   },
   {
    "duration": 11,
    "start_time": "2022-03-21T08:47:26.135Z"
   },
   {
    "duration": 9,
    "start_time": "2022-03-21T08:47:26.882Z"
   },
   {
    "duration": 10,
    "start_time": "2022-03-21T08:47:27.083Z"
   },
   {
    "duration": 6,
    "start_time": "2022-03-21T08:47:28.261Z"
   },
   {
    "duration": 574,
    "start_time": "2022-03-21T08:47:28.509Z"
   },
   {
    "duration": 452,
    "start_time": "2022-03-21T08:47:29.085Z"
   },
   {
    "duration": 442,
    "start_time": "2022-03-21T08:47:29.538Z"
   },
   {
    "duration": 311,
    "start_time": "2022-03-21T08:47:32.102Z"
   },
   {
    "duration": 405,
    "start_time": "2022-03-21T08:47:34.238Z"
   },
   {
    "duration": 3,
    "start_time": "2022-03-21T08:47:36.349Z"
   },
   {
    "duration": 4,
    "start_time": "2022-03-21T08:47:37.139Z"
   },
   {
    "duration": 13,
    "start_time": "2022-03-21T08:47:37.964Z"
   },
   {
    "duration": 4,
    "start_time": "2022-03-21T08:47:40.415Z"
   },
   {
    "duration": 534,
    "start_time": "2022-03-21T08:47:45.482Z"
   },
   {
    "duration": 22,
    "start_time": "2022-03-21T08:48:48.740Z"
   },
   {
    "duration": 13,
    "start_time": "2022-03-21T08:48:56.270Z"
   },
   {
    "duration": 10,
    "start_time": "2022-03-21T08:49:59.724Z"
   },
   {
    "duration": 3,
    "start_time": "2022-03-21T08:50:04.032Z"
   },
   {
    "duration": 2246,
    "start_time": "2022-03-21T08:50:04.650Z"
   },
   {
    "duration": 25,
    "start_time": "2022-03-21T08:50:40.389Z"
   },
   {
    "duration": 5,
    "start_time": "2022-03-21T08:50:53.498Z"
   },
   {
    "duration": 8,
    "start_time": "2022-03-21T08:50:54.611Z"
   },
   {
    "duration": 5,
    "start_time": "2022-03-21T08:50:57.175Z"
   },
   {
    "duration": 3,
    "start_time": "2022-03-21T08:50:58.251Z"
   },
   {
    "duration": 1429,
    "start_time": "2022-03-21T08:51:08.588Z"
   },
   {
    "duration": 48482,
    "start_time": "2022-03-21T08:51:14.474Z"
   },
   {
    "duration": 665570,
    "start_time": "2022-03-21T08:52:41.944Z"
   },
   {
    "duration": 7469,
    "start_time": "2022-03-21T09:04:11.673Z"
   },
   {
    "duration": 8652,
    "start_time": "2022-03-21T09:07:00.459Z"
   },
   {
    "duration": 9,
    "start_time": "2022-03-21T09:07:18.381Z"
   },
   {
    "duration": 118,
    "start_time": "2022-03-21T09:07:32.912Z"
   },
   {
    "duration": 8762,
    "start_time": "2022-03-21T09:07:58.870Z"
   },
   {
    "duration": 9,
    "start_time": "2022-03-21T09:08:30.265Z"
   },
   {
    "duration": 7,
    "start_time": "2022-03-21T09:08:52.922Z"
   },
   {
    "duration": 114,
    "start_time": "2022-03-21T09:09:30.290Z"
   },
   {
    "duration": 103,
    "start_time": "2022-03-21T09:09:39.994Z"
   },
   {
    "duration": 8615,
    "start_time": "2022-03-21T09:09:44.550Z"
   },
   {
    "duration": 8586,
    "start_time": "2022-03-21T09:10:05.241Z"
   },
   {
    "duration": 38,
    "start_time": "2022-03-21T09:10:17.257Z"
   },
   {
    "duration": 12,
    "start_time": "2022-03-21T09:10:22.011Z"
   },
   {
    "duration": 1509,
    "start_time": "2022-03-21T09:35:01.930Z"
   },
   {
    "duration": 724,
    "start_time": "2022-03-21T09:35:03.442Z"
   },
   {
    "duration": 24,
    "start_time": "2022-03-21T09:35:04.168Z"
   },
   {
    "duration": 28,
    "start_time": "2022-03-21T09:35:04.195Z"
   },
   {
    "duration": 20,
    "start_time": "2022-03-21T09:35:04.226Z"
   },
   {
    "duration": 13,
    "start_time": "2022-03-21T09:35:04.249Z"
   },
   {
    "duration": 11,
    "start_time": "2022-03-21T09:35:04.264Z"
   },
   {
    "duration": 6,
    "start_time": "2022-03-21T09:35:04.277Z"
   },
   {
    "duration": 6,
    "start_time": "2022-03-21T09:35:04.310Z"
   },
   {
    "duration": 4,
    "start_time": "2022-03-21T09:35:04.319Z"
   },
   {
    "duration": 13,
    "start_time": "2022-03-21T09:35:04.325Z"
   },
   {
    "duration": 8,
    "start_time": "2022-03-21T09:35:04.340Z"
   },
   {
    "duration": 13,
    "start_time": "2022-03-21T09:35:04.350Z"
   },
   {
    "duration": 5,
    "start_time": "2022-03-21T09:35:04.364Z"
   },
   {
    "duration": 482,
    "start_time": "2022-03-21T09:35:04.371Z"
   },
   {
    "duration": 440,
    "start_time": "2022-03-21T09:35:04.854Z"
   },
   {
    "duration": 508,
    "start_time": "2022-03-21T09:35:05.296Z"
   },
   {
    "duration": 320,
    "start_time": "2022-03-21T09:35:05.806Z"
   },
   {
    "duration": 408,
    "start_time": "2022-03-21T09:35:06.128Z"
   },
   {
    "duration": 4,
    "start_time": "2022-03-21T09:35:06.538Z"
   },
   {
    "duration": 30,
    "start_time": "2022-03-21T09:35:06.544Z"
   },
   {
    "duration": 6,
    "start_time": "2022-03-21T09:35:06.576Z"
   },
   {
    "duration": 27,
    "start_time": "2022-03-21T09:35:06.583Z"
   },
   {
    "duration": 5,
    "start_time": "2022-03-21T09:35:06.612Z"
   },
   {
    "duration": 6,
    "start_time": "2022-03-21T09:35:06.619Z"
   },
   {
    "duration": 8411,
    "start_time": "2022-03-21T09:35:06.627Z"
   },
   {
    "duration": 12,
    "start_time": "2022-03-21T09:35:15.040Z"
   },
   {
    "duration": 1561,
    "start_time": "2022-03-21T09:35:15.056Z"
   },
   {
    "duration": 49251,
    "start_time": "2022-03-21T09:35:16.710Z"
   },
   {
    "duration": 1410,
    "start_time": "2022-03-21T09:44:21.630Z"
   },
   {
    "duration": 737,
    "start_time": "2022-03-21T09:44:23.042Z"
   },
   {
    "duration": 23,
    "start_time": "2022-03-21T09:44:23.781Z"
   },
   {
    "duration": 21,
    "start_time": "2022-03-21T09:44:23.810Z"
   },
   {
    "duration": 20,
    "start_time": "2022-03-21T09:44:23.832Z"
   },
   {
    "duration": 9,
    "start_time": "2022-03-21T09:44:23.853Z"
   },
   {
    "duration": 7,
    "start_time": "2022-03-21T09:44:23.863Z"
   },
   {
    "duration": 38,
    "start_time": "2022-03-21T09:44:23.872Z"
   },
   {
    "duration": 5,
    "start_time": "2022-03-21T09:44:23.912Z"
   },
   {
    "duration": 5,
    "start_time": "2022-03-21T09:44:23.920Z"
   },
   {
    "duration": 13,
    "start_time": "2022-03-21T09:44:23.926Z"
   },
   {
    "duration": 8,
    "start_time": "2022-03-21T09:44:23.940Z"
   },
   {
    "duration": 11,
    "start_time": "2022-03-21T09:44:23.949Z"
   },
   {
    "duration": 5,
    "start_time": "2022-03-21T09:44:23.961Z"
   },
   {
    "duration": 477,
    "start_time": "2022-03-21T09:44:23.968Z"
   },
   {
    "duration": 447,
    "start_time": "2022-03-21T09:44:24.447Z"
   },
   {
    "duration": 502,
    "start_time": "2022-03-21T09:44:24.895Z"
   },
   {
    "duration": 322,
    "start_time": "2022-03-21T09:44:25.399Z"
   },
   {
    "duration": 403,
    "start_time": "2022-03-21T09:44:25.723Z"
   },
   {
    "duration": 4,
    "start_time": "2022-03-21T09:44:26.128Z"
   },
   {
    "duration": 30,
    "start_time": "2022-03-21T09:44:26.134Z"
   },
   {
    "duration": 6,
    "start_time": "2022-03-21T09:44:26.166Z"
   },
   {
    "duration": 11,
    "start_time": "2022-03-21T09:44:26.174Z"
   },
   {
    "duration": 4,
    "start_time": "2022-03-21T09:44:26.208Z"
   },
   {
    "duration": 5,
    "start_time": "2022-03-21T09:44:26.214Z"
   },
   {
    "duration": 8451,
    "start_time": "2022-03-21T09:44:26.220Z"
   },
   {
    "duration": 12,
    "start_time": "2022-03-21T09:44:34.672Z"
   },
   {
    "duration": 1522,
    "start_time": "2022-03-21T09:44:34.687Z"
   },
   {
    "duration": 48015,
    "start_time": "2022-03-21T09:44:36.211Z"
   },
   {
    "duration": 661377,
    "start_time": "2022-03-21T09:45:24.227Z"
   },
   {
    "duration": 7374,
    "start_time": "2022-03-21T09:56:25.606Z"
   }
  ],
  "kernelspec": {
   "display_name": "Python 3 (ipykernel)",
   "language": "python",
   "name": "python3"
  },
  "language_info": {
   "codemirror_mode": {
    "name": "ipython",
    "version": 3
   },
   "file_extension": ".py",
   "mimetype": "text/x-python",
   "name": "python",
   "nbconvert_exporter": "python",
   "pygments_lexer": "ipython3",
   "version": "3.9.7"
  },
  "toc": {
   "base_numbering": 1,
   "nav_menu": {},
   "number_sections": true,
   "sideBar": true,
   "skip_h1_title": true,
   "title_cell": "Содержание",
   "title_sidebar": "Contents",
   "toc_cell": true,
   "toc_position": {
    "height": "calc(100% - 180px)",
    "left": "10px",
    "top": "150px",
    "width": "165px"
   },
   "toc_section_display": true,
   "toc_window_display": true
  }
 },
 "nbformat": 4,
 "nbformat_minor": 2
}
