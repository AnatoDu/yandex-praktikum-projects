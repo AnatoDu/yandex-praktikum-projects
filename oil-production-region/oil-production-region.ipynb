{
 "cells": [
  {
   "cell_type": "markdown",
   "metadata": {},
   "source": [
    "# Выбор локации для скважины"
   ]
  },
  {
   "cell_type": "markdown",
   "metadata": {},
   "source": [
    "Поставленная задача:\n",
    "\n",
    "Есть пробы нефти в трех регионах (качество и объемы запасов, по 10000 месторождений). На основании этих данных необходимо построить модель машинного обучения, которая поможет определить регион, где добыча нефти принесет наибольшую прибыль."
   ]
  },
  {
   "cell_type": "markdown",
   "metadata": {},
   "source": [
    "Импортируем необходимые библиотеки."
   ]
  },
  {
   "cell_type": "code",
   "execution_count": 1,
   "metadata": {},
   "outputs": [],
   "source": [
    "import pandas as pd\n",
    "import numpy as np\n",
    "from sklearn.model_selection import train_test_split\n",
    "from sklearn.linear_model import LinearRegression\n",
    "from sklearn.metrics import mean_squared_error\n",
    "from scipy import stats as st\n",
    "from numpy.random import RandomState\n",
    "state = RandomState(25)"
   ]
  },
  {
   "cell_type": "markdown",
   "metadata": {},
   "source": [
    "## Загрузка и подготовка данных"
   ]
  },
  {
   "cell_type": "markdown",
   "metadata": {},
   "source": [
    "Загрузим данные."
   ]
  },
  {
   "cell_type": "code",
   "execution_count": 2,
   "metadata": {},
   "outputs": [],
   "source": [
    "data_0 = pd.read_csv('/datasets/geo_data_0.csv')\n",
    "data_1 = pd.read_csv('/datasets/geo_data_1.csv')\n",
    "data_2 = pd.read_csv('/datasets/geo_data_2.csv')"
   ]
  },
  {
   "cell_type": "markdown",
   "metadata": {},
   "source": [
    "Посмотрим на состояние данных в таблицах."
   ]
  },
  {
   "cell_type": "code",
   "execution_count": 3,
   "metadata": {},
   "outputs": [
    {
     "name": "stdout",
     "output_type": "stream",
     "text": [
      "<class 'pandas.core.frame.DataFrame'>\n",
      "RangeIndex: 100000 entries, 0 to 99999\n",
      "Data columns (total 5 columns):\n",
      " #   Column   Non-Null Count   Dtype  \n",
      "---  ------   --------------   -----  \n",
      " 0   id       100000 non-null  object \n",
      " 1   f0       100000 non-null  float64\n",
      " 2   f1       100000 non-null  float64\n",
      " 3   f2       100000 non-null  float64\n",
      " 4   product  100000 non-null  float64\n",
      "dtypes: float64(4), object(1)\n",
      "memory usage: 3.8+ MB\n"
     ]
    }
   ],
   "source": [
    "data_0.info()"
   ]
  },
  {
   "cell_type": "code",
   "execution_count": 4,
   "metadata": {},
   "outputs": [
    {
     "data": {
      "text/html": [
       "<div>\n",
       "<style scoped>\n",
       "    .dataframe tbody tr th:only-of-type {\n",
       "        vertical-align: middle;\n",
       "    }\n",
       "\n",
       "    .dataframe tbody tr th {\n",
       "        vertical-align: top;\n",
       "    }\n",
       "\n",
       "    .dataframe thead th {\n",
       "        text-align: right;\n",
       "    }\n",
       "</style>\n",
       "<table border=\"1\" class=\"dataframe\">\n",
       "  <thead>\n",
       "    <tr style=\"text-align: right;\">\n",
       "      <th></th>\n",
       "      <th>id</th>\n",
       "      <th>f0</th>\n",
       "      <th>f1</th>\n",
       "      <th>f2</th>\n",
       "      <th>product</th>\n",
       "    </tr>\n",
       "  </thead>\n",
       "  <tbody>\n",
       "    <tr>\n",
       "      <th>0</th>\n",
       "      <td>txEyH</td>\n",
       "      <td>0.705745</td>\n",
       "      <td>-0.497823</td>\n",
       "      <td>1.221170</td>\n",
       "      <td>105.280062</td>\n",
       "    </tr>\n",
       "    <tr>\n",
       "      <th>1</th>\n",
       "      <td>2acmU</td>\n",
       "      <td>1.334711</td>\n",
       "      <td>-0.340164</td>\n",
       "      <td>4.365080</td>\n",
       "      <td>73.037750</td>\n",
       "    </tr>\n",
       "    <tr>\n",
       "      <th>2</th>\n",
       "      <td>409Wp</td>\n",
       "      <td>1.022732</td>\n",
       "      <td>0.151990</td>\n",
       "      <td>1.419926</td>\n",
       "      <td>85.265647</td>\n",
       "    </tr>\n",
       "    <tr>\n",
       "      <th>3</th>\n",
       "      <td>iJLyR</td>\n",
       "      <td>-0.032172</td>\n",
       "      <td>0.139033</td>\n",
       "      <td>2.978566</td>\n",
       "      <td>168.620776</td>\n",
       "    </tr>\n",
       "    <tr>\n",
       "      <th>4</th>\n",
       "      <td>Xdl7t</td>\n",
       "      <td>1.988431</td>\n",
       "      <td>0.155413</td>\n",
       "      <td>4.751769</td>\n",
       "      <td>154.036647</td>\n",
       "    </tr>\n",
       "  </tbody>\n",
       "</table>\n",
       "</div>"
      ],
      "text/plain": [
       "      id        f0        f1        f2     product\n",
       "0  txEyH  0.705745 -0.497823  1.221170  105.280062\n",
       "1  2acmU  1.334711 -0.340164  4.365080   73.037750\n",
       "2  409Wp  1.022732  0.151990  1.419926   85.265647\n",
       "3  iJLyR -0.032172  0.139033  2.978566  168.620776\n",
       "4  Xdl7t  1.988431  0.155413  4.751769  154.036647"
      ]
     },
     "execution_count": 4,
     "metadata": {},
     "output_type": "execute_result"
    }
   ],
   "source": [
    "data_0.head()"
   ]
  },
  {
   "cell_type": "code",
   "execution_count": 5,
   "metadata": {},
   "outputs": [
    {
     "name": "stdout",
     "output_type": "stream",
     "text": [
      "<class 'pandas.core.frame.DataFrame'>\n",
      "RangeIndex: 100000 entries, 0 to 99999\n",
      "Data columns (total 5 columns):\n",
      " #   Column   Non-Null Count   Dtype  \n",
      "---  ------   --------------   -----  \n",
      " 0   id       100000 non-null  object \n",
      " 1   f0       100000 non-null  float64\n",
      " 2   f1       100000 non-null  float64\n",
      " 3   f2       100000 non-null  float64\n",
      " 4   product  100000 non-null  float64\n",
      "dtypes: float64(4), object(1)\n",
      "memory usage: 3.8+ MB\n"
     ]
    }
   ],
   "source": [
    "data_1.info()"
   ]
  },
  {
   "cell_type": "code",
   "execution_count": 6,
   "metadata": {},
   "outputs": [
    {
     "data": {
      "text/html": [
       "<div>\n",
       "<style scoped>\n",
       "    .dataframe tbody tr th:only-of-type {\n",
       "        vertical-align: middle;\n",
       "    }\n",
       "\n",
       "    .dataframe tbody tr th {\n",
       "        vertical-align: top;\n",
       "    }\n",
       "\n",
       "    .dataframe thead th {\n",
       "        text-align: right;\n",
       "    }\n",
       "</style>\n",
       "<table border=\"1\" class=\"dataframe\">\n",
       "  <thead>\n",
       "    <tr style=\"text-align: right;\">\n",
       "      <th></th>\n",
       "      <th>id</th>\n",
       "      <th>f0</th>\n",
       "      <th>f1</th>\n",
       "      <th>f2</th>\n",
       "      <th>product</th>\n",
       "    </tr>\n",
       "  </thead>\n",
       "  <tbody>\n",
       "    <tr>\n",
       "      <th>0</th>\n",
       "      <td>kBEdx</td>\n",
       "      <td>-15.001348</td>\n",
       "      <td>-8.276000</td>\n",
       "      <td>-0.005876</td>\n",
       "      <td>3.179103</td>\n",
       "    </tr>\n",
       "    <tr>\n",
       "      <th>1</th>\n",
       "      <td>62mP7</td>\n",
       "      <td>14.272088</td>\n",
       "      <td>-3.475083</td>\n",
       "      <td>0.999183</td>\n",
       "      <td>26.953261</td>\n",
       "    </tr>\n",
       "    <tr>\n",
       "      <th>2</th>\n",
       "      <td>vyE1P</td>\n",
       "      <td>6.263187</td>\n",
       "      <td>-5.948386</td>\n",
       "      <td>5.001160</td>\n",
       "      <td>134.766305</td>\n",
       "    </tr>\n",
       "    <tr>\n",
       "      <th>3</th>\n",
       "      <td>KcrkZ</td>\n",
       "      <td>-13.081196</td>\n",
       "      <td>-11.506057</td>\n",
       "      <td>4.999415</td>\n",
       "      <td>137.945408</td>\n",
       "    </tr>\n",
       "    <tr>\n",
       "      <th>4</th>\n",
       "      <td>AHL4O</td>\n",
       "      <td>12.702195</td>\n",
       "      <td>-8.147433</td>\n",
       "      <td>5.004363</td>\n",
       "      <td>134.766305</td>\n",
       "    </tr>\n",
       "  </tbody>\n",
       "</table>\n",
       "</div>"
      ],
      "text/plain": [
       "      id         f0         f1        f2     product\n",
       "0  kBEdx -15.001348  -8.276000 -0.005876    3.179103\n",
       "1  62mP7  14.272088  -3.475083  0.999183   26.953261\n",
       "2  vyE1P   6.263187  -5.948386  5.001160  134.766305\n",
       "3  KcrkZ -13.081196 -11.506057  4.999415  137.945408\n",
       "4  AHL4O  12.702195  -8.147433  5.004363  134.766305"
      ]
     },
     "execution_count": 6,
     "metadata": {},
     "output_type": "execute_result"
    }
   ],
   "source": [
    "data_1.head()"
   ]
  },
  {
   "cell_type": "code",
   "execution_count": 7,
   "metadata": {},
   "outputs": [
    {
     "name": "stdout",
     "output_type": "stream",
     "text": [
      "<class 'pandas.core.frame.DataFrame'>\n",
      "RangeIndex: 100000 entries, 0 to 99999\n",
      "Data columns (total 5 columns):\n",
      " #   Column   Non-Null Count   Dtype  \n",
      "---  ------   --------------   -----  \n",
      " 0   id       100000 non-null  object \n",
      " 1   f0       100000 non-null  float64\n",
      " 2   f1       100000 non-null  float64\n",
      " 3   f2       100000 non-null  float64\n",
      " 4   product  100000 non-null  float64\n",
      "dtypes: float64(4), object(1)\n",
      "memory usage: 3.8+ MB\n"
     ]
    }
   ],
   "source": [
    "data_2.info()"
   ]
  },
  {
   "cell_type": "code",
   "execution_count": 8,
   "metadata": {
    "scrolled": true
   },
   "outputs": [
    {
     "data": {
      "text/html": [
       "<div>\n",
       "<style scoped>\n",
       "    .dataframe tbody tr th:only-of-type {\n",
       "        vertical-align: middle;\n",
       "    }\n",
       "\n",
       "    .dataframe tbody tr th {\n",
       "        vertical-align: top;\n",
       "    }\n",
       "\n",
       "    .dataframe thead th {\n",
       "        text-align: right;\n",
       "    }\n",
       "</style>\n",
       "<table border=\"1\" class=\"dataframe\">\n",
       "  <thead>\n",
       "    <tr style=\"text-align: right;\">\n",
       "      <th></th>\n",
       "      <th>id</th>\n",
       "      <th>f0</th>\n",
       "      <th>f1</th>\n",
       "      <th>f2</th>\n",
       "      <th>product</th>\n",
       "    </tr>\n",
       "  </thead>\n",
       "  <tbody>\n",
       "    <tr>\n",
       "      <th>0</th>\n",
       "      <td>fwXo0</td>\n",
       "      <td>-1.146987</td>\n",
       "      <td>0.963328</td>\n",
       "      <td>-0.828965</td>\n",
       "      <td>27.758673</td>\n",
       "    </tr>\n",
       "    <tr>\n",
       "      <th>1</th>\n",
       "      <td>WJtFt</td>\n",
       "      <td>0.262778</td>\n",
       "      <td>0.269839</td>\n",
       "      <td>-2.530187</td>\n",
       "      <td>56.069697</td>\n",
       "    </tr>\n",
       "    <tr>\n",
       "      <th>2</th>\n",
       "      <td>ovLUW</td>\n",
       "      <td>0.194587</td>\n",
       "      <td>0.289035</td>\n",
       "      <td>-5.586433</td>\n",
       "      <td>62.871910</td>\n",
       "    </tr>\n",
       "    <tr>\n",
       "      <th>3</th>\n",
       "      <td>q6cA6</td>\n",
       "      <td>2.236060</td>\n",
       "      <td>-0.553760</td>\n",
       "      <td>0.930038</td>\n",
       "      <td>114.572842</td>\n",
       "    </tr>\n",
       "    <tr>\n",
       "      <th>4</th>\n",
       "      <td>WPMUX</td>\n",
       "      <td>-0.515993</td>\n",
       "      <td>1.716266</td>\n",
       "      <td>5.899011</td>\n",
       "      <td>149.600746</td>\n",
       "    </tr>\n",
       "  </tbody>\n",
       "</table>\n",
       "</div>"
      ],
      "text/plain": [
       "      id        f0        f1        f2     product\n",
       "0  fwXo0 -1.146987  0.963328 -0.828965   27.758673\n",
       "1  WJtFt  0.262778  0.269839 -2.530187   56.069697\n",
       "2  ovLUW  0.194587  0.289035 -5.586433   62.871910\n",
       "3  q6cA6  2.236060 -0.553760  0.930038  114.572842\n",
       "4  WPMUX -0.515993  1.716266  5.899011  149.600746"
      ]
     },
     "execution_count": 8,
     "metadata": {},
     "output_type": "execute_result"
    }
   ],
   "source": [
    "data_2.head()"
   ]
  },
  {
   "cell_type": "markdown",
   "metadata": {},
   "source": [
    "С данными всё в порядке. Подготовим данные для модели. "
   ]
  },
  {
   "cell_type": "markdown",
   "metadata": {},
   "source": [
    "## Обучение и проверка модели"
   ]
  },
  {
   "cell_type": "markdown",
   "metadata": {},
   "source": [
    "Разделим выборки на тестовые и валидоционные, масштабируем данные."
   ]
  },
  {
   "cell_type": "code",
   "execution_count": 9,
   "metadata": {},
   "outputs": [],
   "source": [
    "features_0 = data_0.drop(['id', 'product'], axis=1)\n",
    "target_0 = data_0['product']\n",
    "features_1 = data_1.drop(['id', 'product'], axis=1)\n",
    "target_1 = data_1['product']\n",
    "features_2 = data_2.drop(['id', 'product'], axis=1)\n",
    "target_2 = data_2['product']"
   ]
  },
  {
   "cell_type": "code",
   "execution_count": 10,
   "metadata": {},
   "outputs": [],
   "source": [
    "features_0_train, features_0_valid, target_0_train, target_0_valid = train_test_split(\n",
    "        features_0, target_0, test_size=0.25, random_state=25)\n",
    "features_1_train, features_1_valid, target_1_train, target_1_valid = train_test_split(\n",
    "        features_1, target_1, test_size=0.25, random_state=25)\n",
    "features_2_train, features_2_valid, target_2_train, target_2_valid = train_test_split(\n",
    "        features_2, target_2, test_size=0.25, random_state=25)"
   ]
  },
  {
   "cell_type": "code",
   "execution_count": 11,
   "metadata": {},
   "outputs": [],
   "source": [
    "model = LinearRegression()\n",
    "model.fit(features_0_train, target_0_train)\n",
    "predicted_0 = pd.Series(model.predict(features_0_valid), index=features_0_valid.index)\n",
    "model.fit(features_1_train, target_1_train)\n",
    "predicted_1 = pd.Series(model.predict(features_1_valid), index=features_1_valid.index)\n",
    "model.fit(features_2_train, target_2_train)\n",
    "predicted_2 = pd.Series(model.predict(features_2_valid), index=features_2_valid.index)"
   ]
  },
  {
   "cell_type": "code",
   "execution_count": 12,
   "metadata": {},
   "outputs": [],
   "source": [
    "rmse_0 = mean_squared_error(target_0_valid, predicted_0) ** 0.5\n",
    "rmse_1 = mean_squared_error(target_1_valid, predicted_1) ** 0.5\n",
    "rmse_2 = mean_squared_error(target_2_valid, predicted_2) ** 0.5"
   ]
  },
  {
   "cell_type": "markdown",
   "metadata": {},
   "source": [
    "Сравним основные параметры по регионам."
   ]
  },
  {
   "cell_type": "markdown",
   "metadata": {},
   "source": [
    "Регион 0"
   ]
  },
  {
   "cell_type": "code",
   "execution_count": 13,
   "metadata": {},
   "outputs": [
    {
     "name": "stdout",
     "output_type": "stream",
     "text": [
      "Средний запас сырья по предсказаниям: 92.65108756805346\n",
      "средний запас сырья по правильным ответам: 92.40208190394397\n",
      "RMSE модели: 37.65053057971891\n"
     ]
    }
   ],
   "source": [
    "print(f'Средний запас сырья по предсказаниям: {predicted_0.mean()}')\n",
    "print(f'средний запас сырья по правильным ответам: {target_0_valid.mean()}')\n",
    "print(f'RMSE модели: {rmse_0}')"
   ]
  },
  {
   "cell_type": "markdown",
   "metadata": {},
   "source": [
    "Регион 1"
   ]
  },
  {
   "cell_type": "code",
   "execution_count": 14,
   "metadata": {},
   "outputs": [
    {
     "name": "stdout",
     "output_type": "stream",
     "text": [
      "Средний запас сырья по предсказаниям: 69.27401526922849\n",
      "средний запас сырья по правильным ответам: 69.27618376748285\n",
      "RMSE модели: 0.8892646983510678\n"
     ]
    }
   ],
   "source": [
    "print(f'Средний запас сырья по предсказаниям: {predicted_1.mean()}')\n",
    "print(f'средний запас сырья по правильным ответам: {target_1_valid.mean()}')\n",
    "print(f'RMSE модели: {rmse_1}')"
   ]
  },
  {
   "cell_type": "markdown",
   "metadata": {},
   "source": [
    "Регион 2"
   ]
  },
  {
   "cell_type": "code",
   "execution_count": 15,
   "metadata": {
    "scrolled": true
   },
   "outputs": [
    {
     "name": "stdout",
     "output_type": "stream",
     "text": [
      "Средний запас сырья по предсказаниям: 94.90290511535086\n",
      "средний запас сырья по правильным ответам: 95.02246484619852\n",
      "RMSE модели: 40.08029177014584\n"
     ]
    }
   ],
   "source": [
    "print(f'Средний запас сырья по предсказаниям: {predicted_2.mean()}')\n",
    "print(f'средний запас сырья по правильным ответам: {target_2_valid.mean()}')\n",
    "print(f'RMSE модели: {rmse_2}')"
   ]
  },
  {
   "cell_type": "markdown",
   "metadata": {},
   "source": [
    "Результаты работы модели на выборке региона 1 значительно отличаются от двух других. Модель в этом случае случае получила достаточно точные значения, RMSE меньше единицы.\n",
    "\n",
    "В выборках регионов 0 и 2 RMSE отличается не очень сильно. Предсказания в этих выборках не так точны."
   ]
  },
  {
   "cell_type": "markdown",
   "metadata": {},
   "source": [
    "## Подготовка к расчёту прибыли"
   ]
  },
  {
   "cell_type": "markdown",
   "metadata": {},
   "source": [
    "Создадим переменные для основных данных в расчетах."
   ]
  },
  {
   "cell_type": "code",
   "execution_count": 16,
   "metadata": {},
   "outputs": [],
   "source": [
    "budget = 10000 # 10 млрд - 10 000 млн рублей\n",
    "income = 0.450 # 450 тысяч с каждой тысячи баррелей, т.е. с единицы продукта, 0.45 млн. рублей\n",
    "wells = 200 # 200 скважин должно быть в разработке\n",
    "budget_well = budget / wells # тыс. рублей на разработку одной скважины"
   ]
  },
  {
   "cell_type": "markdown",
   "metadata": {},
   "source": [
    "посчитаем количество сырья для безубыточной разработки скважины."
   ]
  },
  {
   "cell_type": "code",
   "execution_count": 17,
   "metadata": {},
   "outputs": [
    {
     "data": {
      "text/plain": [
       "111.11111111111111"
      ]
     },
     "execution_count": 17,
     "metadata": {},
     "output_type": "execute_result"
    }
   ],
   "source": [
    "budget_well / income"
   ]
  },
  {
   "cell_type": "markdown",
   "metadata": {},
   "source": [
    "Для безубыточной разработки объем сырья в скважине должен превышать 111 единиц. Это выше среднего для всех трех регионов."
   ]
  },
  {
   "cell_type": "markdown",
   "metadata": {},
   "source": [
    "## Расчёт прибыли и рисков "
   ]
  },
  {
   "cell_type": "markdown",
   "metadata": {},
   "source": [
    "Напишем функцию для вычисления потенциальной прибыли региона по предсказаниям модели."
   ]
  },
  {
   "cell_type": "code",
   "execution_count": 29,
   "metadata": {},
   "outputs": [],
   "source": [
    "def income_region(predictions, target):\n",
    "    best_200_predictions = predictions.sort_values(ascending=False)[:200]\n",
    "    best_200_target = target[best_200_predictions.index]\n",
    "    total_income = best_200_target.sum() * income - budget\n",
    "    return total_income"
   ]
  },
  {
   "cell_type": "code",
   "execution_count": 19,
   "metadata": {},
   "outputs": [
    {
     "data": {
      "text/plain": [
       "'Максимальная прибыль в регионе 0: 3.28 млрд. рублей'"
      ]
     },
     "execution_count": 19,
     "metadata": {},
     "output_type": "execute_result"
    }
   ],
   "source": [
    "f'Максимальная прибыль в регионе 0: {income_region(predicted_0, target_0_valid) / 1000:.2f} млрд. рублей'"
   ]
  },
  {
   "cell_type": "code",
   "execution_count": 20,
   "metadata": {},
   "outputs": [
    {
     "data": {
      "text/plain": [
       "'Максимальная прибыль в регионе 1: 2.42 млрд. рублей'"
      ]
     },
     "execution_count": 20,
     "metadata": {},
     "output_type": "execute_result"
    }
   ],
   "source": [
    "f'Максимальная прибыль в регионе 1: {income_region(predicted_1, target_1_valid) / 1000:.2f} млрд. рублей'"
   ]
  },
  {
   "cell_type": "code",
   "execution_count": 21,
   "metadata": {},
   "outputs": [
    {
     "data": {
      "text/plain": [
       "'Максимальная прибыль в регионе 2: 2.46 млрд. рублей'"
      ]
     },
     "execution_count": 21,
     "metadata": {},
     "output_type": "execute_result"
    }
   ],
   "source": [
    "f'Максимальная прибыль в регионе 2: {income_region(predicted_2, target_2_valid) / 1000:.2f} млрд. рублей'"
   ]
  },
  {
   "cell_type": "markdown",
   "metadata": {},
   "source": [
    "Прибыль от разработки скважин во всех регионах положительная. Наибольшая в регионе \"0\"."
   ]
  },
  {
   "cell_type": "markdown",
   "metadata": {},
   "source": [
    "Применим технику Bootstrap, чтобы найти распределение прибыли."
   ]
  },
  {
   "cell_type": "code",
   "execution_count": 22,
   "metadata": {},
   "outputs": [],
   "source": [
    "incomes_0 = []\n",
    "incomes_1 = []\n",
    "incomes_2 = []\n",
    "\n",
    "for i in range(1000):\n",
    "    predicted_0_bs = predicted_0.sample(n=500, replace=True, random_state=state)\n",
    "    incomes_0.append(income_region(predicted_0_bs, target_0_valid))\n",
    "    predicted_1_bs = predicted_1.sample(n=500, replace=True, random_state=state)\n",
    "    incomes_1.append(income_region(predicted_1_bs, target_1_valid))\n",
    "    predicted_2_bs = predicted_2.sample(n=500, replace=True, random_state=state)\n",
    "    incomes_2.append(income_region(predicted_2_bs, target_2_valid))\n",
    "\n",
    "incomes_0 = pd.Series(incomes_0)\n",
    "incomes_1 = pd.Series(incomes_1)\n",
    "incomes_2 = pd.Series(incomes_2)"
   ]
  },
  {
   "cell_type": "markdown",
   "metadata": {},
   "source": [
    "Для каждого региона посмотрим на среднюю прибыль, 95%-ый доверительный интервал и риск убытков."
   ]
  },
  {
   "cell_type": "code",
   "execution_count": 31,
   "metadata": {},
   "outputs": [
    {
     "name": "stdout",
     "output_type": "stream",
     "text": [
      "Регион \"0\"\n",
      "Среднее значение прибыли: 362.46 млн. рублей\n",
      "95%-ый доверительный интервал: -125.42155515649911 - 841.2677197792207 млн. рублей\n",
      "Риск убытков: 0.077\n"
     ]
    }
   ],
   "source": [
    "confidence_interval = st.t.interval(alpha=0.95, df=999, loc=incomes_0.mean(), scale=incomes_0.sem())\n",
    "print('Регион \"0\"')\n",
    "print(f'Среднее значение прибыли: {incomes_0.mean():.2f} млн. рублей')\n",
    "print(f'95%-ый доверительный интервал: {incomes_0.quantile(0.025)} - {incomes_0.quantile(0.975)} млн. рублей')\n",
    "print(f'Риск убытков: {np.mean(incomes_0 < 0)}')"
   ]
  },
  {
   "cell_type": "code",
   "execution_count": 33,
   "metadata": {},
   "outputs": [
    {
     "name": "stdout",
     "output_type": "stream",
     "text": [
      "Регион \"1\"\n",
      "Среднее значение прибыли: 502.25 млн. рублей\n",
      "95%-ый доверительный интервал: 120.90027580857527 - 896.4964302813606 млн. рублей\n",
      "Риск убытков: 0.006\n"
     ]
    }
   ],
   "source": [
    "confidence_interval = st.t.interval(alpha=0.95, df=999, loc=incomes_1.mean(), scale=incomes_1.sem())\n",
    "print('Регион \"1\"')\n",
    "print(f'Среднее значение прибыли: {incomes_1.mean():.2f} млн. рублей')\n",
    "print(f'95%-ый доверительный интервал: {incomes_1.quantile(0.025)} - {incomes_1.quantile(0.975)} млн. рублей')\n",
    "print(f'Риск убытков: {np.mean(incomes_1 < 0)}')"
   ]
  },
  {
   "cell_type": "code",
   "execution_count": 34,
   "metadata": {},
   "outputs": [
    {
     "name": "stdout",
     "output_type": "stream",
     "text": [
      "Регион \"2\"\n",
      "Среднее значение прибыли: 344.24 млн. рублей\n",
      "95%-ый доверительный интервал: -203.00870210689502 - 843.9809036403182 млн. рублей\n",
      "Риск убытков: 0.103\n"
     ]
    }
   ],
   "source": [
    "confidence_interval = st.t.interval(alpha=0.95, df=999, loc=incomes_2.mean(), scale=incomes_2.sem())\n",
    "print('Регион \"2\"')\n",
    "print(f'Среднее значение прибыли: {incomes_2.mean():.2f} млн. рублей')\n",
    "print(f'95%-ый доверительный интервал: {incomes_2.quantile(0.025)} - {incomes_2.quantile(0.975)} млн. рублей')\n",
    "print(f'Риск убытков: {np.mean(incomes_2 < 0)}')"
   ]
  },
  {
   "cell_type": "markdown",
   "metadata": {},
   "source": [
    "Наименьший риск убытков получен в регионе \"1\", там же нижняя граница доверительного интервала положительная в отличие от других регионов. Средняя прибыль также выше.\n",
    "\n",
    "Таким образом, регион \"1\" является наилучшим для разработки."
   ]
  },
  {
   "cell_type": "code",
   "execution_count": null,
   "metadata": {},
   "outputs": [],
   "source": []
  }
 ],
 "metadata": {
  "ExecuteTimeLog": [
   {
    "duration": 612,
    "start_time": "2022-03-13T07:29:56.174Z"
   },
   {
    "duration": 139,
    "start_time": "2022-03-13T07:30:32.404Z"
   },
   {
    "duration": 18,
    "start_time": "2022-03-13T07:30:40.820Z"
   },
   {
    "duration": 13,
    "start_time": "2022-03-13T07:30:49.050Z"
   },
   {
    "duration": 387,
    "start_time": "2022-03-13T07:31:05.164Z"
   },
   {
    "duration": 13,
    "start_time": "2022-03-13T07:31:07.453Z"
   },
   {
    "duration": 10,
    "start_time": "2022-03-13T07:31:19.493Z"
   },
   {
    "duration": 11,
    "start_time": "2022-03-13T07:41:21.961Z"
   },
   {
    "duration": 9,
    "start_time": "2022-03-13T07:42:00.617Z"
   },
   {
    "duration": 11,
    "start_time": "2022-03-13T07:42:41.411Z"
   },
   {
    "duration": 9,
    "start_time": "2022-03-13T07:42:49.967Z"
   },
   {
    "duration": 730,
    "start_time": "2022-03-14T15:45:29.913Z"
   },
   {
    "duration": 433,
    "start_time": "2022-03-14T15:45:30.645Z"
   },
   {
    "duration": 12,
    "start_time": "2022-03-14T15:45:31.080Z"
   },
   {
    "duration": 31,
    "start_time": "2022-03-14T15:45:31.094Z"
   },
   {
    "duration": 33,
    "start_time": "2022-03-14T15:45:31.127Z"
   },
   {
    "duration": 23,
    "start_time": "2022-03-14T15:45:31.162Z"
   },
   {
    "duration": 41,
    "start_time": "2022-03-14T15:45:31.187Z"
   },
   {
    "duration": 22,
    "start_time": "2022-03-14T15:45:31.230Z"
   },
   {
    "duration": 5,
    "start_time": "2022-03-14T15:47:26.280Z"
   },
   {
    "duration": 5,
    "start_time": "2022-03-14T15:47:31.876Z"
   },
   {
    "duration": 533,
    "start_time": "2022-03-14T19:00:32.567Z"
   },
   {
    "duration": 335,
    "start_time": "2022-03-14T19:00:33.102Z"
   },
   {
    "duration": 15,
    "start_time": "2022-03-14T19:00:33.440Z"
   },
   {
    "duration": 18,
    "start_time": "2022-03-14T19:00:33.458Z"
   },
   {
    "duration": 10,
    "start_time": "2022-03-14T19:00:33.477Z"
   },
   {
    "duration": 7,
    "start_time": "2022-03-14T19:00:33.488Z"
   },
   {
    "duration": 36,
    "start_time": "2022-03-14T19:00:33.497Z"
   },
   {
    "duration": 8,
    "start_time": "2022-03-14T19:00:33.535Z"
   },
   {
    "duration": 10,
    "start_time": "2022-03-14T19:02:07.063Z"
   },
   {
    "duration": 446,
    "start_time": "2022-03-14T19:05:38.980Z"
   },
   {
    "duration": 337,
    "start_time": "2022-03-14T19:07:23.602Z"
   },
   {
    "duration": 37,
    "start_time": "2022-03-14T19:07:34.870Z"
   },
   {
    "duration": 28,
    "start_time": "2022-03-14T19:09:44.447Z"
   },
   {
    "duration": 682,
    "start_time": "2022-03-14T19:10:11.168Z"
   },
   {
    "duration": 3,
    "start_time": "2022-03-14T19:10:19.787Z"
   },
   {
    "duration": 14,
    "start_time": "2022-03-14T19:12:58.630Z"
   },
   {
    "duration": 1048,
    "start_time": "2022-03-14T19:13:51.786Z"
   },
   {
    "duration": 342,
    "start_time": "2022-03-14T19:13:52.835Z"
   },
   {
    "duration": 10,
    "start_time": "2022-03-14T19:13:53.179Z"
   },
   {
    "duration": 13,
    "start_time": "2022-03-14T19:13:53.191Z"
   },
   {
    "duration": 11,
    "start_time": "2022-03-14T19:13:53.206Z"
   },
   {
    "duration": 9,
    "start_time": "2022-03-14T19:13:53.233Z"
   },
   {
    "duration": 12,
    "start_time": "2022-03-14T19:13:53.243Z"
   },
   {
    "duration": 8,
    "start_time": "2022-03-14T19:13:53.257Z"
   },
   {
    "duration": 9,
    "start_time": "2022-03-14T19:13:53.267Z"
   },
   {
    "duration": 64,
    "start_time": "2022-03-14T19:13:53.278Z"
   },
   {
    "duration": 2,
    "start_time": "2022-03-14T19:13:53.344Z"
   },
   {
    "duration": 5,
    "start_time": "2022-03-14T19:13:53.347Z"
   },
   {
    "duration": 185,
    "start_time": "2022-03-14T19:14:58.649Z"
   },
   {
    "duration": 2,
    "start_time": "2022-03-14T19:15:41.565Z"
   },
   {
    "duration": 6,
    "start_time": "2022-03-14T19:17:00.204Z"
   },
   {
    "duration": 4,
    "start_time": "2022-03-14T19:18:43.419Z"
   },
   {
    "duration": 4,
    "start_time": "2022-03-14T19:19:34.732Z"
   },
   {
    "duration": 4,
    "start_time": "2022-03-14T19:19:37.978Z"
   },
   {
    "duration": 5,
    "start_time": "2022-03-14T19:19:41.458Z"
   },
   {
    "duration": 5,
    "start_time": "2022-03-14T19:19:53.526Z"
   },
   {
    "duration": 560,
    "start_time": "2022-03-14T19:20:06.204Z"
   },
   {
    "duration": 5,
    "start_time": "2022-03-14T19:20:13.587Z"
   },
   {
    "duration": 4,
    "start_time": "2022-03-14T19:20:23.470Z"
   },
   {
    "duration": 5,
    "start_time": "2022-03-14T19:20:27.354Z"
   },
   {
    "duration": 6,
    "start_time": "2022-03-14T19:20:58.764Z"
   },
   {
    "duration": 106,
    "start_time": "2022-03-14T19:21:21.633Z"
   },
   {
    "duration": 292,
    "start_time": "2022-03-14T19:21:25.797Z"
   },
   {
    "duration": 5,
    "start_time": "2022-03-14T19:21:33.661Z"
   },
   {
    "duration": 4,
    "start_time": "2022-03-14T19:21:38.399Z"
   },
   {
    "duration": 5,
    "start_time": "2022-03-14T19:21:48.577Z"
   },
   {
    "duration": 4,
    "start_time": "2022-03-14T19:21:59.808Z"
   },
   {
    "duration": 4,
    "start_time": "2022-03-14T19:22:14.609Z"
   },
   {
    "duration": 5,
    "start_time": "2022-03-14T19:22:25.710Z"
   },
   {
    "duration": 5,
    "start_time": "2022-03-14T19:22:32.172Z"
   },
   {
    "duration": 4,
    "start_time": "2022-03-14T19:25:39.863Z"
   },
   {
    "duration": 5,
    "start_time": "2022-03-14T19:25:48.319Z"
   },
   {
    "duration": 1011,
    "start_time": "2022-03-14T19:26:38.640Z"
   },
   {
    "duration": 361,
    "start_time": "2022-03-14T19:26:39.653Z"
   },
   {
    "duration": 22,
    "start_time": "2022-03-14T19:26:40.017Z"
   },
   {
    "duration": 16,
    "start_time": "2022-03-14T19:26:40.042Z"
   },
   {
    "duration": 10,
    "start_time": "2022-03-14T19:26:40.060Z"
   },
   {
    "duration": 8,
    "start_time": "2022-03-14T19:26:40.072Z"
   },
   {
    "duration": 12,
    "start_time": "2022-03-14T19:26:40.081Z"
   },
   {
    "duration": 39,
    "start_time": "2022-03-14T19:26:40.095Z"
   },
   {
    "duration": 12,
    "start_time": "2022-03-14T19:26:40.135Z"
   },
   {
    "duration": 38,
    "start_time": "2022-03-14T19:26:40.148Z"
   },
   {
    "duration": 2,
    "start_time": "2022-03-14T19:26:40.188Z"
   },
   {
    "duration": 142,
    "start_time": "2022-03-14T19:26:40.192Z"
   },
   {
    "duration": 7,
    "start_time": "2022-03-14T19:26:40.336Z"
   },
   {
    "duration": 5,
    "start_time": "2022-03-14T19:26:40.434Z"
   },
   {
    "duration": 94,
    "start_time": "2022-03-14T19:26:40.441Z"
   },
   {
    "duration": 9,
    "start_time": "2022-03-14T19:26:40.536Z"
   },
   {
    "duration": 1031,
    "start_time": "2022-03-16T10:14:40.455Z"
   },
   {
    "duration": 359,
    "start_time": "2022-03-16T10:14:41.488Z"
   },
   {
    "duration": 16,
    "start_time": "2022-03-16T10:14:41.849Z"
   },
   {
    "duration": 15,
    "start_time": "2022-03-16T10:14:41.867Z"
   },
   {
    "duration": 15,
    "start_time": "2022-03-16T10:14:41.883Z"
   },
   {
    "duration": 9,
    "start_time": "2022-03-16T10:14:41.899Z"
   },
   {
    "duration": 15,
    "start_time": "2022-03-16T10:14:41.910Z"
   },
   {
    "duration": 37,
    "start_time": "2022-03-16T10:14:41.927Z"
   },
   {
    "duration": 15,
    "start_time": "2022-03-16T10:14:41.966Z"
   },
   {
    "duration": 42,
    "start_time": "2022-03-16T10:14:41.982Z"
   },
   {
    "duration": 2,
    "start_time": "2022-03-16T10:14:42.026Z"
   },
   {
    "duration": 134,
    "start_time": "2022-03-16T10:14:42.030Z"
   },
   {
    "duration": 96,
    "start_time": "2022-03-16T10:14:42.167Z"
   },
   {
    "duration": 100,
    "start_time": "2022-03-16T10:14:42.266Z"
   },
   {
    "duration": 6,
    "start_time": "2022-03-16T10:14:42.367Z"
   },
   {
    "duration": 9,
    "start_time": "2022-03-16T10:14:42.375Z"
   },
   {
    "duration": 1033,
    "start_time": "2022-03-16T10:14:54.156Z"
   },
   {
    "duration": 362,
    "start_time": "2022-03-16T10:14:55.191Z"
   },
   {
    "duration": 15,
    "start_time": "2022-03-16T10:14:55.555Z"
   },
   {
    "duration": 13,
    "start_time": "2022-03-16T10:14:55.572Z"
   },
   {
    "duration": 12,
    "start_time": "2022-03-16T10:14:55.587Z"
   },
   {
    "duration": 8,
    "start_time": "2022-03-16T10:14:55.600Z"
   },
   {
    "duration": 13,
    "start_time": "2022-03-16T10:14:55.609Z"
   },
   {
    "duration": 7,
    "start_time": "2022-03-16T10:14:55.625Z"
   },
   {
    "duration": 36,
    "start_time": "2022-03-16T10:14:55.634Z"
   },
   {
    "duration": 38,
    "start_time": "2022-03-16T10:14:55.672Z"
   },
   {
    "duration": 26,
    "start_time": "2022-03-16T10:14:55.712Z"
   },
   {
    "duration": 224,
    "start_time": "2022-03-16T10:14:55.740Z"
   },
   {
    "duration": 96,
    "start_time": "2022-03-16T10:14:55.967Z"
   },
   {
    "duration": 5,
    "start_time": "2022-03-16T10:14:56.065Z"
   },
   {
    "duration": 11,
    "start_time": "2022-03-16T10:14:56.071Z"
   },
   {
    "duration": 7,
    "start_time": "2022-03-16T10:14:56.084Z"
   },
   {
    "duration": 1042,
    "start_time": "2022-03-16T10:15:12.053Z"
   },
   {
    "duration": 353,
    "start_time": "2022-03-16T10:15:13.097Z"
   },
   {
    "duration": 15,
    "start_time": "2022-03-16T10:15:13.454Z"
   },
   {
    "duration": 16,
    "start_time": "2022-03-16T10:15:13.471Z"
   },
   {
    "duration": 11,
    "start_time": "2022-03-16T10:15:13.488Z"
   },
   {
    "duration": 8,
    "start_time": "2022-03-16T10:15:13.501Z"
   },
   {
    "duration": 13,
    "start_time": "2022-03-16T10:15:13.511Z"
   },
   {
    "duration": 8,
    "start_time": "2022-03-16T10:15:13.525Z"
   },
   {
    "duration": 10,
    "start_time": "2022-03-16T10:15:13.562Z"
   },
   {
    "duration": 43,
    "start_time": "2022-03-16T10:15:13.574Z"
   },
   {
    "duration": 146,
    "start_time": "2022-03-16T10:15:13.619Z"
   },
   {
    "duration": 101,
    "start_time": "2022-03-16T10:15:13.766Z"
   },
   {
    "duration": 95,
    "start_time": "2022-03-16T10:15:13.869Z"
   },
   {
    "duration": 9,
    "start_time": "2022-03-16T10:15:13.966Z"
   },
   {
    "duration": 12,
    "start_time": "2022-03-16T10:15:13.977Z"
   },
   {
    "duration": 291,
    "start_time": "2022-03-16T10:20:59.603Z"
   },
   {
    "duration": 3,
    "start_time": "2022-03-16T10:21:05.372Z"
   },
   {
    "duration": 3,
    "start_time": "2022-03-16T10:21:15.269Z"
   },
   {
    "duration": 4,
    "start_time": "2022-03-16T10:22:06.856Z"
   },
   {
    "duration": 4,
    "start_time": "2022-03-16T10:49:08.356Z"
   },
   {
    "duration": 175,
    "start_time": "2022-03-16T10:49:21.957Z"
   },
   {
    "duration": 167,
    "start_time": "2022-03-16T10:49:32.911Z"
   },
   {
    "duration": 4,
    "start_time": "2022-03-16T10:49:43.885Z"
   },
   {
    "duration": 4,
    "start_time": "2022-03-16T10:49:52.577Z"
   },
   {
    "duration": 238,
    "start_time": "2022-03-16T10:50:04.142Z"
   },
   {
    "duration": 210,
    "start_time": "2022-03-16T10:50:25.394Z"
   },
   {
    "duration": 4,
    "start_time": "2022-03-16T10:51:20.532Z"
   },
   {
    "duration": 181,
    "start_time": "2022-03-16T10:51:23.494Z"
   },
   {
    "duration": 4,
    "start_time": "2022-03-16T10:52:07.684Z"
   },
   {
    "duration": 5,
    "start_time": "2022-03-16T10:52:20.358Z"
   },
   {
    "duration": 7,
    "start_time": "2022-03-16T10:53:51.944Z"
   },
   {
    "duration": 3,
    "start_time": "2022-03-16T10:55:04.680Z"
   },
   {
    "duration": 4,
    "start_time": "2022-03-16T10:55:16.837Z"
   },
   {
    "duration": 3,
    "start_time": "2022-03-16T10:55:39.872Z"
   },
   {
    "duration": 4,
    "start_time": "2022-03-16T10:55:40.370Z"
   },
   {
    "duration": 187,
    "start_time": "2022-03-16T10:58:00.841Z"
   },
   {
    "duration": 6,
    "start_time": "2022-03-16T10:58:08.960Z"
   },
   {
    "duration": 223,
    "start_time": "2022-03-16T10:58:19.959Z"
   },
   {
    "duration": 183,
    "start_time": "2022-03-16T10:58:28.217Z"
   },
   {
    "duration": 2,
    "start_time": "2022-03-16T10:58:33.349Z"
   },
   {
    "duration": 185,
    "start_time": "2022-03-16T10:58:41.058Z"
   },
   {
    "duration": 3,
    "start_time": "2022-03-16T10:58:47.007Z"
   },
   {
    "duration": 4,
    "start_time": "2022-03-16T10:58:52.893Z"
   },
   {
    "duration": 973,
    "start_time": "2022-03-16T10:59:04.512Z"
   },
   {
    "duration": 356,
    "start_time": "2022-03-16T10:59:05.487Z"
   },
   {
    "duration": 20,
    "start_time": "2022-03-16T10:59:05.845Z"
   },
   {
    "duration": 15,
    "start_time": "2022-03-16T10:59:05.867Z"
   },
   {
    "duration": 20,
    "start_time": "2022-03-16T10:59:05.883Z"
   },
   {
    "duration": 11,
    "start_time": "2022-03-16T10:59:05.904Z"
   },
   {
    "duration": 35,
    "start_time": "2022-03-16T10:59:05.916Z"
   },
   {
    "duration": 17,
    "start_time": "2022-03-16T10:59:05.953Z"
   },
   {
    "duration": 12,
    "start_time": "2022-03-16T10:59:05.971Z"
   },
   {
    "duration": 49,
    "start_time": "2022-03-16T10:59:05.985Z"
   },
   {
    "duration": 131,
    "start_time": "2022-03-16T10:59:06.036Z"
   },
   {
    "duration": 97,
    "start_time": "2022-03-16T10:59:06.169Z"
   },
   {
    "duration": 98,
    "start_time": "2022-03-16T10:59:06.268Z"
   },
   {
    "duration": 26,
    "start_time": "2022-03-16T10:59:06.368Z"
   },
   {
    "duration": 12,
    "start_time": "2022-03-16T10:59:06.396Z"
   },
   {
    "duration": 11,
    "start_time": "2022-03-16T10:59:06.409Z"
   },
   {
    "duration": 15,
    "start_time": "2022-03-16T10:59:06.422Z"
   },
   {
    "duration": 14,
    "start_time": "2022-03-16T10:59:06.438Z"
   },
   {
    "duration": 14,
    "start_time": "2022-03-16T10:59:06.453Z"
   },
   {
    "duration": 18,
    "start_time": "2022-03-16T10:59:06.468Z"
   },
   {
    "duration": 278,
    "start_time": "2022-03-16T10:59:13.926Z"
   },
   {
    "duration": 4,
    "start_time": "2022-03-16T10:59:20.097Z"
   },
   {
    "duration": 6,
    "start_time": "2022-03-16T11:05:42.874Z"
   },
   {
    "duration": 255,
    "start_time": "2022-03-16T11:06:32.067Z"
   },
   {
    "duration": 116,
    "start_time": "2022-03-16T11:06:37.662Z"
   },
   {
    "duration": 978,
    "start_time": "2022-03-16T11:06:43.004Z"
   },
   {
    "duration": 402,
    "start_time": "2022-03-16T11:06:43.984Z"
   },
   {
    "duration": 11,
    "start_time": "2022-03-16T11:06:44.388Z"
   },
   {
    "duration": 21,
    "start_time": "2022-03-16T11:06:44.401Z"
   },
   {
    "duration": 24,
    "start_time": "2022-03-16T11:06:44.424Z"
   },
   {
    "duration": 15,
    "start_time": "2022-03-16T11:06:44.449Z"
   },
   {
    "duration": 31,
    "start_time": "2022-03-16T11:06:44.466Z"
   },
   {
    "duration": 27,
    "start_time": "2022-03-16T11:06:44.499Z"
   },
   {
    "duration": 35,
    "start_time": "2022-03-16T11:06:44.528Z"
   },
   {
    "duration": 66,
    "start_time": "2022-03-16T11:06:44.565Z"
   },
   {
    "duration": 136,
    "start_time": "2022-03-16T11:06:44.633Z"
   },
   {
    "duration": 196,
    "start_time": "2022-03-16T11:06:44.772Z"
   },
   {
    "duration": 12,
    "start_time": "2022-03-16T11:06:44.970Z"
   },
   {
    "duration": 16,
    "start_time": "2022-03-16T11:06:44.984Z"
   },
   {
    "duration": 27,
    "start_time": "2022-03-16T11:06:45.002Z"
   },
   {
    "duration": 16,
    "start_time": "2022-03-16T11:06:45.031Z"
   },
   {
    "duration": 10,
    "start_time": "2022-03-16T11:06:45.049Z"
   },
   {
    "duration": 27,
    "start_time": "2022-03-16T11:06:45.061Z"
   },
   {
    "duration": 29,
    "start_time": "2022-03-16T11:06:45.090Z"
   },
   {
    "duration": 13,
    "start_time": "2022-03-16T11:06:45.121Z"
   },
   {
    "duration": 20,
    "start_time": "2022-03-16T11:06:45.135Z"
   },
   {
    "duration": 1023,
    "start_time": "2022-03-16T11:07:05.460Z"
   },
   {
    "duration": 356,
    "start_time": "2022-03-16T11:07:06.485Z"
   },
   {
    "duration": 10,
    "start_time": "2022-03-16T11:07:06.844Z"
   },
   {
    "duration": 18,
    "start_time": "2022-03-16T11:07:06.862Z"
   },
   {
    "duration": 26,
    "start_time": "2022-03-16T11:07:06.881Z"
   },
   {
    "duration": 20,
    "start_time": "2022-03-16T11:07:06.909Z"
   },
   {
    "duration": 25,
    "start_time": "2022-03-16T11:07:06.931Z"
   },
   {
    "duration": 37,
    "start_time": "2022-03-16T11:07:06.959Z"
   },
   {
    "duration": 17,
    "start_time": "2022-03-16T11:07:06.999Z"
   },
   {
    "duration": 50,
    "start_time": "2022-03-16T11:07:07.017Z"
   },
   {
    "duration": 199,
    "start_time": "2022-03-16T11:07:07.069Z"
   },
   {
    "duration": 97,
    "start_time": "2022-03-16T11:07:07.271Z"
   },
   {
    "duration": 95,
    "start_time": "2022-03-16T11:07:07.371Z"
   },
   {
    "duration": 8,
    "start_time": "2022-03-16T11:07:07.468Z"
   },
   {
    "duration": 8,
    "start_time": "2022-03-16T11:07:07.478Z"
   },
   {
    "duration": 4,
    "start_time": "2022-03-16T11:07:07.488Z"
   },
   {
    "duration": 9,
    "start_time": "2022-03-16T11:07:07.494Z"
   },
   {
    "duration": 8,
    "start_time": "2022-03-16T11:07:07.504Z"
   },
   {
    "duration": 7,
    "start_time": "2022-03-16T11:07:07.513Z"
   },
   {
    "duration": 11,
    "start_time": "2022-03-16T11:07:07.522Z"
   },
   {
    "duration": 7,
    "start_time": "2022-03-16T11:07:07.534Z"
   },
   {
    "duration": 11,
    "start_time": "2022-03-16T11:07:15.202Z"
   },
   {
    "duration": 10,
    "start_time": "2022-03-16T11:07:23.950Z"
   },
   {
    "duration": 3050,
    "start_time": "2022-03-16T11:07:28.008Z"
   },
   {
    "duration": 9,
    "start_time": "2022-03-16T11:07:42.481Z"
   },
   {
    "duration": 7,
    "start_time": "2022-03-16T11:07:59.089Z"
   },
   {
    "duration": 171,
    "start_time": "2022-03-16T11:08:10.945Z"
   },
   {
    "duration": 7,
    "start_time": "2022-03-16T11:08:15.429Z"
   },
   {
    "duration": 7,
    "start_time": "2022-03-16T11:08:16.438Z"
   },
   {
    "duration": 3,
    "start_time": "2022-03-16T11:10:05.180Z"
   },
   {
    "duration": 394,
    "start_time": "2022-03-16T11:10:12.441Z"
   },
   {
    "duration": 3,
    "start_time": "2022-03-16T11:10:21.324Z"
   },
   {
    "duration": 12,
    "start_time": "2022-03-16T11:10:22.058Z"
   },
   {
    "duration": 1019,
    "start_time": "2022-03-16T11:14:25.084Z"
   },
   {
    "duration": 358,
    "start_time": "2022-03-16T11:14:26.105Z"
   },
   {
    "duration": 11,
    "start_time": "2022-03-16T11:14:26.465Z"
   },
   {
    "duration": 14,
    "start_time": "2022-03-16T11:14:26.478Z"
   },
   {
    "duration": 13,
    "start_time": "2022-03-16T11:14:26.493Z"
   },
   {
    "duration": 8,
    "start_time": "2022-03-16T11:14:26.507Z"
   },
   {
    "duration": 20,
    "start_time": "2022-03-16T11:14:26.516Z"
   },
   {
    "duration": 25,
    "start_time": "2022-03-16T11:14:26.539Z"
   },
   {
    "duration": 11,
    "start_time": "2022-03-16T11:14:26.565Z"
   },
   {
    "duration": 38,
    "start_time": "2022-03-16T11:14:26.577Z"
   },
   {
    "duration": 148,
    "start_time": "2022-03-16T11:14:26.617Z"
   },
   {
    "duration": 96,
    "start_time": "2022-03-16T11:14:26.767Z"
   },
   {
    "duration": 11,
    "start_time": "2022-03-16T11:14:26.865Z"
   },
   {
    "duration": 6,
    "start_time": "2022-03-16T11:14:26.964Z"
   },
   {
    "duration": 6,
    "start_time": "2022-03-16T11:14:26.972Z"
   },
   {
    "duration": 4,
    "start_time": "2022-03-16T11:14:26.980Z"
   },
   {
    "duration": 6,
    "start_time": "2022-03-16T11:14:26.986Z"
   },
   {
    "duration": 5,
    "start_time": "2022-03-16T11:14:26.994Z"
   },
   {
    "duration": 13,
    "start_time": "2022-03-16T11:14:27.001Z"
   },
   {
    "duration": 10,
    "start_time": "2022-03-16T11:14:34.580Z"
   },
   {
    "duration": 10,
    "start_time": "2022-03-16T11:14:39.928Z"
   },
   {
    "duration": 10,
    "start_time": "2022-03-16T11:14:46.362Z"
   },
   {
    "duration": 9,
    "start_time": "2022-03-16T11:17:47.366Z"
   },
   {
    "duration": 9,
    "start_time": "2022-03-16T11:17:51.336Z"
   },
   {
    "duration": 1065,
    "start_time": "2022-03-16T14:04:36.715Z"
   },
   {
    "duration": 362,
    "start_time": "2022-03-16T14:04:37.782Z"
   },
   {
    "duration": 12,
    "start_time": "2022-03-16T14:04:38.146Z"
   },
   {
    "duration": 16,
    "start_time": "2022-03-16T14:04:38.160Z"
   },
   {
    "duration": 13,
    "start_time": "2022-03-16T14:04:38.178Z"
   },
   {
    "duration": 10,
    "start_time": "2022-03-16T14:04:38.193Z"
   },
   {
    "duration": 34,
    "start_time": "2022-03-16T14:04:38.204Z"
   },
   {
    "duration": 9,
    "start_time": "2022-03-16T14:04:38.241Z"
   },
   {
    "duration": 17,
    "start_time": "2022-03-16T14:04:38.252Z"
   },
   {
    "duration": 40,
    "start_time": "2022-03-16T14:04:38.271Z"
   },
   {
    "duration": 229,
    "start_time": "2022-03-16T14:04:38.313Z"
   },
   {
    "duration": 95,
    "start_time": "2022-03-16T14:04:38.545Z"
   },
   {
    "duration": 107,
    "start_time": "2022-03-16T14:04:38.642Z"
   },
   {
    "duration": 6,
    "start_time": "2022-03-16T14:04:38.751Z"
   },
   {
    "duration": 8,
    "start_time": "2022-03-16T14:04:38.759Z"
   },
   {
    "duration": 4,
    "start_time": "2022-03-16T14:04:38.769Z"
   },
   {
    "duration": 11,
    "start_time": "2022-03-16T14:04:38.774Z"
   },
   {
    "duration": 7,
    "start_time": "2022-03-16T14:04:38.786Z"
   },
   {
    "duration": 14,
    "start_time": "2022-03-16T14:04:38.795Z"
   },
   {
    "duration": 10,
    "start_time": "2022-03-16T14:04:38.811Z"
   },
   {
    "duration": 11,
    "start_time": "2022-03-16T14:04:38.838Z"
   },
   {
    "duration": 5,
    "start_time": "2022-03-16T14:44:16.134Z"
   },
   {
    "duration": 3,
    "start_time": "2022-03-16T14:52:57.556Z"
   },
   {
    "duration": 5,
    "start_time": "2022-03-16T14:53:11.556Z"
   },
   {
    "duration": 4462,
    "start_time": "2022-03-16T14:54:28.264Z"
   },
   {
    "duration": 7,
    "start_time": "2022-03-16T14:54:37.942Z"
   },
   {
    "duration": 6,
    "start_time": "2022-03-16T14:54:48.888Z"
   },
   {
    "duration": 5,
    "start_time": "2022-03-16T14:55:07.035Z"
   },
   {
    "duration": 4,
    "start_time": "2022-03-16T14:55:12.735Z"
   },
   {
    "duration": 250,
    "start_time": "2022-03-16T14:56:00.415Z"
   },
   {
    "duration": 179,
    "start_time": "2022-03-16T14:56:10.695Z"
   },
   {
    "duration": 4,
    "start_time": "2022-03-16T14:57:16.494Z"
   },
   {
    "duration": 4406,
    "start_time": "2022-03-16T14:57:19.903Z"
   },
   {
    "duration": 175,
    "start_time": "2022-03-16T14:57:25.130Z"
   },
   {
    "duration": 4,
    "start_time": "2022-03-16T14:58:58.975Z"
   },
   {
    "duration": 5,
    "start_time": "2022-03-16T14:59:03.282Z"
   },
   {
    "duration": 3,
    "start_time": "2022-03-16T15:03:07.803Z"
   },
   {
    "duration": 4,
    "start_time": "2022-03-16T15:03:08.603Z"
   },
   {
    "duration": 4,
    "start_time": "2022-03-16T15:03:12.994Z"
   },
   {
    "duration": 10,
    "start_time": "2022-03-16T15:03:13.554Z"
   },
   {
    "duration": 11,
    "start_time": "2022-03-16T15:03:15.534Z"
   },
   {
    "duration": 10,
    "start_time": "2022-03-16T15:03:16.022Z"
   },
   {
    "duration": 10,
    "start_time": "2022-03-16T15:04:40.075Z"
   },
   {
    "duration": 11,
    "start_time": "2022-03-16T15:04:45.654Z"
   },
   {
    "duration": 10,
    "start_time": "2022-03-16T15:04:46.614Z"
   },
   {
    "duration": 10,
    "start_time": "2022-03-16T15:04:58.542Z"
   },
   {
    "duration": 12,
    "start_time": "2022-03-16T15:05:20.015Z"
   },
   {
    "duration": 11,
    "start_time": "2022-03-16T15:05:22.774Z"
   },
   {
    "duration": 10,
    "start_time": "2022-03-16T15:05:36.903Z"
   },
   {
    "duration": 10,
    "start_time": "2022-03-16T15:05:40.582Z"
   },
   {
    "duration": 9,
    "start_time": "2022-03-16T15:05:46.454Z"
   },
   {
    "duration": 11,
    "start_time": "2022-03-16T15:05:51.822Z"
   },
   {
    "duration": 5,
    "start_time": "2022-03-16T15:06:09.771Z"
   },
   {
    "duration": 4570,
    "start_time": "2022-03-16T15:06:11.303Z"
   },
   {
    "duration": 5,
    "start_time": "2022-03-16T15:06:17.358Z"
   },
   {
    "duration": 4,
    "start_time": "2022-03-16T15:08:17.459Z"
   },
   {
    "duration": 9,
    "start_time": "2022-03-16T15:10:56.973Z"
   },
   {
    "duration": 6,
    "start_time": "2022-03-16T15:11:05.768Z"
   },
   {
    "duration": 246,
    "start_time": "2022-03-16T15:11:44.290Z"
   },
   {
    "duration": 4,
    "start_time": "2022-03-16T15:12:04.574Z"
   },
   {
    "duration": 4,
    "start_time": "2022-03-16T15:12:08.979Z"
   },
   {
    "duration": 8,
    "start_time": "2022-03-16T15:14:18.204Z"
   },
   {
    "duration": 7,
    "start_time": "2022-03-16T15:14:47.240Z"
   },
   {
    "duration": 8,
    "start_time": "2022-03-16T15:15:12.519Z"
   },
   {
    "duration": 7,
    "start_time": "2022-03-16T15:15:29.602Z"
   },
   {
    "duration": 1043,
    "start_time": "2022-03-16T15:16:42.517Z"
   },
   {
    "duration": 429,
    "start_time": "2022-03-16T15:16:43.562Z"
   },
   {
    "duration": 11,
    "start_time": "2022-03-16T15:16:43.993Z"
   },
   {
    "duration": 17,
    "start_time": "2022-03-16T15:16:44.006Z"
   },
   {
    "duration": 17,
    "start_time": "2022-03-16T15:16:44.025Z"
   },
   {
    "duration": 9,
    "start_time": "2022-03-16T15:16:44.044Z"
   },
   {
    "duration": 16,
    "start_time": "2022-03-16T15:16:44.055Z"
   },
   {
    "duration": 8,
    "start_time": "2022-03-16T15:16:44.074Z"
   },
   {
    "duration": 15,
    "start_time": "2022-03-16T15:16:44.084Z"
   },
   {
    "duration": 63,
    "start_time": "2022-03-16T15:16:44.101Z"
   },
   {
    "duration": 181,
    "start_time": "2022-03-16T15:16:44.166Z"
   },
   {
    "duration": 6,
    "start_time": "2022-03-16T15:16:44.439Z"
   },
   {
    "duration": 104,
    "start_time": "2022-03-16T15:16:44.448Z"
   },
   {
    "duration": 7,
    "start_time": "2022-03-16T15:16:44.554Z"
   },
   {
    "duration": 11,
    "start_time": "2022-03-16T15:16:44.563Z"
   },
   {
    "duration": 14,
    "start_time": "2022-03-16T15:16:44.576Z"
   },
   {
    "duration": 19,
    "start_time": "2022-03-16T15:16:44.592Z"
   },
   {
    "duration": 22,
    "start_time": "2022-03-16T15:16:44.613Z"
   },
   {
    "duration": 28,
    "start_time": "2022-03-16T15:16:44.637Z"
   },
   {
    "duration": 15,
    "start_time": "2022-03-16T15:16:44.667Z"
   },
   {
    "duration": 13,
    "start_time": "2022-03-16T15:16:44.684Z"
   },
   {
    "duration": 4456,
    "start_time": "2022-03-16T15:16:44.699Z"
   },
   {
    "duration": 7,
    "start_time": "2022-03-16T15:16:49.158Z"
   },
   {
    "duration": 14,
    "start_time": "2022-03-16T15:16:49.166Z"
   },
   {
    "duration": 13,
    "start_time": "2022-03-16T15:16:49.182Z"
   },
   {
    "duration": 6,
    "start_time": "2022-03-16T15:17:48.653Z"
   },
   {
    "duration": 334,
    "start_time": "2022-03-16T15:19:18.737Z"
   },
   {
    "duration": 7,
    "start_time": "2022-03-16T15:19:23.388Z"
   },
   {
    "duration": 7,
    "start_time": "2022-03-16T15:19:29.317Z"
   },
   {
    "duration": 7,
    "start_time": "2022-03-16T15:19:36.230Z"
   },
   {
    "duration": 1120,
    "start_time": "2022-03-16T15:23:45.850Z"
   },
   {
    "duration": 357,
    "start_time": "2022-03-16T15:23:46.972Z"
   },
   {
    "duration": 16,
    "start_time": "2022-03-16T15:23:47.331Z"
   },
   {
    "duration": 14,
    "start_time": "2022-03-16T15:23:47.349Z"
   },
   {
    "duration": 13,
    "start_time": "2022-03-16T15:23:47.365Z"
   },
   {
    "duration": 9,
    "start_time": "2022-03-16T15:23:47.379Z"
   },
   {
    "duration": 12,
    "start_time": "2022-03-16T15:23:47.389Z"
   },
   {
    "duration": 9,
    "start_time": "2022-03-16T15:23:47.439Z"
   },
   {
    "duration": 14,
    "start_time": "2022-03-16T15:23:47.450Z"
   },
   {
    "duration": 44,
    "start_time": "2022-03-16T15:23:47.466Z"
   },
   {
    "duration": 233,
    "start_time": "2022-03-16T15:23:47.511Z"
   },
   {
    "duration": 92,
    "start_time": "2022-03-16T15:23:47.746Z"
   },
   {
    "duration": 101,
    "start_time": "2022-03-16T15:23:47.840Z"
   },
   {
    "duration": 8,
    "start_time": "2022-03-16T15:23:47.942Z"
   },
   {
    "duration": 6,
    "start_time": "2022-03-16T15:23:47.952Z"
   },
   {
    "duration": 6,
    "start_time": "2022-03-16T15:23:47.960Z"
   },
   {
    "duration": 8,
    "start_time": "2022-03-16T15:23:47.968Z"
   },
   {
    "duration": 5,
    "start_time": "2022-03-16T15:23:47.978Z"
   },
   {
    "duration": 15,
    "start_time": "2022-03-16T15:23:47.984Z"
   },
   {
    "duration": 44,
    "start_time": "2022-03-16T15:23:48.000Z"
   },
   {
    "duration": 9,
    "start_time": "2022-03-16T15:23:48.046Z"
   },
   {
    "duration": 4452,
    "start_time": "2022-03-16T15:23:48.057Z"
   },
   {
    "duration": 8,
    "start_time": "2022-03-16T15:23:52.513Z"
   },
   {
    "duration": 16,
    "start_time": "2022-03-16T15:23:52.522Z"
   },
   {
    "duration": 12,
    "start_time": "2022-03-16T15:23:52.539Z"
   },
   {
    "duration": 4772,
    "start_time": "2022-03-17T15:51:34.694Z"
   },
   {
    "duration": 443,
    "start_time": "2022-03-17T15:51:39.467Z"
   },
   {
    "duration": 18,
    "start_time": "2022-03-17T15:51:39.912Z"
   },
   {
    "duration": 18,
    "start_time": "2022-03-17T15:51:39.937Z"
   },
   {
    "duration": 21,
    "start_time": "2022-03-17T15:51:39.958Z"
   },
   {
    "duration": 10,
    "start_time": "2022-03-17T15:51:39.981Z"
   },
   {
    "duration": 16,
    "start_time": "2022-03-17T15:51:39.993Z"
   },
   {
    "duration": 10,
    "start_time": "2022-03-17T15:51:40.038Z"
   },
   {
    "duration": 16,
    "start_time": "2022-03-17T15:51:40.050Z"
   },
   {
    "duration": 42,
    "start_time": "2022-03-17T15:51:40.067Z"
   },
   {
    "duration": 135,
    "start_time": "2022-03-17T15:51:40.111Z"
   },
   {
    "duration": 7,
    "start_time": "2022-03-17T15:51:40.248Z"
   },
   {
    "duration": 7,
    "start_time": "2022-03-17T15:51:40.338Z"
   },
   {
    "duration": 101,
    "start_time": "2022-03-17T15:51:40.349Z"
   },
   {
    "duration": 8,
    "start_time": "2022-03-17T15:51:40.452Z"
   },
   {
    "duration": 8,
    "start_time": "2022-03-17T15:51:40.461Z"
   },
   {
    "duration": 8,
    "start_time": "2022-03-17T15:51:40.470Z"
   },
   {
    "duration": 6,
    "start_time": "2022-03-17T15:51:40.480Z"
   },
   {
    "duration": 16,
    "start_time": "2022-03-17T15:51:40.488Z"
   },
   {
    "duration": 9,
    "start_time": "2022-03-17T15:51:40.506Z"
   },
   {
    "duration": 28,
    "start_time": "2022-03-17T15:51:40.517Z"
   },
   {
    "duration": 1982,
    "start_time": "2022-03-17T15:51:40.547Z"
   },
   {
    "duration": 12,
    "start_time": "2022-03-17T15:51:42.531Z"
   },
   {
    "duration": 9,
    "start_time": "2022-03-17T15:51:42.545Z"
   },
   {
    "duration": 13,
    "start_time": "2022-03-17T15:51:42.556Z"
   },
   {
    "duration": 7,
    "start_time": "2022-03-17T15:54:37.817Z"
   },
   {
    "duration": 6,
    "start_time": "2022-03-17T15:54:44.210Z"
   },
   {
    "duration": 5,
    "start_time": "2022-03-17T15:54:50.307Z"
   },
   {
    "duration": 11,
    "start_time": "2022-03-17T15:55:02.868Z"
   },
   {
    "duration": 4,
    "start_time": "2022-03-17T15:55:08.608Z"
   },
   {
    "duration": 10,
    "start_time": "2022-03-17T15:55:09.102Z"
   },
   {
    "duration": 9,
    "start_time": "2022-03-17T15:55:14.963Z"
   },
   {
    "duration": 13,
    "start_time": "2022-03-17T15:55:14.974Z"
   },
   {
    "duration": 1874,
    "start_time": "2022-03-17T15:55:18.030Z"
   },
   {
    "duration": 6,
    "start_time": "2022-03-17T15:55:19.906Z"
   },
   {
    "duration": 24,
    "start_time": "2022-03-17T15:55:19.914Z"
   },
   {
    "duration": 10,
    "start_time": "2022-03-17T15:55:19.940Z"
   },
   {
    "duration": 3,
    "start_time": "2022-03-17T15:55:36.635Z"
   },
   {
    "duration": 13,
    "start_time": "2022-03-17T15:55:36.796Z"
   },
   {
    "duration": 12,
    "start_time": "2022-03-17T15:55:36.968Z"
   },
   {
    "duration": 11,
    "start_time": "2022-03-17T15:55:37.113Z"
   },
   {
    "duration": 1956,
    "start_time": "2022-03-17T15:55:37.645Z"
   },
   {
    "duration": 8,
    "start_time": "2022-03-17T15:55:39.603Z"
   },
   {
    "duration": 8,
    "start_time": "2022-03-17T15:55:39.612Z"
   },
   {
    "duration": 7,
    "start_time": "2022-03-17T15:55:39.637Z"
   },
   {
    "duration": 1507,
    "start_time": "2022-03-18T05:05:34.488Z"
   },
   {
    "duration": 423,
    "start_time": "2022-03-18T05:05:37.821Z"
   },
   {
    "duration": 21,
    "start_time": "2022-03-18T05:05:38.346Z"
   },
   {
    "duration": 22,
    "start_time": "2022-03-18T05:05:39.557Z"
   },
   {
    "duration": 19,
    "start_time": "2022-03-18T05:05:39.845Z"
   },
   {
    "duration": 12,
    "start_time": "2022-03-18T05:05:40.143Z"
   },
   {
    "duration": 19,
    "start_time": "2022-03-18T05:05:40.753Z"
   },
   {
    "duration": 12,
    "start_time": "2022-03-18T05:05:41.233Z"
   },
   {
    "duration": 11,
    "start_time": "2022-03-18T05:05:44.023Z"
   },
   {
    "duration": 46,
    "start_time": "2022-03-18T05:05:45.041Z"
   },
   {
    "duration": 227,
    "start_time": "2022-03-18T05:05:45.461Z"
   },
   {
    "duration": 7,
    "start_time": "2022-03-18T05:05:45.884Z"
   },
   {
    "duration": 6,
    "start_time": "2022-03-18T05:05:48.217Z"
   },
   {
    "duration": 6,
    "start_time": "2022-03-18T05:05:49.154Z"
   },
   {
    "duration": 6,
    "start_time": "2022-03-18T05:05:50.547Z"
   },
   {
    "duration": 3,
    "start_time": "2022-03-18T05:05:57.338Z"
   },
   {
    "duration": 5,
    "start_time": "2022-03-18T05:06:00.264Z"
   },
   {
    "duration": 5,
    "start_time": "2022-03-18T05:06:10.592Z"
   },
   {
    "duration": 12,
    "start_time": "2022-03-18T05:06:13.135Z"
   },
   {
    "duration": 11,
    "start_time": "2022-03-18T05:06:15.201Z"
   },
   {
    "duration": 11,
    "start_time": "2022-03-18T05:06:16.299Z"
   },
   {
    "duration": 2882,
    "start_time": "2022-03-18T05:06:33.170Z"
   },
   {
    "duration": 12,
    "start_time": "2022-03-18T05:06:39.301Z"
   },
   {
    "duration": 9,
    "start_time": "2022-03-18T05:06:44.856Z"
   },
   {
    "duration": 10,
    "start_time": "2022-03-18T05:06:47.382Z"
   },
   {
    "duration": 126,
    "start_time": "2022-03-18T05:08:44.802Z"
   },
   {
    "duration": 12,
    "start_time": "2022-03-18T05:08:55.077Z"
   },
   {
    "duration": 11,
    "start_time": "2022-03-18T05:09:05.773Z"
   },
   {
    "duration": 4,
    "start_time": "2022-03-18T05:09:18.706Z"
   },
   {
    "duration": 12,
    "start_time": "2022-03-18T09:29:47.760Z"
   },
   {
    "duration": 10,
    "start_time": "2022-03-18T09:30:07.786Z"
   },
   {
    "duration": 12,
    "start_time": "2022-03-18T09:30:12.398Z"
   },
   {
    "duration": 12,
    "start_time": "2022-03-18T09:30:20.883Z"
   },
   {
    "duration": 12,
    "start_time": "2022-03-18T09:30:29.870Z"
   }
  ],
  "kernelspec": {
   "display_name": "Python 3 (ipykernel)",
   "language": "python",
   "name": "python3"
  },
  "language_info": {
   "codemirror_mode": {
    "name": "ipython",
    "version": 3
   },
   "file_extension": ".py",
   "mimetype": "text/x-python",
   "name": "python",
   "nbconvert_exporter": "python",
   "pygments_lexer": "ipython3",
   "version": "3.9.7"
  },
  "toc": {
   "base_numbering": 1,
   "nav_menu": {},
   "number_sections": true,
   "sideBar": true,
   "skip_h1_title": true,
   "title_cell": "Table of Contents",
   "title_sidebar": "Contents",
   "toc_cell": false,
   "toc_position": {},
   "toc_section_display": true,
   "toc_window_display": false
  }
 },
 "nbformat": 4,
 "nbformat_minor": 2
}
